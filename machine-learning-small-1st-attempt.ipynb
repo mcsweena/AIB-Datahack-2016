{
 "cells": [
  {
   "cell_type": "markdown",
   "metadata": {},
   "source": [
    "# AIB DataHack\n",
    "\n",
    "Ok let's give this machine learning malarkey a go...\n",
    "\n",
    "## Data Import and Initial Prep"
   ]
  },
  {
   "cell_type": "code",
   "execution_count": 6,
   "metadata": {},
   "outputs": [],
   "source": [
    "# library imports\n",
    "import numpy as np\n",
    "import pandas as pd\n",
    "import matplotlib.pyplot as plt\n",
    "import seaborn as sns\n",
    "\n",
    "from sklearn.preprocessing import StandardScaler\n",
    "from sklearn.model_selection import train_test_split\n",
    "from sklearn.ensemble import RandomForestClassifier\n",
    "from sklearn.metrics import accuracy_score, f1_score, confusion_matrix\n",
    "\n",
    "import warnings\n",
    "warnings.filterwarnings('ignore')\n",
    "\n",
    "%matplotlib inline"
   ]
  },
  {
   "cell_type": "code",
   "execution_count": 7,
   "metadata": {},
   "outputs": [
    {
     "ename": "ModuleNotFoundError",
     "evalue": "No module named 'keras'",
     "output_type": "error",
     "traceback": [
      "\u001b[1;31m---------------------------------------------------------------------------\u001b[0m",
      "\u001b[1;31mModuleNotFoundError\u001b[0m                       Traceback (most recent call last)",
      "\u001b[1;32m<ipython-input-7-edf3101355a1>\u001b[0m in \u001b[0;36m<module>\u001b[1;34m()\u001b[0m\n\u001b[1;32m----> 1\u001b[1;33m \u001b[1;32mimport\u001b[0m \u001b[0mkeras\u001b[0m\u001b[1;33m\u001b[0m\u001b[0m\n\u001b[0m\u001b[0;32m      2\u001b[0m \u001b[0mkeras\u001b[0m\u001b[1;33m.\u001b[0m\u001b[0m__version__\u001b[0m\u001b[1;33m\u001b[0m\u001b[0m\n",
      "\u001b[1;31mModuleNotFoundError\u001b[0m: No module named 'keras'"
     ]
    }
   ],
   "source": [
    "import keras\n",
    "keras.__version__"
   ]
  },
  {
   "cell_type": "code",
   "execution_count": 3,
   "metadata": {},
   "outputs": [
    {
     "data": {
      "text/plain": [
       "(4999, 82)"
      ]
     },
     "execution_count": 3,
     "metadata": {},
     "output_type": "execute_result"
    }
   ],
   "source": [
    "# data import\n",
    "df = pd.read_csv('data/training_small_processed.csv')\n",
    "df.shape"
   ]
  },
  {
   "cell_type": "code",
   "execution_count": 4,
   "metadata": {},
   "outputs": [
    {
     "data": {
      "text/html": [
       "<div>\n",
       "<style>\n",
       "    .dataframe thead tr:only-child th {\n",
       "        text-align: right;\n",
       "    }\n",
       "\n",
       "    .dataframe thead th {\n",
       "        text-align: left;\n",
       "    }\n",
       "\n",
       "    .dataframe tbody tr th {\n",
       "        vertical-align: top;\n",
       "    }\n",
       "</style>\n",
       "<table border=\"1\" class=\"dataframe\">\n",
       "  <thead>\n",
       "    <tr style=\"text-align: right;\">\n",
       "      <th></th>\n",
       "      <th>BuildingID</th>\n",
       "      <th>Year</th>\n",
       "      <th>EnergyRatingCat</th>\n",
       "      <th>EnergyRatingCont</th>\n",
       "      <th>GroundFloorArea</th>\n",
       "      <th>AvgWallU</th>\n",
       "      <th>AvgRoofU</th>\n",
       "      <th>AvgFloorU</th>\n",
       "      <th>AvgWindowU</th>\n",
       "      <th>AvgDoorU</th>\n",
       "      <th>...</th>\n",
       "      <th>ProdFirstEnerDelivered</th>\n",
       "      <th>ProdFirstEnerConvFac</th>\n",
       "      <th>ProdSecondEnerDelivered</th>\n",
       "      <th>ProdSecondEnerConvFac</th>\n",
       "      <th>ProdThirdEnerDelivered</th>\n",
       "      <th>ProdThirdEnerConvFac</th>\n",
       "      <th>PrimaryEnergySecondarySpace</th>\n",
       "      <th>EnergyMainWater</th>\n",
       "      <th>MainSHFuel_cat</th>\n",
       "      <th>MainWHFuel_cat</th>\n",
       "    </tr>\n",
       "  </thead>\n",
       "  <tbody>\n",
       "    <tr>\n",
       "      <th>0</th>\n",
       "      <td>190835</td>\n",
       "      <td>1890</td>\n",
       "      <td>F</td>\n",
       "      <td>418.42</td>\n",
       "      <td>52.04</td>\n",
       "      <td>2.10</td>\n",
       "      <td>2.30</td>\n",
       "      <td>0.61</td>\n",
       "      <td>2.71</td>\n",
       "      <td>3.000000</td>\n",
       "      <td>...</td>\n",
       "      <td>0.0</td>\n",
       "      <td>0.0</td>\n",
       "      <td>0.0</td>\n",
       "      <td>0.0</td>\n",
       "      <td>0.0</td>\n",
       "      <td>0.0</td>\n",
       "      <td>0.000</td>\n",
       "      <td>2335.6809</td>\n",
       "      <td>3</td>\n",
       "      <td>4</td>\n",
       "    </tr>\n",
       "    <tr>\n",
       "      <th>1</th>\n",
       "      <td>523113</td>\n",
       "      <td>1901</td>\n",
       "      <td>G</td>\n",
       "      <td>520.35</td>\n",
       "      <td>147.44</td>\n",
       "      <td>2.01</td>\n",
       "      <td>0.75</td>\n",
       "      <td>0.94</td>\n",
       "      <td>2.63</td>\n",
       "      <td>3.960000</td>\n",
       "      <td>...</td>\n",
       "      <td>0.0</td>\n",
       "      <td>0.0</td>\n",
       "      <td>0.0</td>\n",
       "      <td>0.0</td>\n",
       "      <td>0.0</td>\n",
       "      <td>0.0</td>\n",
       "      <td>7144.838</td>\n",
       "      <td>4470.0759</td>\n",
       "      <td>3</td>\n",
       "      <td>4</td>\n",
       "    </tr>\n",
       "    <tr>\n",
       "      <th>2</th>\n",
       "      <td>271393</td>\n",
       "      <td>1968</td>\n",
       "      <td>D2</td>\n",
       "      <td>281.33</td>\n",
       "      <td>104.84</td>\n",
       "      <td>0.38</td>\n",
       "      <td>0.13</td>\n",
       "      <td>0.68</td>\n",
       "      <td>2.81</td>\n",
       "      <td>2.482515</td>\n",
       "      <td>...</td>\n",
       "      <td>0.0</td>\n",
       "      <td>0.0</td>\n",
       "      <td>0.0</td>\n",
       "      <td>0.0</td>\n",
       "      <td>0.0</td>\n",
       "      <td>0.0</td>\n",
       "      <td>2127.347</td>\n",
       "      <td>5837.4729</td>\n",
       "      <td>3</td>\n",
       "      <td>4</td>\n",
       "    </tr>\n",
       "    <tr>\n",
       "      <th>3</th>\n",
       "      <td>585961</td>\n",
       "      <td>2002</td>\n",
       "      <td>C2</td>\n",
       "      <td>188.17</td>\n",
       "      <td>95.31</td>\n",
       "      <td>0.55</td>\n",
       "      <td>0.26</td>\n",
       "      <td>0.34</td>\n",
       "      <td>2.80</td>\n",
       "      <td>3.030000</td>\n",
       "      <td>...</td>\n",
       "      <td>0.0</td>\n",
       "      <td>0.0</td>\n",
       "      <td>0.0</td>\n",
       "      <td>0.0</td>\n",
       "      <td>0.0</td>\n",
       "      <td>0.0</td>\n",
       "      <td>2771.886</td>\n",
       "      <td>3769.6248</td>\n",
       "      <td>5</td>\n",
       "      <td>6</td>\n",
       "    </tr>\n",
       "    <tr>\n",
       "      <th>4</th>\n",
       "      <td>624083</td>\n",
       "      <td>2002</td>\n",
       "      <td>B3</td>\n",
       "      <td>134.95</td>\n",
       "      <td>283.87</td>\n",
       "      <td>0.55</td>\n",
       "      <td>0.26</td>\n",
       "      <td>0.41</td>\n",
       "      <td>3.10</td>\n",
       "      <td>3.010000</td>\n",
       "      <td>...</td>\n",
       "      <td>0.0</td>\n",
       "      <td>0.0</td>\n",
       "      <td>0.0</td>\n",
       "      <td>0.0</td>\n",
       "      <td>0.0</td>\n",
       "      <td>0.0</td>\n",
       "      <td>0.000</td>\n",
       "      <td>5296.5828</td>\n",
       "      <td>5</td>\n",
       "      <td>6</td>\n",
       "    </tr>\n",
       "  </tbody>\n",
       "</table>\n",
       "<p>5 rows × 82 columns</p>\n",
       "</div>"
      ],
      "text/plain": [
       "   BuildingID  Year EnergyRatingCat  EnergyRatingCont  GroundFloorArea  \\\n",
       "0      190835  1890              F             418.42            52.04   \n",
       "1      523113  1901              G             520.35           147.44   \n",
       "2      271393  1968              D2            281.33           104.84   \n",
       "3      585961  2002              C2            188.17            95.31   \n",
       "4      624083  2002              B3            134.95           283.87   \n",
       "\n",
       "   AvgWallU  AvgRoofU  AvgFloorU  AvgWindowU  AvgDoorU       ...        \\\n",
       "0      2.10      2.30       0.61        2.71  3.000000       ...         \n",
       "1      2.01      0.75       0.94        2.63  3.960000       ...         \n",
       "2      0.38      0.13       0.68        2.81  2.482515       ...         \n",
       "3      0.55      0.26       0.34        2.80  3.030000       ...         \n",
       "4      0.55      0.26       0.41        3.10  3.010000       ...         \n",
       "\n",
       "   ProdFirstEnerDelivered  ProdFirstEnerConvFac  ProdSecondEnerDelivered  \\\n",
       "0                     0.0                   0.0                      0.0   \n",
       "1                     0.0                   0.0                      0.0   \n",
       "2                     0.0                   0.0                      0.0   \n",
       "3                     0.0                   0.0                      0.0   \n",
       "4                     0.0                   0.0                      0.0   \n",
       "\n",
       "   ProdSecondEnerConvFac  ProdThirdEnerDelivered  ProdThirdEnerConvFac  \\\n",
       "0                    0.0                     0.0                   0.0   \n",
       "1                    0.0                     0.0                   0.0   \n",
       "2                    0.0                     0.0                   0.0   \n",
       "3                    0.0                     0.0                   0.0   \n",
       "4                    0.0                     0.0                   0.0   \n",
       "\n",
       "  PrimaryEnergySecondarySpace EnergyMainWater  MainSHFuel_cat  MainWHFuel_cat  \n",
       "0                       0.000       2335.6809               3               4  \n",
       "1                    7144.838       4470.0759               3               4  \n",
       "2                    2127.347       5837.4729               3               4  \n",
       "3                    2771.886       3769.6248               5               6  \n",
       "4                       0.000       5296.5828               5               6  \n",
       "\n",
       "[5 rows x 82 columns]"
      ]
     },
     "execution_count": 4,
     "metadata": {},
     "output_type": "execute_result"
    }
   ],
   "source": [
    "df.head()"
   ]
  },
  {
   "cell_type": "code",
   "execution_count": 28,
   "metadata": {},
   "outputs": [
    {
     "data": {
      "text/plain": [
       "0    F \n",
       "1    G \n",
       "2    D2\n",
       "3    C2\n",
       "4    B3\n",
       "Name: EnergyRatingCat, dtype: object"
      ]
     },
     "execution_count": 28,
     "metadata": {},
     "output_type": "execute_result"
    }
   ],
   "source": [
    "target = train['EnergyRatingCat']\n",
    "del train['EnergyRatingCat']\n",
    "del train['EnergyRatingCont']\n",
    "del train['MainSHFuel']\n",
    "del train['MainWHFuel']\n",
    "target.head()"
   ]
  },
  {
   "cell_type": "markdown",
   "metadata": {},
   "source": [
    "## First Model"
   ]
  },
  {
   "cell_type": "markdown",
   "metadata": {
    "collapsed": true
   },
   "source": [
    "Ok first, lets split the data into training and testing sets. For this initial attempt, I'm going to just use the U values to train the model: AvgWallU, AvgRoofU,AvgFloorU, AvgWindowU and AvgDoorU."
   ]
  },
  {
   "cell_type": "code",
   "execution_count": 29,
   "metadata": {
    "collapsed": true
   },
   "outputs": [],
   "source": [
    "cols = ['AvgWallU', 'AvgRoofU','AvgFloorU', 'AvgWindowU', 'AvgDoorU']\n",
    "X = train[cols]"
   ]
  },
  {
   "cell_type": "code",
   "execution_count": 30,
   "metadata": {},
   "outputs": [
    {
     "data": {
      "text/plain": [
       "AvgWallU      0\n",
       "AvgRoofU      0\n",
       "AvgFloorU     0\n",
       "AvgWindowU    0\n",
       "AvgDoorU      0\n",
       "dtype: int64"
      ]
     },
     "execution_count": 30,
     "metadata": {},
     "output_type": "execute_result"
    }
   ],
   "source": [
    "# Quick check to make sure there's no null values in any of the columns\n",
    "X.isnull().sum()"
   ]
  },
  {
   "cell_type": "code",
   "execution_count": 34,
   "metadata": {
    "collapsed": true
   },
   "outputs": [],
   "source": [
    "# Convert string categories to numerical representation\n",
    "y = target.copy().astype('category').cat.codes"
   ]
  },
  {
   "cell_type": "code",
   "execution_count": 35,
   "metadata": {
    "collapsed": true
   },
   "outputs": [],
   "source": [
    "# train/test split\n",
    "train_X, test_X, train_y, test_y = train_test_split(X, y)"
   ]
  },
  {
   "cell_type": "code",
   "execution_count": 36,
   "metadata": {},
   "outputs": [
    {
     "data": {
      "text/plain": [
       "(3749, 5)"
      ]
     },
     "execution_count": 36,
     "metadata": {},
     "output_type": "execute_result"
    }
   ],
   "source": [
    "train_X.shape"
   ]
  },
  {
   "cell_type": "code",
   "execution_count": 38,
   "metadata": {},
   "outputs": [
    {
     "data": {
      "text/plain": [
       "RandomForestClassifier(bootstrap=True, class_weight=None, criterion='gini',\n",
       "            max_depth=None, max_features='auto', max_leaf_nodes=None,\n",
       "            min_impurity_decrease=0.0, min_impurity_split=None,\n",
       "            min_samples_leaf=1, min_samples_split=2,\n",
       "            min_weight_fraction_leaf=0.0, n_estimators=10, n_jobs=1,\n",
       "            oob_score=False, random_state=None, verbose=0,\n",
       "            warm_start=False)"
      ]
     },
     "execution_count": 38,
     "metadata": {},
     "output_type": "execute_result"
    }
   ],
   "source": [
    "my_model = RandomForestClassifier()\n",
    "my_model.fit(train_X, train_y)"
   ]
  },
  {
   "cell_type": "code",
   "execution_count": 43,
   "metadata": {
    "collapsed": true
   },
   "outputs": [],
   "source": [
    "y_pred = my_model.predict(test_X)"
   ]
  },
  {
   "cell_type": "code",
   "execution_count": 44,
   "metadata": {},
   "outputs": [
    {
     "data": {
      "text/plain": [
       "0.2384"
      ]
     },
     "execution_count": 44,
     "metadata": {},
     "output_type": "execute_result"
    }
   ],
   "source": [
    "# heads up accuracy\n",
    "accuracy_score(test_y, y_pred)"
   ]
  },
  {
   "cell_type": "code",
   "execution_count": 51,
   "metadata": {},
   "outputs": [
    {
     "name": "stdout",
     "output_type": "stream",
     "text": [
      "Weighted:  0.233533188098\n",
      "Macro:  0.215401575134\n",
      "Micro:  0.2384\n"
     ]
    }
   ],
   "source": [
    "# F1 Score\n",
    "print('Weighted: ', f1_score(test_y, y_pred, average='weighted'))\n",
    "print('Macro: ', f1_score(test_y, y_pred, average='macro'))\n",
    "print('Micro: ', f1_score(test_y, y_pred, average='micro'))"
   ]
  },
  {
   "cell_type": "code",
   "execution_count": 74,
   "metadata": {},
   "outputs": [
    {
     "data": {
      "text/plain": [
       "array([[ 0,  0,  1,  0,  0,  0,  0,  0,  0,  0,  0,  0,  0,  0,  0],\n",
       "       [ 0,  0,  3,  1,  0,  0,  0,  0,  0,  0,  0,  0,  0,  0,  0],\n",
       "       [ 0,  1, 30,  1,  3,  0,  1,  0,  0,  0,  0,  0,  0,  0,  0],\n",
       "       [ 0,  0,  5,  1,  6,  9,  1,  0,  0,  0,  1,  0,  0,  0,  0],\n",
       "       [ 0,  0,  6,  3, 10, 10,  5,  2,  2,  2,  1,  1,  0,  0,  0],\n",
       "       [ 0,  0,  2,  2,  8, 27, 23, 12,  9,  8,  3,  2,  0,  0,  0],\n",
       "       [ 0,  0,  1,  1,  6, 20, 24, 17, 14, 15,  8,  2,  2,  0,  2],\n",
       "       [ 0,  0,  0,  0,  5, 14, 27, 40, 26, 21, 16,  2,  1,  3,  1],\n",
       "       [ 0,  0,  0,  0,  5, 11, 17, 35, 39, 31, 22,  3,  3,  2,  0],\n",
       "       [ 0,  0,  0,  0,  2, 12, 15, 25, 26, 35, 33, 15,  6,  3,  2],\n",
       "       [ 0,  0,  0,  0,  2,  7, 14, 18, 24, 27, 24,  7,  5,  6,  3],\n",
       "       [ 0,  0,  0,  0,  0,  2,  7,  8,  4, 15, 19, 11,  4,  7,  7],\n",
       "       [ 0,  0,  0,  0,  0,  2,  2,  6,  5,  9, 17,  8,  4,  6,  9],\n",
       "       [ 0,  0,  0,  0,  0,  0,  3,  2,  5,  9,  6,  2,  4, 14, 17],\n",
       "       [ 0,  0,  0,  0,  0,  1,  1,  0,  2,  6, 10,  6,  5, 17, 39]], dtype=int64)"
      ]
     },
     "execution_count": 74,
     "metadata": {},
     "output_type": "execute_result"
    }
   ],
   "source": [
    "# confusion matrix\n",
    "cm = confusion_matrix(test_y, y_pred)\n",
    "cm.diagonal().sum()/cm.sum()\n",
    "cm"
   ]
  },
  {
   "cell_type": "markdown",
   "metadata": {},
   "source": [
    "## Second Model\n",
    "\n",
    "Lets use the exact same model except create dummy variables for the target labels instead of encoding them numerically."
   ]
  },
  {
   "cell_type": "code",
   "execution_count": 75,
   "metadata": {},
   "outputs": [
    {
     "data": {
      "text/html": [
       "<div>\n",
       "<style>\n",
       "    .dataframe thead tr:only-child th {\n",
       "        text-align: right;\n",
       "    }\n",
       "\n",
       "    .dataframe thead th {\n",
       "        text-align: left;\n",
       "    }\n",
       "\n",
       "    .dataframe tbody tr th {\n",
       "        vertical-align: top;\n",
       "    }\n",
       "</style>\n",
       "<table border=\"1\" class=\"dataframe\">\n",
       "  <thead>\n",
       "    <tr style=\"text-align: right;\">\n",
       "      <th></th>\n",
       "      <th>A1</th>\n",
       "      <th>A2</th>\n",
       "      <th>A3</th>\n",
       "      <th>B1</th>\n",
       "      <th>B2</th>\n",
       "      <th>B3</th>\n",
       "      <th>C1</th>\n",
       "      <th>C2</th>\n",
       "      <th>C3</th>\n",
       "      <th>D1</th>\n",
       "      <th>D2</th>\n",
       "      <th>E1</th>\n",
       "      <th>E2</th>\n",
       "      <th>F</th>\n",
       "      <th>G</th>\n",
       "    </tr>\n",
       "  </thead>\n",
       "  <tbody>\n",
       "    <tr>\n",
       "      <th>0</th>\n",
       "      <td>0</td>\n",
       "      <td>0</td>\n",
       "      <td>0</td>\n",
       "      <td>0</td>\n",
       "      <td>0</td>\n",
       "      <td>0</td>\n",
       "      <td>0</td>\n",
       "      <td>0</td>\n",
       "      <td>0</td>\n",
       "      <td>0</td>\n",
       "      <td>0</td>\n",
       "      <td>0</td>\n",
       "      <td>0</td>\n",
       "      <td>1</td>\n",
       "      <td>0</td>\n",
       "    </tr>\n",
       "    <tr>\n",
       "      <th>1</th>\n",
       "      <td>0</td>\n",
       "      <td>0</td>\n",
       "      <td>0</td>\n",
       "      <td>0</td>\n",
       "      <td>0</td>\n",
       "      <td>0</td>\n",
       "      <td>0</td>\n",
       "      <td>0</td>\n",
       "      <td>0</td>\n",
       "      <td>0</td>\n",
       "      <td>0</td>\n",
       "      <td>0</td>\n",
       "      <td>0</td>\n",
       "      <td>0</td>\n",
       "      <td>1</td>\n",
       "    </tr>\n",
       "    <tr>\n",
       "      <th>2</th>\n",
       "      <td>0</td>\n",
       "      <td>0</td>\n",
       "      <td>0</td>\n",
       "      <td>0</td>\n",
       "      <td>0</td>\n",
       "      <td>0</td>\n",
       "      <td>0</td>\n",
       "      <td>0</td>\n",
       "      <td>0</td>\n",
       "      <td>0</td>\n",
       "      <td>1</td>\n",
       "      <td>0</td>\n",
       "      <td>0</td>\n",
       "      <td>0</td>\n",
       "      <td>0</td>\n",
       "    </tr>\n",
       "    <tr>\n",
       "      <th>3</th>\n",
       "      <td>0</td>\n",
       "      <td>0</td>\n",
       "      <td>0</td>\n",
       "      <td>0</td>\n",
       "      <td>0</td>\n",
       "      <td>0</td>\n",
       "      <td>0</td>\n",
       "      <td>1</td>\n",
       "      <td>0</td>\n",
       "      <td>0</td>\n",
       "      <td>0</td>\n",
       "      <td>0</td>\n",
       "      <td>0</td>\n",
       "      <td>0</td>\n",
       "      <td>0</td>\n",
       "    </tr>\n",
       "    <tr>\n",
       "      <th>4</th>\n",
       "      <td>0</td>\n",
       "      <td>0</td>\n",
       "      <td>0</td>\n",
       "      <td>0</td>\n",
       "      <td>0</td>\n",
       "      <td>1</td>\n",
       "      <td>0</td>\n",
       "      <td>0</td>\n",
       "      <td>0</td>\n",
       "      <td>0</td>\n",
       "      <td>0</td>\n",
       "      <td>0</td>\n",
       "      <td>0</td>\n",
       "      <td>0</td>\n",
       "      <td>0</td>\n",
       "    </tr>\n",
       "  </tbody>\n",
       "</table>\n",
       "</div>"
      ],
      "text/plain": [
       "   A1  A2  A3  B1  B2  B3  C1  C2  C3  D1  D2  E1  E2  F   G \n",
       "0   0   0   0   0   0   0   0   0   0   0   0   0   0   1   0\n",
       "1   0   0   0   0   0   0   0   0   0   0   0   0   0   0   1\n",
       "2   0   0   0   0   0   0   0   0   0   0   1   0   0   0   0\n",
       "3   0   0   0   0   0   0   0   1   0   0   0   0   0   0   0\n",
       "4   0   0   0   0   0   1   0   0   0   0   0   0   0   0   0"
      ]
     },
     "execution_count": 75,
     "metadata": {},
     "output_type": "execute_result"
    }
   ],
   "source": [
    "y = pd.get_dummies(target)\n",
    "y.head()"
   ]
  },
  {
   "cell_type": "code",
   "execution_count": 76,
   "metadata": {},
   "outputs": [
    {
     "data": {
      "text/plain": [
       "(3749, 5)"
      ]
     },
     "execution_count": 76,
     "metadata": {},
     "output_type": "execute_result"
    }
   ],
   "source": [
    "train_X, test_X, train_y, test_y = train_test_split(X, y)\n",
    "train_X.shape"
   ]
  },
  {
   "cell_type": "code",
   "execution_count": 77,
   "metadata": {},
   "outputs": [
    {
     "data": {
      "text/plain": [
       "(3749, 15)"
      ]
     },
     "execution_count": 77,
     "metadata": {},
     "output_type": "execute_result"
    }
   ],
   "source": [
    "train_y.shape"
   ]
  },
  {
   "cell_type": "code",
   "execution_count": 78,
   "metadata": {},
   "outputs": [
    {
     "data": {
      "text/plain": [
       "RandomForestClassifier(bootstrap=True, class_weight=None, criterion='gini',\n",
       "            max_depth=None, max_features='auto', max_leaf_nodes=None,\n",
       "            min_impurity_decrease=0.0, min_impurity_split=None,\n",
       "            min_samples_leaf=1, min_samples_split=2,\n",
       "            min_weight_fraction_leaf=0.0, n_estimators=10, n_jobs=1,\n",
       "            oob_score=False, random_state=None, verbose=0,\n",
       "            warm_start=False)"
      ]
     },
     "execution_count": 78,
     "metadata": {},
     "output_type": "execute_result"
    }
   ],
   "source": [
    "my_model2 = RandomForestClassifier()\n",
    "my_model2.fit(train_X, train_y)"
   ]
  },
  {
   "cell_type": "code",
   "execution_count": 88,
   "metadata": {
    "collapsed": true
   },
   "outputs": [],
   "source": [
    "y_pred = my_model2.predict(test_X)"
   ]
  },
  {
   "cell_type": "code",
   "execution_count": 89,
   "metadata": {},
   "outputs": [
    {
     "data": {
      "text/plain": [
       "0.099199999999999997"
      ]
     },
     "execution_count": 89,
     "metadata": {},
     "output_type": "execute_result"
    }
   ],
   "source": [
    "# heads up accuracy\n",
    "accuracy_score(test_y, y_pred)"
   ]
  },
  {
   "cell_type": "code",
   "execution_count": 90,
   "metadata": {},
   "outputs": [
    {
     "name": "stdout",
     "output_type": "stream",
     "text": [
      "Weighted:  0.139004528481\n",
      "Macro:  0.145979501323\n",
      "Micro:  0.153560371517\n"
     ]
    }
   ],
   "source": [
    "# F1 Score\n",
    "print('Weighted: ', f1_score(test_y, y_pred, average='weighted'))\n",
    "print('Macro: ', f1_score(test_y, y_pred, average='macro'))\n",
    "print('Micro: ', f1_score(test_y, y_pred, average='micro'))"
   ]
  }
 ],
 "metadata": {
  "kernelspec": {
   "display_name": "Python 3",
   "language": "python",
   "name": "python3"
  },
  "language_info": {
   "codemirror_mode": {
    "name": "ipython",
    "version": 3
   },
   "file_extension": ".py",
   "mimetype": "text/x-python",
   "name": "python",
   "nbconvert_exporter": "python",
   "pygments_lexer": "ipython3",
   "version": "3.6.3"
  }
 },
 "nbformat": 4,
 "nbformat_minor": 2
}
