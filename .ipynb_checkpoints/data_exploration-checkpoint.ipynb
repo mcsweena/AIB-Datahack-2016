{
 "cells": [
  {
   "cell_type": "markdown",
   "metadata": {},
   "source": [
    "# AIB Datahack\n",
    "\n",
    "So, during my year back in college, studying for an M.Sc in Business Analytics at UCD Smurfit, myself and my good buddy @Pete decided to take on the AIB Datahack which was held in, I think, November 2016. The Datahack was hosted by AIB in their head office in Dublin, and consisted of a full days work (8 hours) tackling a machine learning problem. \n",
    "\n",
    "The problem we were presented with that morning was a supervised learning problem. Using what we know, could we find a good algorithm to learn and accurately predict energy ratings for houses in Ireland. We went into the competition confident that we knew what we were doing, but quickly realised we'd a lot to learn. All, in all, it was a worthwhile experience and focused us both on what we needed to learn over the coming months.\n",
    "\n",
    "Now that I've completed my course and have returned to work, I'm going to try and tackle the problem again, and see if I can do a little better this time around.\n",
    "\n",
    "First off, using this very useful Kernal I found on Kaggle (https://www.kaggle.com/pmarcelino/comprehensive-data-exploration-with-python) I'm going to do a full data exploration of the data we were given for the competition. Once that is complete, I'll dive into some real machine learning.\n",
    "\n",
    "So without further adieu...lets get stuck in!"
   ]
  },
  {
   "cell_type": "markdown",
   "metadata": {},
   "source": [
    "## Itinerary \n",
    "\n",
    "What I hope to tackle in this notebook is as follows:\n",
    "1. **Understand the problem.** We'll look at each variable and do a philosophical analysis about their meaning and importance for this problem.\n",
    "\n",
    "2. **Univariable study.** We'll just focus on the dependent variable and try to know a little bit more about it.\n",
    "\n",
    "3. **Multivariate study.** We'll try to understand how the dependent variable and independent variables relate.\n",
    "\n",
    "4. **Basic cleaning.** We'll clean the dataset and handle the missing data, outliers and categorical variables.\n",
    "\n",
    "5. **Test assumptions.** We'll check if our data meets the assumptions required by most multivariate techniques."
   ]
  },
  {
   "cell_type": "code",
   "execution_count": 22,
   "metadata": {},
   "outputs": [],
   "source": [
    "# Import libraries\n",
    "import numpy as np\n",
    "import pandas as pd\n",
    "import matplotlib.pyplot as plt\n",
    "import seaborn as sns\n",
    "\n",
    "%matplotlib inline"
   ]
  },
  {
   "cell_type": "markdown",
   "metadata": {},
   "source": [
    "So the training data set is pretty big. I'm going to read it all into memory for now but further down the line I plan on looking at better ways of doing this."
   ]
  },
  {
   "cell_type": "code",
   "execution_count": 8,
   "metadata": {},
   "outputs": [
    {
     "data": {
      "text/html": [
       "<div>\n",
       "<style scoped>\n",
       "    .dataframe tbody tr th:only-of-type {\n",
       "        vertical-align: middle;\n",
       "    }\n",
       "\n",
       "    .dataframe tbody tr th {\n",
       "        vertical-align: top;\n",
       "    }\n",
       "\n",
       "    .dataframe thead th {\n",
       "        text-align: right;\n",
       "    }\n",
       "</style>\n",
       "<table border=\"1\" class=\"dataframe\">\n",
       "  <thead>\n",
       "    <tr style=\"text-align: right;\">\n",
       "      <th></th>\n",
       "      <th>County</th>\n",
       "      <th>Type</th>\n",
       "      <th>Year</th>\n",
       "      <th>RatingType</th>\n",
       "      <th>EnergyRatingCat</th>\n",
       "      <th>EnergyRatingCont</th>\n",
       "      <th>GroundFloorArea</th>\n",
       "      <th>AvgWallU</th>\n",
       "      <th>AvgRoofU</th>\n",
       "      <th>AvgFloorU</th>\n",
       "      <th>...</th>\n",
       "      <th>EffSecondHeatGenPlant</th>\n",
       "      <th>PercSecondHeat</th>\n",
       "      <th>FuelTypeThirdBoiler</th>\n",
       "      <th>EffThirdHeatGenPlant</th>\n",
       "      <th>PercThirdHeat</th>\n",
       "      <th>HeatingSystemSolarSpace</th>\n",
       "      <th>TotPrimaryEnergyFac</th>\n",
       "      <th>TotCO2Emissions</th>\n",
       "      <th>PrimaryEnergySecondarySpace</th>\n",
       "      <th>EnergyMainWater</th>\n",
       "    </tr>\n",
       "    <tr>\n",
       "      <th>BuildingID</th>\n",
       "      <th></th>\n",
       "      <th></th>\n",
       "      <th></th>\n",
       "      <th></th>\n",
       "      <th></th>\n",
       "      <th></th>\n",
       "      <th></th>\n",
       "      <th></th>\n",
       "      <th></th>\n",
       "      <th></th>\n",
       "      <th></th>\n",
       "      <th></th>\n",
       "      <th></th>\n",
       "      <th></th>\n",
       "      <th></th>\n",
       "      <th></th>\n",
       "      <th></th>\n",
       "      <th></th>\n",
       "      <th></th>\n",
       "      <th></th>\n",
       "      <th></th>\n",
       "    </tr>\n",
       "  </thead>\n",
       "  <tbody>\n",
       "    <tr>\n",
       "      <th>190835</th>\n",
       "      <td>Co. Wexford</td>\n",
       "      <td>Mid-terrace house</td>\n",
       "      <td>Y1890.0</td>\n",
       "      <td>Existing</td>\n",
       "      <td>F</td>\n",
       "      <td>418.42</td>\n",
       "      <td>52.04 sq. m</td>\n",
       "      <td>2.10</td>\n",
       "      <td>2.30</td>\n",
       "      <td>0.61</td>\n",
       "      <td>...</td>\n",
       "      <td>NaN</td>\n",
       "      <td>NaN</td>\n",
       "      <td>NaN</td>\n",
       "      <td>NaN</td>\n",
       "      <td>NaN</td>\n",
       "      <td>NaN</td>\n",
       "      <td>NaN</td>\n",
       "      <td>NaN</td>\n",
       "      <td>0.000</td>\n",
       "      <td>2335.6809</td>\n",
       "    </tr>\n",
       "    <tr>\n",
       "      <th>523113</th>\n",
       "      <td>Co. Clare</td>\n",
       "      <td>Detached house</td>\n",
       "      <td>Y1901.0</td>\n",
       "      <td>Existing</td>\n",
       "      <td>G</td>\n",
       "      <td>520.35</td>\n",
       "      <td>147.44 sq. m</td>\n",
       "      <td>2.01</td>\n",
       "      <td>0.75</td>\n",
       "      <td>0.94</td>\n",
       "      <td>...</td>\n",
       "      <td>NaN</td>\n",
       "      <td>NaN</td>\n",
       "      <td>NaN</td>\n",
       "      <td>NaN</td>\n",
       "      <td>NaN</td>\n",
       "      <td>NaN</td>\n",
       "      <td>NaN</td>\n",
       "      <td>NaN</td>\n",
       "      <td>7144.838</td>\n",
       "      <td>4470.0759</td>\n",
       "    </tr>\n",
       "    <tr>\n",
       "      <th>271393</th>\n",
       "      <td>Co. Kerry</td>\n",
       "      <td>Detached house</td>\n",
       "      <td>Y1968.0</td>\n",
       "      <td>Existing</td>\n",
       "      <td>D2</td>\n",
       "      <td>281.33</td>\n",
       "      <td>104.84 sq. m</td>\n",
       "      <td>0.38</td>\n",
       "      <td>0.13</td>\n",
       "      <td>0.68</td>\n",
       "      <td>...</td>\n",
       "      <td>NaN</td>\n",
       "      <td>NaN</td>\n",
       "      <td>NaN</td>\n",
       "      <td>NaN</td>\n",
       "      <td>NaN</td>\n",
       "      <td>NaN</td>\n",
       "      <td>NaN</td>\n",
       "      <td>NaN</td>\n",
       "      <td>2127.347</td>\n",
       "      <td>5837.4729</td>\n",
       "    </tr>\n",
       "    <tr>\n",
       "      <th>585961</th>\n",
       "      <td>Co. Cork</td>\n",
       "      <td>Semi-detached house</td>\n",
       "      <td>Y2002.0</td>\n",
       "      <td>Existing</td>\n",
       "      <td>C2</td>\n",
       "      <td>188.17</td>\n",
       "      <td>95.31 sq. m</td>\n",
       "      <td>0.55</td>\n",
       "      <td>0.26</td>\n",
       "      <td>0.34</td>\n",
       "      <td>...</td>\n",
       "      <td>NaN</td>\n",
       "      <td>NaN</td>\n",
       "      <td>NaN</td>\n",
       "      <td>NaN</td>\n",
       "      <td>NaN</td>\n",
       "      <td>NaN</td>\n",
       "      <td>NaN</td>\n",
       "      <td>NaN</td>\n",
       "      <td>2771.886</td>\n",
       "      <td>3769.6248</td>\n",
       "    </tr>\n",
       "    <tr>\n",
       "      <th>624083</th>\n",
       "      <td>Co. Laois</td>\n",
       "      <td>Detached house</td>\n",
       "      <td>Y2002.0</td>\n",
       "      <td>Existing</td>\n",
       "      <td>B3</td>\n",
       "      <td>134.95</td>\n",
       "      <td>283.87 sq. m</td>\n",
       "      <td>0.55</td>\n",
       "      <td>0.26</td>\n",
       "      <td>0.41</td>\n",
       "      <td>...</td>\n",
       "      <td>NaN</td>\n",
       "      <td>NaN</td>\n",
       "      <td>NaN</td>\n",
       "      <td>NaN</td>\n",
       "      <td>NaN</td>\n",
       "      <td>NaN</td>\n",
       "      <td>NaN</td>\n",
       "      <td>NaN</td>\n",
       "      <td>0.000</td>\n",
       "      <td>5296.5828</td>\n",
       "    </tr>\n",
       "  </tbody>\n",
       "</table>\n",
       "<p>5 rows × 140 columns</p>\n",
       "</div>"
      ],
      "text/plain": [
       "                 County                 Type     Year       RatingType  \\\n",
       "BuildingID                                                               \n",
       "190835      Co. Wexford    Mid-terrace house  Y1890.0  Existing          \n",
       "523113        Co. Clare       Detached house  Y1901.0  Existing          \n",
       "271393        Co. Kerry       Detached house  Y1968.0  Existing          \n",
       "585961         Co. Cork  Semi-detached house  Y2002.0  Existing          \n",
       "624083        Co. Laois       Detached house  Y2002.0  Existing          \n",
       "\n",
       "           EnergyRatingCat  EnergyRatingCont GroundFloorArea  AvgWallU  \\\n",
       "BuildingID                                                               \n",
       "190835                  F             418.42     52.04 sq. m      2.10   \n",
       "523113                  G             520.35    147.44 sq. m      2.01   \n",
       "271393                  D2            281.33    104.84 sq. m      0.38   \n",
       "585961                  C2            188.17     95.31 sq. m      0.55   \n",
       "624083                  B3            134.95    283.87 sq. m      0.55   \n",
       "\n",
       "            AvgRoofU  AvgFloorU       ...        EffSecondHeatGenPlant  \\\n",
       "BuildingID                            ...                                \n",
       "190835          2.30       0.61       ...                          NaN   \n",
       "523113          0.75       0.94       ...                          NaN   \n",
       "271393          0.13       0.68       ...                          NaN   \n",
       "585961          0.26       0.34       ...                          NaN   \n",
       "624083          0.26       0.41       ...                          NaN   \n",
       "\n",
       "            PercSecondHeat  FuelTypeThirdBoiler  EffThirdHeatGenPlant  \\\n",
       "BuildingID                                                              \n",
       "190835                 NaN                  NaN                   NaN   \n",
       "523113                 NaN                  NaN                   NaN   \n",
       "271393                 NaN                  NaN                   NaN   \n",
       "585961                 NaN                  NaN                   NaN   \n",
       "624083                 NaN                  NaN                   NaN   \n",
       "\n",
       "            PercThirdHeat  HeatingSystemSolarSpace  TotPrimaryEnergyFac  \\\n",
       "BuildingID                                                                \n",
       "190835                NaN                      NaN                  NaN   \n",
       "523113                NaN                      NaN                  NaN   \n",
       "271393                NaN                      NaN                  NaN   \n",
       "585961                NaN                      NaN                  NaN   \n",
       "624083                NaN                      NaN                  NaN   \n",
       "\n",
       "            TotCO2Emissions PrimaryEnergySecondarySpace EnergyMainWater  \n",
       "BuildingID                                                               \n",
       "190835                  NaN                       0.000       2335.6809  \n",
       "523113                  NaN                    7144.838       4470.0759  \n",
       "271393                  NaN                    2127.347       5837.4729  \n",
       "585961                  NaN                    2771.886       3769.6248  \n",
       "624083                  NaN                       0.000       5296.5828  \n",
       "\n",
       "[5 rows x 140 columns]"
      ]
     },
     "execution_count": 8,
     "metadata": {},
     "output_type": "execute_result"
    }
   ],
   "source": [
    "# Data Import\n",
    "df = pd.read_csv(\"large_data/training.txt\", sep='\\t', encoding='ISO-8859-1', header=0, low_memory=False, index_col=0)\n",
    "\n",
    "df.head()"
   ]
  },
  {
   "cell_type": "code",
   "execution_count": 9,
   "metadata": {},
   "outputs": [
    {
     "data": {
      "text/plain": [
       "Index(['County', 'Type', 'Year', 'RatingType', 'EnergyRatingCat',\n",
       "       'EnergyRatingCont', 'GroundFloorArea', 'AvgWallU', 'AvgRoofU',\n",
       "       'AvgFloorU',\n",
       "       ...\n",
       "       'EffSecondHeatGenPlant', 'PercSecondHeat', 'FuelTypeThirdBoiler',\n",
       "       'EffThirdHeatGenPlant', 'PercThirdHeat', 'HeatingSystemSolarSpace',\n",
       "       'TotPrimaryEnergyFac', 'TotCO2Emissions', 'PrimaryEnergySecondarySpace',\n",
       "       'EnergyMainWater'],\n",
       "      dtype='object', length=140)"
      ]
     },
     "execution_count": 9,
     "metadata": {},
     "output_type": "execute_result"
    }
   ],
   "source": [
    "# Lets check the columns\n",
    "df.columns"
   ]
  },
  {
   "cell_type": "markdown",
   "metadata": {},
   "source": [
    "141 columns, thats a lot of information to work with. Two of these however are the target variables so I'm going to split these out into their own seperate dataframe."
   ]
  },
  {
   "cell_type": "code",
   "execution_count": 16,
   "metadata": {},
   "outputs": [],
   "source": [
    "target_cols = ['EnergyRatingCat', 'EnergyRatingCont']\n",
    "\n",
    "target = df.loc[:,target_cols]\n",
    "training = df.drop(target_cols, axis='columns')"
   ]
  },
  {
   "cell_type": "markdown",
   "metadata": {},
   "source": [
    "## Variable Exploration"
   ]
  },
  {
   "cell_type": "markdown",
   "metadata": {},
   "source": [
    "In order to have some discipline in our analysis, we can create an Excel spreadsheet with the following columns:\n",
    "\n",
    "* Variable - Variable name.\n",
    "* Type - Identification of the variables' type. There are two possible values for this field: 'numerical' or 'categorical'. By 'numerical' we mean variables for which the values are numbers, and by 'categorical' we mean variables for which the values are categories.\n",
    "* Segment - Identification of the variables' segment. We can define three possible segments: building, space or location. When we say 'building', we mean a variable that relates to the physical characteristics of the building (e.g. 'OverallQual'). When we say 'space', we mean a variable that reports space properties of the house (e.g. 'TotalBsmtSF'). Finally, when we say a 'location', we mean a variable that gives information about the place where the house is located (e.g. 'Neighborhood').\n",
    "* Expectation - Our expectation about the variable influence in 'SalePrice'. We can use a categorical scale with 'High', 'Medium' and 'Low' as possible values.\n",
    "* Conclusion - Our conclusions about the importance of the variable, after we give a quick look at the data. We can keep with the same categorical scale as in 'Expectation'.\n",
    "* Comments - Any general comments that occured to us.\n",
    "\n",
    "\n",
    "**THIS IS VERY MUCH TBD**"
   ]
  },
  {
   "cell_type": "markdown",
   "metadata": {},
   "source": [
    "## Data Exploration\n",
    "With the above task complete, lets do the interesting stuff....exploring the data!\n",
    "\n",
    "We have two columns in our target variable dataframe: EnergyRatingCat and EnergyRatingCont. \n",
    "\n",
    "1. **EnergyRatingCat** is the categorical energy rating given to the property (A, B1, C2, etc.)\n",
    "2. **EnergyRatingCont** on the otherhand is an numerical rating given to the property."
   ]
  },
  {
   "cell_type": "code",
   "execution_count": 38,
   "metadata": {},
   "outputs": [
    {
     "data": {
      "text/plain": [
       "count     464502\n",
       "unique        15\n",
       "top           D1\n",
       "freq       61134\n",
       "Name: EnergyRatingCat, dtype: object"
      ]
     },
     "execution_count": 38,
     "metadata": {},
     "output_type": "execute_result"
    }
   ],
   "source": [
    "# EnergyRatingCat\n",
    "target.loc[:, 'EnergyRatingCat'].describe()"
   ]
  },
  {
   "cell_type": "code",
   "execution_count": 39,
   "metadata": {},
   "outputs": [
    {
     "data": {
      "text/plain": [
       "0"
      ]
     },
     "execution_count": 39,
     "metadata": {},
     "output_type": "execute_result"
    }
   ],
   "source": [
    "# Is there any null values in this column?\n",
    "target.loc[:, 'EnergyRatingCat'].isnull().sum()"
   ]
  },
  {
   "cell_type": "markdown",
   "metadata": {},
   "source": [
    "Null values aren't very useful to use, so lets from them."
   ]
  },
  {
   "cell_type": "code",
   "execution_count": 43,
   "metadata": {},
   "outputs": [],
   "source": [
    "target = target.drop(target.loc[target['EnergyRatingCat'].isnull()].index)"
   ]
  },
  {
   "cell_type": "code",
   "execution_count": 44,
   "metadata": {},
   "outputs": [
    {
     "data": {
      "text/plain": [
       "<matplotlib.axes._subplots.AxesSubplot at 0x11c5daef0>"
      ]
     },
     "execution_count": 44,
     "metadata": {},
     "output_type": "execute_result"
    },
    {
     "data": {
      "image/png": "[encoded data removed]",
      "text/plain": [
       "<matplotlib.figure.Figure at 0x116fb0da0>"
      ]
     },
     "metadata": {},
     "output_type": "display_data"
    }
   ],
   "source": [
    "target.loc[:, 'EnergyRatingCat'].value_counts().plot(kind='bar')"
   ]
  },
  {
   "cell_type": "markdown",
   "metadata": {},
   "source": [
    "Very quickly we see a unbalance in the data towards poorly rated houses, with D1, C2 and C3 appearing most frequently in the data set. Conversely, A1 and A2 are by far the least prevalent."
   ]
  },
  {
   "cell_type": "code",
   "execution_count": 45,
   "metadata": {},
   "outputs": [
    {
     "data": {
      "text/plain": [
       "count    464502.000000\n",
       "mean        260.502160\n",
       "std         208.511406\n",
       "min         -63.960000\n",
       "25%         175.280000\n",
       "50%         224.290000\n",
       "75%         299.120000\n",
       "max       56423.710000\n",
       "Name: EnergyRatingCont, dtype: float64"
      ]
     },
     "execution_count": 45,
     "metadata": {},
     "output_type": "execute_result"
    }
   ],
   "source": [
    "# EnergyRatingCont\n",
    "target.loc[:, 'EnergyRatingCont'].describe()"
   ]
  },
  {
   "cell_type": "code",
   "execution_count": 46,
   "metadata": {},
   "outputs": [
    {
     "data": {
      "text/plain": [
       "0"
      ]
     },
     "execution_count": 46,
     "metadata": {},
     "output_type": "execute_result"
    }
   ],
   "source": [
    "# Is there any null values in this column?\n",
    "target.loc[:, 'EnergyRatingCont'].isnull().sum()"
   ]
  },
  {
   "cell_type": "code",
   "execution_count": 47,
   "metadata": {},
   "outputs": [
    {
     "data": {
      "image/png": "[encoded data removed]",
      "text/plain": [
       "<matplotlib.figure.Figure at 0x11d62ab00>"
      ]
     },
     "metadata": {},
     "output_type": "display_data"
    }
   ],
   "source": [
    "sns.distplot(target['EnergyRatingCont']);"
   ]
  },
  {
   "cell_type": "markdown",
   "metadata": {},
   "source": [
    "Hmmm...this doesn't look right. Surely there is some sort of outlier skewing this. Lets look at values above 1,000."
   ]
  },
  {
   "cell_type": "code",
   "execution_count": 52,
   "metadata": {},
   "outputs": [
    {
     "data": {
      "text/html": [
       "<div>\n",
       "<style scoped>\n",
       "    .dataframe tbody tr th:only-of-type {\n",
       "        vertical-align: middle;\n",
       "    }\n",
       "\n",
       "    .dataframe tbody tr th {\n",
       "        vertical-align: top;\n",
       "    }\n",
       "\n",
       "    .dataframe thead th {\n",
       "        text-align: right;\n",
       "    }\n",
       "</style>\n",
       "<table border=\"1\" class=\"dataframe\">\n",
       "  <thead>\n",
       "    <tr style=\"text-align: right;\">\n",
       "      <th></th>\n",
       "      <th>EnergyRatingCat</th>\n",
       "      <th>EnergyRatingCont</th>\n",
       "    </tr>\n",
       "    <tr>\n",
       "      <th>BuildingID</th>\n",
       "      <th></th>\n",
       "      <th></th>\n",
       "    </tr>\n",
       "  </thead>\n",
       "  <tbody>\n",
       "    <tr>\n",
       "      <th>212192</th>\n",
       "      <td>G</td>\n",
       "      <td>1459.77</td>\n",
       "    </tr>\n",
       "    <tr>\n",
       "      <th>644207</th>\n",
       "      <td>G</td>\n",
       "      <td>1284.08</td>\n",
       "    </tr>\n",
       "    <tr>\n",
       "      <th>283437</th>\n",
       "      <td>G</td>\n",
       "      <td>1525.85</td>\n",
       "    </tr>\n",
       "    <tr>\n",
       "      <th>133323</th>\n",
       "      <td>G</td>\n",
       "      <td>1079.74</td>\n",
       "    </tr>\n",
       "    <tr>\n",
       "      <th>513850</th>\n",
       "      <td>G</td>\n",
       "      <td>1200.34</td>\n",
       "    </tr>\n",
       "  </tbody>\n",
       "</table>\n",
       "</div>"
      ],
      "text/plain": [
       "           EnergyRatingCat  EnergyRatingCont\n",
       "BuildingID                                  \n",
       "212192                  G            1459.77\n",
       "644207                  G            1284.08\n",
       "283437                  G            1525.85\n",
       "133323                  G            1079.74\n",
       "513850                  G            1200.34"
      ]
     },
     "execution_count": 52,
     "metadata": {},
     "output_type": "execute_result"
    }
   ],
   "source": [
    "outliers = target[target.loc[:, 'EnergyRatingCont']>1000]\n",
    "outliers"
   ]
  },
  {
   "cell_type": "markdown",
   "metadata": {},
   "source": [
    "Ok so we can clearly see that the higher on the scale you go, the worse the energy rating your house will get. Out of curiosity, lets look at the distribution without houses rated above 1000."
   ]
  },
  {
   "cell_type": "code",
   "execution_count": 70,
   "metadata": {},
   "outputs": [
    {
     "data": {
      "text/html": [
       "<div>\n",
       "<style scoped>\n",
       "    .dataframe tbody tr th:only-of-type {\n",
       "        vertical-align: middle;\n",
       "    }\n",
       "\n",
       "    .dataframe tbody tr th {\n",
       "        vertical-align: top;\n",
       "    }\n",
       "\n",
       "    .dataframe thead th {\n",
       "        text-align: right;\n",
       "    }\n",
       "</style>\n",
       "<table border=\"1\" class=\"dataframe\">\n",
       "  <thead>\n",
       "    <tr style=\"text-align: right;\">\n",
       "      <th></th>\n",
       "      <th>EnergyRatingCat</th>\n",
       "      <th>EnergyRatingCont</th>\n",
       "    </tr>\n",
       "    <tr>\n",
       "      <th>BuildingID</th>\n",
       "      <th></th>\n",
       "      <th></th>\n",
       "    </tr>\n",
       "  </thead>\n",
       "  <tbody>\n",
       "    <tr>\n",
       "      <th>190835</th>\n",
       "      <td>F</td>\n",
       "      <td>418.42</td>\n",
       "    </tr>\n",
       "    <tr>\n",
       "      <th>523113</th>\n",
       "      <td>G</td>\n",
       "      <td>520.35</td>\n",
       "    </tr>\n",
       "    <tr>\n",
       "      <th>271393</th>\n",
       "      <td>D2</td>\n",
       "      <td>281.33</td>\n",
       "    </tr>\n",
       "    <tr>\n",
       "      <th>585961</th>\n",
       "      <td>C2</td>\n",
       "      <td>188.17</td>\n",
       "    </tr>\n",
       "    <tr>\n",
       "      <th>624083</th>\n",
       "      <td>B3</td>\n",
       "      <td>134.95</td>\n",
       "    </tr>\n",
       "  </tbody>\n",
       "</table>\n",
       "</div>"
      ],
      "text/plain": [
       "           EnergyRatingCat  EnergyRatingCont\n",
       "BuildingID                                  \n",
       "190835                  F             418.42\n",
       "523113                  G             520.35\n",
       "271393                  D2            281.33\n",
       "585961                  C2            188.17\n",
       "624083                  B3            134.95"
      ]
     },
     "execution_count": 70,
     "metadata": {},
     "output_type": "execute_result"
    }
   ],
   "source": [
    "target_1000 = target[target.EnergyRatingCont < 1000]\n",
    "target_1000.head()"
   ]
  },
  {
   "cell_type": "code",
   "execution_count": 71,
   "metadata": {},
   "outputs": [
    {
     "data": {
      "image/png": "[encoded data removed]",
      "text/plain": [
       "<matplotlib.figure.Figure at 0x116c739b0>"
      ]
     },
     "metadata": {},
     "output_type": "display_data"
    }
   ],
   "source": [
    "sns.distplot(target_1000['EnergyRatingCont']);"
   ]
  },
  {
   "cell_type": "markdown",
   "metadata": {},
   "source": [
    "Observations:\n",
    "1. Deviatea from the normal distribution.\n",
    "2. Has appreciable positive skewness.\n",
    "3. Shows peakedness."
   ]
  },
  {
   "cell_type": "code",
   "execution_count": 74,
   "metadata": {},
   "outputs": [
    {
     "name": "stdout",
     "output_type": "stream",
     "text": [
      "Skewness: 90.929173\n",
      "Kurtosis: 18601.644571\n"
     ]
    }
   ],
   "source": [
    "#skewness and kurtosis\n",
    "print(\"Skewness: %f\" % target['EnergyRatingCont'].skew())\n",
    "print(\"Kurtosis: %f\" % target['EnergyRatingCont'].kurt())"
   ]
  },
  {
   "cell_type": "code",
   "execution_count": 75,
   "metadata": {},
   "outputs": [
    {
     "name": "stdout",
     "output_type": "stream",
     "text": [
      "Skewness: 1.888031\n",
      "Kurtosis: 5.466775\n"
     ]
    }
   ],
   "source": [
    "#skewness and kurtosis\n",
    "print(\"Skewness: %f\" % target_1000['EnergyRatingCont'].skew())\n",
    "print(\"Kurtosis: %f\" % target_1000['EnergyRatingCont'].kurt())"
   ]
  },
  {
   "cell_type": "code",
   "execution_count": null,
   "metadata": {},
   "outputs": [],
   "source": []
  }
 ],
 "metadata": {
  "kernelspec": {
   "display_name": "Python 3",
   "language": "python",
   "name": "python3"
  },
  "language_info": {
   "codemirror_mode": {
    "name": "ipython",
    "version": 3
   },
   "file_extension": ".py",
   "mimetype": "text/x-python",
   "name": "python",
   "nbconvert_exporter": "python",
   "pygments_lexer": "ipython3",
   "version": "3.6.3"
  }
 },
 "nbformat": 4,
 "nbformat_minor": 2
}
