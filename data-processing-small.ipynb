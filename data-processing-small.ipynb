{
 "cells": [
  {
   "cell_type": "markdown",
   "metadata": {},
   "source": [
    "# AIB Datahack\n",
    "## Data Processing\n",
    "\n",
    "So with our exploration complete, lets clean up the data and get it ready for our machine learning models. A few things to do.\n",
    "* Replace null values - Lets initially replace with the mean value of that variable\n",
    "* Replace zero values in certain variables\n"
   ]
  },
  {
   "cell_type": "code",
   "execution_count": 47,
   "metadata": {
    "collapsed": true
   },
   "outputs": [],
   "source": [
    "# library imports\n",
    "import numpy as np\n",
    "import pandas as pd\n",
    "import matplotlib.pyplot as plt\n",
    "import seaborn as sns\n",
    "\n",
    "from scipy.stats import norm\n",
    "from sklearn.preprocessing import StandardScaler\n",
    "from scipy import stats\n",
    "\n",
    "import warnings\n",
    "warnings.filterwarnings('ignore')\n",
    "\n",
    "%matplotlib inline"
   ]
  },
  {
   "cell_type": "code",
   "execution_count": 4,
   "metadata": {},
   "outputs": [
    {
     "data": {
      "text/html": [
       "<div>\n",
       "<style>\n",
       "    .dataframe thead tr:only-child th {\n",
       "        text-align: right;\n",
       "    }\n",
       "\n",
       "    .dataframe thead th {\n",
       "        text-align: left;\n",
       "    }\n",
       "\n",
       "    .dataframe tbody tr th {\n",
       "        vertical-align: top;\n",
       "    }\n",
       "</style>\n",
       "<table border=\"1\" class=\"dataframe\">\n",
       "  <thead>\n",
       "    <tr style=\"text-align: right;\">\n",
       "      <th></th>\n",
       "      <th>County</th>\n",
       "      <th>Type</th>\n",
       "      <th>Year</th>\n",
       "      <th>RatingType</th>\n",
       "      <th>EnergyRatingCat</th>\n",
       "      <th>EnergyRatingCont</th>\n",
       "      <th>GroundFloorArea</th>\n",
       "      <th>AvgWallU</th>\n",
       "      <th>AvgRoofU</th>\n",
       "      <th>AvgFloorU</th>\n",
       "      <th>...</th>\n",
       "      <th>EffSecondHeatGenPlant</th>\n",
       "      <th>PercSecondHeat</th>\n",
       "      <th>FuelTypeThirdBoiler</th>\n",
       "      <th>EffThirdHeatGenPlant</th>\n",
       "      <th>PercThirdHeat</th>\n",
       "      <th>HeatingSystemSolarSpace</th>\n",
       "      <th>TotPrimaryEnergyFac</th>\n",
       "      <th>TotCO2Emissions</th>\n",
       "      <th>PrimaryEnergySecondarySpace</th>\n",
       "      <th>EnergyMainWater</th>\n",
       "    </tr>\n",
       "    <tr>\n",
       "      <th>BuildingID</th>\n",
       "      <th></th>\n",
       "      <th></th>\n",
       "      <th></th>\n",
       "      <th></th>\n",
       "      <th></th>\n",
       "      <th></th>\n",
       "      <th></th>\n",
       "      <th></th>\n",
       "      <th></th>\n",
       "      <th></th>\n",
       "      <th></th>\n",
       "      <th></th>\n",
       "      <th></th>\n",
       "      <th></th>\n",
       "      <th></th>\n",
       "      <th></th>\n",
       "      <th></th>\n",
       "      <th></th>\n",
       "      <th></th>\n",
       "      <th></th>\n",
       "      <th></th>\n",
       "    </tr>\n",
       "  </thead>\n",
       "  <tbody>\n",
       "    <tr>\n",
       "      <th>190835</th>\n",
       "      <td>Co. Wexford</td>\n",
       "      <td>Mid-terrace house</td>\n",
       "      <td>Y1890.0</td>\n",
       "      <td>Existing</td>\n",
       "      <td>F</td>\n",
       "      <td>418.42</td>\n",
       "      <td>52.04 sq. m</td>\n",
       "      <td>2.10</td>\n",
       "      <td>2.30</td>\n",
       "      <td>0.61</td>\n",
       "      <td>...</td>\n",
       "      <td>NaN</td>\n",
       "      <td>NaN</td>\n",
       "      <td>NaN</td>\n",
       "      <td>NaN</td>\n",
       "      <td>NaN</td>\n",
       "      <td>NaN</td>\n",
       "      <td>NaN</td>\n",
       "      <td>NaN</td>\n",
       "      <td>0.000</td>\n",
       "      <td>2335.6809</td>\n",
       "    </tr>\n",
       "    <tr>\n",
       "      <th>523113</th>\n",
       "      <td>Co. Clare</td>\n",
       "      <td>Detached house</td>\n",
       "      <td>Y1901.0</td>\n",
       "      <td>Existing</td>\n",
       "      <td>G</td>\n",
       "      <td>520.35</td>\n",
       "      <td>147.44 sq. m</td>\n",
       "      <td>2.01</td>\n",
       "      <td>0.75</td>\n",
       "      <td>0.94</td>\n",
       "      <td>...</td>\n",
       "      <td>NaN</td>\n",
       "      <td>NaN</td>\n",
       "      <td>NaN</td>\n",
       "      <td>NaN</td>\n",
       "      <td>NaN</td>\n",
       "      <td>NaN</td>\n",
       "      <td>NaN</td>\n",
       "      <td>NaN</td>\n",
       "      <td>7144.838</td>\n",
       "      <td>4470.0759</td>\n",
       "    </tr>\n",
       "    <tr>\n",
       "      <th>271393</th>\n",
       "      <td>Co. Kerry</td>\n",
       "      <td>Detached house</td>\n",
       "      <td>Y1968.0</td>\n",
       "      <td>Existing</td>\n",
       "      <td>D2</td>\n",
       "      <td>281.33</td>\n",
       "      <td>104.84 sq. m</td>\n",
       "      <td>0.38</td>\n",
       "      <td>0.13</td>\n",
       "      <td>0.68</td>\n",
       "      <td>...</td>\n",
       "      <td>NaN</td>\n",
       "      <td>NaN</td>\n",
       "      <td>NaN</td>\n",
       "      <td>NaN</td>\n",
       "      <td>NaN</td>\n",
       "      <td>NaN</td>\n",
       "      <td>NaN</td>\n",
       "      <td>NaN</td>\n",
       "      <td>2127.347</td>\n",
       "      <td>5837.4729</td>\n",
       "    </tr>\n",
       "  </tbody>\n",
       "</table>\n",
       "<p>3 rows × 140 columns</p>\n",
       "</div>"
      ],
      "text/plain": [
       "                 County               Type     Year       RatingType  \\\n",
       "BuildingID                                                             \n",
       "190835      Co. Wexford  Mid-terrace house  Y1890.0  Existing          \n",
       "523113        Co. Clare     Detached house  Y1901.0  Existing          \n",
       "271393        Co. Kerry     Detached house  Y1968.0  Existing          \n",
       "\n",
       "           EnergyRatingCat  EnergyRatingCont GroundFloorArea  AvgWallU  \\\n",
       "BuildingID                                                               \n",
       "190835                  F             418.42     52.04 sq. m      2.10   \n",
       "523113                  G             520.35    147.44 sq. m      2.01   \n",
       "271393                  D2            281.33    104.84 sq. m      0.38   \n",
       "\n",
       "            AvgRoofU  AvgFloorU       ...        EffSecondHeatGenPlant  \\\n",
       "BuildingID                            ...                                \n",
       "190835          2.30       0.61       ...                          NaN   \n",
       "523113          0.75       0.94       ...                          NaN   \n",
       "271393          0.13       0.68       ...                          NaN   \n",
       "\n",
       "            PercSecondHeat  FuelTypeThirdBoiler  EffThirdHeatGenPlant  \\\n",
       "BuildingID                                                              \n",
       "190835                 NaN                  NaN                   NaN   \n",
       "523113                 NaN                  NaN                   NaN   \n",
       "271393                 NaN                  NaN                   NaN   \n",
       "\n",
       "            PercThirdHeat  HeatingSystemSolarSpace  TotPrimaryEnergyFac  \\\n",
       "BuildingID                                                                \n",
       "190835                NaN                      NaN                  NaN   \n",
       "523113                NaN                      NaN                  NaN   \n",
       "271393                NaN                      NaN                  NaN   \n",
       "\n",
       "            TotCO2Emissions PrimaryEnergySecondarySpace EnergyMainWater  \n",
       "BuildingID                                                               \n",
       "190835                  NaN                       0.000       2335.6809  \n",
       "523113                  NaN                    7144.838       4470.0759  \n",
       "271393                  NaN                    2127.347       5837.4729  \n",
       "\n",
       "[3 rows x 140 columns]"
      ]
     },
     "execution_count": 4,
     "metadata": {},
     "output_type": "execute_result"
    }
   ],
   "source": [
    "# data import \n",
    "df = pd.read_csv(\"data/training_small.txt\", sep='\\t', encoding='ISO-8859-1', header=0, low_memory=False, index_col=0)\n",
    "\n",
    "df.head(3)"
   ]
  },
  {
   "cell_type": "markdown",
   "metadata": {},
   "source": [
    "## Remove columns \n",
    "Our data exploration gave us a good insight into what columns could prove useful for machine learning algorithms, and which may not. Lets only keep the columns that we believe to be useful."
   ]
  },
  {
   "cell_type": "code",
   "execution_count": 5,
   "metadata": {},
   "outputs": [
    {
     "data": {
      "text/plain": [
       "(4999, 79)"
      ]
     },
     "execution_count": 5,
     "metadata": {},
     "output_type": "execute_result"
    }
   ],
   "source": [
    "cols = ['Year', 'EnergyRatingCat', 'EnergyRatingCont', 'GroundFloorArea',\n",
    "       'AvgWallU', 'AvgRoofU', 'AvgFloorU', 'AvgWindowU', 'AvgDoorU',\n",
    "       'ExposedWallArea', 'ExposedRoofArea', 'TotFloorArea', 'TotWindowArea',\n",
    "       'TotDoorArea', 'NStoreys', 'MainSHFuel', 'MainWHFuel',\n",
    "       'MainSHEfficiency', 'BuildingReg', 'MainSHAdj', 'SecSHFrac',\n",
    "       'SecSHEfficiency', 'MainWHEfficiency', 'MainWHAdj', 'SecSHFuel',\n",
    "       'SecWHFuel', 'NChimneys', 'NOpenFlues', 'NFansVents',\n",
    "       'PercDraughtStripped', 'NShelteredSides', 'PermTestResult', 'TempAdj',\n",
    "       'ControlCat', 'ResponseCat', 'NCHPumps', 'NGasFans', 'DistLoss',\n",
    "       'VolWaterStorage', 'TempFac', 'TempFacMult', 'HWInsulationThickness',\n",
    "       'LightingEnergy', 'PumpsAndFansEnergy', 'MainWaterEnergy',\n",
    "       'PrimaryLightingEnergy', 'PrimaryPumpsFansEnergy',\n",
    "       'PrimaryMainWaterEnergy', 'PrimaryMainSpaceEnergy', 'LightingCO2',\n",
    "       'PumpsAndFansCO2', 'MainWaterCO2', 'MainSpaceCO2', 'AreaGroundFloor',\n",
    "       'HeightGroundFloor', 'AreaFirstFloor', 'HeightFirstFloor',\n",
    "       'AreaSecondFloor', 'BridgingFac', 'LargestRoofTypeArea',\n",
    "       'PercLowEnergy', 'TotEnergy', 'SecSpaceEnergy', 'SecWaterEnergy',\n",
    "       'SecSpaceCO2', 'SecWaterCO2', 'SecSpacePrimaryEnergy',\n",
    "       'SecWaterPrimaryEnergy', 'UpgradeHES', 'RoofAreaRoom', 'FirstEnerType',\n",
    "       'ProdFirstEnerDelivered', 'ProdFirstEnerConvFac',\n",
    "       'ProdSecondEnerDelivered', 'ProdSecondEnerConvFac',\n",
    "       'ProdThirdEnerDelivered', 'ProdThirdEnerConvFac',\n",
    "       'PrimaryEnergySecondarySpace', 'EnergyMainWater']\n",
    "\n",
    "df = df[cols]\n",
    "df.shape"
   ]
  },
  {
   "cell_type": "markdown",
   "metadata": {},
   "source": [
    "This gives us a reduced dataframe with a mix of numerical and categorical features. Lets deal with the categorical features first.\n",
    "\n",
    "## Processing Categorical Features"
   ]
  },
  {
   "cell_type": "code",
   "execution_count": 6,
   "metadata": {},
   "outputs": [
    {
     "data": {
      "text/plain": [
       "Index(['Year', 'EnergyRatingCat', 'GroundFloorArea', 'MainSHFuel',\n",
       "       'MainWHFuel'],\n",
       "      dtype='object')"
      ]
     },
     "execution_count": 6,
     "metadata": {},
     "output_type": "execute_result"
    }
   ],
   "source": [
    "g = df.columns.to_series().groupby(df.dtypes).groups\n",
    "dtype_dict = {k.name: v for k, v in g.items()}\n",
    "dtype_dict['object']"
   ]
  },
  {
   "cell_type": "markdown",
   "metadata": {},
   "source": [
    "### Year\n",
    "The 'Year' feature should already be numerical, but for some reason all values have a 'Y' at the beginning. We'll quickly remove this and finish with this feature."
   ]
  },
  {
   "cell_type": "code",
   "execution_count": 7,
   "metadata": {},
   "outputs": [
    {
     "data": {
      "text/plain": [
       "BuildingID\n",
       "190835    1890\n",
       "523113    1901\n",
       "271393    1968\n",
       "Name: Year, dtype: int64"
      ]
     },
     "execution_count": 7,
     "metadata": {},
     "output_type": "execute_result"
    }
   ],
   "source": [
    "df['Year'] = df['Year'].map(lambda x: int(float(x[1:])))\n",
    "df['Year'].head(3)"
   ]
  },
  {
   "cell_type": "markdown",
   "metadata": {},
   "source": [
    "### GroundFloorArea\n",
    "Similarly, the 'GroundFloorArea' feature should be numerical, but it has 'sq. m' at the end of each value. Again, we'll quickly remove this and finish with the feature."
   ]
  },
  {
   "cell_type": "code",
   "execution_count": 8,
   "metadata": {},
   "outputs": [
    {
     "data": {
      "text/plain": [
       "BuildingID\n",
       "190835     52.04\n",
       "523113    147.44\n",
       "271393    104.84\n",
       "Name: GroundFloorArea, dtype: float64"
      ]
     },
     "execution_count": 8,
     "metadata": {},
     "output_type": "execute_result"
    }
   ],
   "source": [
    "df['GroundFloorArea'] = df['GroundFloorArea'].apply(lambda x: float(x[:-5]))\n",
    "df['GroundFloorArea'].head(3)"
   ]
  },
  {
   "cell_type": "markdown",
   "metadata": {},
   "source": [
    "### MainSHFuel"
   ]
  },
  {
   "cell_type": "code",
   "execution_count": 9,
   "metadata": {},
   "outputs": [
    {
     "data": {
      "text/plain": [
       "BuildingID\n",
       "190835    Heating Oil                   \n",
       "523113    Heating Oil                   \n",
       "271393    Heating Oil                   \n",
       "Name: MainSHFuel, dtype: object"
      ]
     },
     "execution_count": 9,
     "metadata": {},
     "output_type": "execute_result"
    }
   ],
   "source": [
    "df['MainSHFuel'].head(3)"
   ]
  },
  {
   "cell_type": "code",
   "execution_count": 10,
   "metadata": {},
   "outputs": [
    {
     "data": {
      "text/plain": [
       "62"
      ]
     },
     "execution_count": 10,
     "metadata": {},
     "output_type": "execute_result"
    }
   ],
   "source": [
    "# Lets check for null values\n",
    "df['MainSHFuel'].isnull().sum()"
   ]
  },
  {
   "cell_type": "code",
   "execution_count": 11,
   "metadata": {
    "collapsed": true
   },
   "outputs": [],
   "source": [
    "# Ok there's some null values, this is ok, we can work with this. Ideally I'd like to assign each value to a category \n",
    "# whos median Energy Rating most closely matches the null values Energy Rating.\n",
    "\n",
    "def closest_match(num, med_dict):\n",
    "    return med_dict[min(med_dict, key=lambda x:abs(x-num))]"
   ]
  },
  {
   "cell_type": "code",
   "execution_count": 12,
   "metadata": {},
   "outputs": [
    {
     "data": {
      "text/plain": [
       "{129.66: 'Wood Pellets (bulk supply for ',\n",
       " 174.91999999999999: 'Wood Pellets (in bags for seco',\n",
       " 190.91: 'Bulk LPG (propane or butane)  ',\n",
       " 199.25999999999999: 'Mains Gas                     ',\n",
       " 220.38999999999999: 'Heating Oil                   ',\n",
       " 231.91: 'Bottled LPG                   ',\n",
       " 255.12: 'Peat Briquettes               ',\n",
       " 296.31: 'Electricity                   ',\n",
       " 369.22000000000003: 'Solid Multi-Fuel              ',\n",
       " 378.37: 'House Coal                    ',\n",
       " 381.01999999999998: 'Sod Peat                      ',\n",
       " 443.41000000000003: 'Manufactured Smokeless Fuel   ',\n",
       " 482.64999999999998: 'Wood Logs                     '}"
      ]
     },
     "execution_count": 12,
     "metadata": {},
     "output_type": "execute_result"
    }
   ],
   "source": [
    "# Category median values\n",
    "msf_med_dict = df.groupby(['MainSHFuel']).median()['EnergyRatingCont'].to_dict()\n",
    "\n",
    "# invert dictionary\n",
    "msf_med_dict = dict([v,k] for k,v in msf_med_dict.items())\n",
    "msf_med_dict"
   ]
  },
  {
   "cell_type": "code",
   "execution_count": 13,
   "metadata": {},
   "outputs": [
    {
     "data": {
      "text/html": [
       "<div>\n",
       "<style>\n",
       "    .dataframe thead tr:only-child th {\n",
       "        text-align: right;\n",
       "    }\n",
       "\n",
       "    .dataframe thead th {\n",
       "        text-align: left;\n",
       "    }\n",
       "\n",
       "    .dataframe tbody tr th {\n",
       "        vertical-align: top;\n",
       "    }\n",
       "</style>\n",
       "<table border=\"1\" class=\"dataframe\">\n",
       "  <thead>\n",
       "    <tr style=\"text-align: right;\">\n",
       "      <th></th>\n",
       "      <th>MainSHFuel</th>\n",
       "      <th>MainSHFuel_nulls</th>\n",
       "      <th>EnergyRatingCont</th>\n",
       "    </tr>\n",
       "    <tr>\n",
       "      <th>BuildingID</th>\n",
       "      <th></th>\n",
       "      <th></th>\n",
       "      <th></th>\n",
       "    </tr>\n",
       "  </thead>\n",
       "  <tbody>\n",
       "    <tr>\n",
       "      <th>158369</th>\n",
       "      <td>NaN</td>\n",
       "      <td>Wood Pellets (bulk supply for</td>\n",
       "      <td>114.67</td>\n",
       "    </tr>\n",
       "    <tr>\n",
       "      <th>398941</th>\n",
       "      <td>NaN</td>\n",
       "      <td>Wood Pellets (bulk supply for</td>\n",
       "      <td>138.83</td>\n",
       "    </tr>\n",
       "    <tr>\n",
       "      <th>187422</th>\n",
       "      <td>NaN</td>\n",
       "      <td>Electricity</td>\n",
       "      <td>315.24</td>\n",
       "    </tr>\n",
       "  </tbody>\n",
       "</table>\n",
       "</div>"
      ],
      "text/plain": [
       "           MainSHFuel                MainSHFuel_nulls  EnergyRatingCont\n",
       "BuildingID                                                             \n",
       "158369            NaN  Wood Pellets (bulk supply for             114.67\n",
       "398941            NaN  Wood Pellets (bulk supply for             138.83\n",
       "187422            NaN  Electricity                               315.24"
      ]
     },
     "execution_count": 13,
     "metadata": {},
     "output_type": "execute_result"
    }
   ],
   "source": [
    "# Replace null values\n",
    "df['MainSHFuel_nulls'] = df['EnergyRatingCont'].apply(lambda x: closest_match(x, msf_med_dict))\n",
    "df[df['MainSHFuel'].isnull() == True].loc[:,['MainSHFuel','MainSHFuel_nulls', 'EnergyRatingCont']].head(3)"
   ]
  },
  {
   "cell_type": "code",
   "execution_count": 14,
   "metadata": {
    "collapsed": true
   },
   "outputs": [],
   "source": [
    "# Replace null values in MainSHFuel with corresponding valuse in MainSHFuel_nulls\n",
    "df['MainSHFuel'].fillna(df['MainSHFuel_nulls'], inplace=True)\n",
    "del df['MainSHFuel_nulls']"
   ]
  },
  {
   "cell_type": "code",
   "execution_count": 15,
   "metadata": {},
   "outputs": [
    {
     "data": {
      "text/plain": [
       "BuildingID\n",
       "190835    Heating Oil                   \n",
       "523113    Heating Oil                   \n",
       "271393    Heating Oil                   \n",
       "585961    Mains Gas                     \n",
       "624083    Mains Gas                     \n",
       "Name: MainSHFuel, dtype: object"
      ]
     },
     "execution_count": 15,
     "metadata": {},
     "output_type": "execute_result"
    }
   ],
   "source": [
    "df['MainSHFuel'].head()"
   ]
  },
  {
   "cell_type": "code",
   "execution_count": 16,
   "metadata": {},
   "outputs": [
    {
     "data": {
      "text/plain": [
       "0"
      ]
     },
     "execution_count": 16,
     "metadata": {},
     "output_type": "execute_result"
    }
   ],
   "source": [
    "# Lets check again for null values\n",
    "df['MainSHFuel'].isnull().sum()"
   ]
  },
  {
   "cell_type": "code",
   "execution_count": 17,
   "metadata": {
    "collapsed": true
   },
   "outputs": [],
   "source": [
    "# There is a lot of black spaces around the variable names. Lets strip this off the values.\n",
    "df['MainSHFuel'] = df['MainSHFuel'].apply(lambda x: x.strip())"
   ]
  },
  {
   "cell_type": "code",
   "execution_count": 18,
   "metadata": {},
   "outputs": [
    {
     "data": {
      "text/plain": [
       "Mains Gas                         1972\n",
       "Heating Oil                       1902\n",
       "Electricity                        682\n",
       "Solid Multi-Fuel                   207\n",
       "Bulk LPG (propane or butane)        89\n",
       "Wood Pellets (bulk supply for       47\n",
       "Manufactured Smokeless Fuel         32\n",
       "House Coal                          29\n",
       "Sod Peat                            13\n",
       "Wood Logs                            9\n",
       "Bottled LPG                          7\n",
       "Wood Pellets (in bags for seco       6\n",
       "Peat Briquettes                      4\n",
       "Name: MainSHFuel, dtype: int64"
      ]
     },
     "execution_count": 18,
     "metadata": {},
     "output_type": "execute_result"
    }
   ],
   "source": [
    "# Quick count of the unique values\n",
    "df['MainSHFuel'].value_counts()"
   ]
  },
  {
   "cell_type": "markdown",
   "metadata": {},
   "source": [
    "In my exploration notebook, I rolled up the under represented categories into their own seperate 'Other' column. For now, having replaced the nulls with it's closest corresponding category, the under represented categories have bulked up slightly so I'm going to leave them be. I may revisit this further down the line if the model needs improving."
   ]
  },
  {
   "cell_type": "code",
   "execution_count": 19,
   "metadata": {},
   "outputs": [
    {
     "data": {
      "image/png": "[encoded data removed]",
      "text/plain": [
       "<matplotlib.figure.Figure at 0x174abd81b38>"
      ]
     },
     "metadata": {},
     "output_type": "display_data"
    }
   ],
   "source": [
    "# Ok lets plot the values \n",
    "new_MainSHFuel_sort = df.groupby(['MainSHFuel']).mean().to_dict()['EnergyRatingCont']\n",
    "new_MainSHFuel_sort = sorted(new_MainSHFuel_sort, key=new_MainSHFuel_sort.get)\n",
    "\n",
    "var = 'MainSHFuel'\n",
    "f, ax = plt.subplots(figsize=(12, 6))\n",
    "fig = sns.boxplot(x=var, y=\"EnergyRatingCont\", data=df, order=new_MainSHFuel_sort)\n",
    "fig.set_xticklabels(ax.get_xticklabels(),rotation=90)\n",
    "fig.axis(ymin=0, ymax=1000);"
   ]
  },
  {
   "cell_type": "markdown",
   "metadata": {},
   "source": [
    "Actually, having looked at the graph, theres one final change I'm going to make: roll the two 'Wood Pellets' cateogries into one."
   ]
  },
  {
   "cell_type": "code",
   "execution_count": 20,
   "metadata": {
    "collapsed": true
   },
   "outputs": [],
   "source": [
    "# Combine 'Wood Pellets' categories\n",
    "replace_list = ['Wood Pellets (in bags for seco', 'Wood Pellets (bulk supply for']   \n",
    "df['MainSHFuel'].replace(replace_list, 'Wood Pellets', inplace=True)"
   ]
  },
  {
   "cell_type": "code",
   "execution_count": 21,
   "metadata": {},
   "outputs": [
    {
     "data": {
      "image/png": "[encoded data removed]",
      "text/plain": [
       "<matplotlib.figure.Figure at 0x174b003e898>"
      ]
     },
     "metadata": {},
     "output_type": "display_data"
    }
   ],
   "source": [
    "# Ok lets plot the values \n",
    "new_MainSHFuel_sort = df.groupby(['MainSHFuel']).mean().to_dict()['EnergyRatingCont']\n",
    "new_MainSHFuel_sort = sorted(new_MainSHFuel_sort, key=new_MainSHFuel_sort.get)\n",
    "\n",
    "var = 'MainSHFuel'\n",
    "f, ax = plt.subplots(figsize=(12, 6))\n",
    "fig = sns.boxplot(x=var, y=\"EnergyRatingCont\", data=df, order=new_MainSHFuel_sort)\n",
    "fig.set_xticklabels(ax.get_xticklabels(),rotation=90)\n",
    "fig.axis(ymin=0, ymax=1000);"
   ]
  },
  {
   "cell_type": "markdown",
   "metadata": {},
   "source": [
    "Ok, I'm really happy with how this has turned out. Lets convert the categories to numerical values and close off this variable."
   ]
  },
  {
   "cell_type": "code",
   "execution_count": 22,
   "metadata": {
    "collapsed": true
   },
   "outputs": [],
   "source": [
    "df['MainSHFuel_cat'] = df['MainSHFuel'].astype('category').cat.codes"
   ]
  },
  {
   "cell_type": "markdown",
   "metadata": {},
   "source": [
    "### MainWHFuel\n",
    "\n",
    "The final categorical variable to work with is 'MainWHFuel'. I'll process this very similarly to 'MainSHFuel'."
   ]
  },
  {
   "cell_type": "code",
   "execution_count": 23,
   "metadata": {},
   "outputs": [
    {
     "data": {
      "text/plain": [
       "BuildingID\n",
       "190835    Heating Oil                   \n",
       "523113    Heating Oil                   \n",
       "271393    Heating Oil                   \n",
       "Name: MainWHFuel, dtype: object"
      ]
     },
     "execution_count": 23,
     "metadata": {},
     "output_type": "execute_result"
    }
   ],
   "source": [
    "df['MainWHFuel'].head(3)"
   ]
  },
  {
   "cell_type": "code",
   "execution_count": 24,
   "metadata": {},
   "outputs": [
    {
     "data": {
      "text/plain": [
       "62"
      ]
     },
     "execution_count": 24,
     "metadata": {},
     "output_type": "execute_result"
    }
   ],
   "source": [
    "# Lets check for null values\n",
    "df['MainWHFuel'].isnull().sum()"
   ]
  },
  {
   "cell_type": "code",
   "execution_count": 25,
   "metadata": {},
   "outputs": [
    {
     "data": {
      "text/plain": [
       "{129.66: 'Wood Pellets (bulk supply for ',\n",
       " 147.66: 'Bottled LPG                   ',\n",
       " 174.91999999999999: 'Wood Pellets (in bags for seco',\n",
       " 190.91: 'Bulk LPG (propane or butane)  ',\n",
       " 198.82499999999999: 'Mains Gas                     ',\n",
       " 220.125: 'Heating Oil                   ',\n",
       " 255.12: 'Peat Briquettes               ',\n",
       " 299.66000000000003: 'Electricity                   ',\n",
       " 354.37: 'Sod Peat                      ',\n",
       " 363.53499999999997: 'Solid Multi-Fuel              ',\n",
       " 381.46000000000004: 'House Coal                    ',\n",
       " 391.68000000000001: 'Manufactured Smokeless Fuel   ',\n",
       " 482.64999999999998: 'Wood Logs                     ',\n",
       " 1508.3399999999999: 'Anthracite                    '}"
      ]
     },
     "execution_count": 25,
     "metadata": {},
     "output_type": "execute_result"
    }
   ],
   "source": [
    "# 62 null values ones again - Lets use the same method above to assign categories to these rows\n",
    "\n",
    "# Category mean values\n",
    "mwf_med_dict = df.groupby(['MainWHFuel']).median()['EnergyRatingCont'].to_dict()\n",
    "\n",
    "# invert dictionary\n",
    "mwf_med_dict = dict([v,k] for k,v in mwf_med_dict.items())\n",
    "mwf_med_dict"
   ]
  },
  {
   "cell_type": "code",
   "execution_count": 26,
   "metadata": {},
   "outputs": [
    {
     "data": {
      "text/html": [
       "<div>\n",
       "<style>\n",
       "    .dataframe thead tr:only-child th {\n",
       "        text-align: right;\n",
       "    }\n",
       "\n",
       "    .dataframe thead th {\n",
       "        text-align: left;\n",
       "    }\n",
       "\n",
       "    .dataframe tbody tr th {\n",
       "        vertical-align: top;\n",
       "    }\n",
       "</style>\n",
       "<table border=\"1\" class=\"dataframe\">\n",
       "  <thead>\n",
       "    <tr style=\"text-align: right;\">\n",
       "      <th></th>\n",
       "      <th>MainWHFuel</th>\n",
       "      <th>MainWHFuel_nulls</th>\n",
       "      <th>EnergyRatingCont</th>\n",
       "    </tr>\n",
       "    <tr>\n",
       "      <th>BuildingID</th>\n",
       "      <th></th>\n",
       "      <th></th>\n",
       "      <th></th>\n",
       "    </tr>\n",
       "  </thead>\n",
       "  <tbody>\n",
       "    <tr>\n",
       "      <th>158369</th>\n",
       "      <td>NaN</td>\n",
       "      <td>Wood Pellets (bulk supply for</td>\n",
       "      <td>114.67</td>\n",
       "    </tr>\n",
       "    <tr>\n",
       "      <th>398941</th>\n",
       "      <td>NaN</td>\n",
       "      <td>Bottled LPG</td>\n",
       "      <td>138.83</td>\n",
       "    </tr>\n",
       "    <tr>\n",
       "      <th>187422</th>\n",
       "      <td>NaN</td>\n",
       "      <td>Electricity</td>\n",
       "      <td>315.24</td>\n",
       "    </tr>\n",
       "  </tbody>\n",
       "</table>\n",
       "</div>"
      ],
      "text/plain": [
       "           MainWHFuel                MainWHFuel_nulls  EnergyRatingCont\n",
       "BuildingID                                                             \n",
       "158369            NaN  Wood Pellets (bulk supply for             114.67\n",
       "398941            NaN  Bottled LPG                               138.83\n",
       "187422            NaN  Electricity                               315.24"
      ]
     },
     "execution_count": 26,
     "metadata": {},
     "output_type": "execute_result"
    }
   ],
   "source": [
    "# Replace null values\n",
    "df['MainWHFuel_nulls'] = df['EnergyRatingCont'].apply(lambda x: closest_match(x, mwf_med_dict))\n",
    "df[df['MainWHFuel'].isnull() == True].loc[:,['MainWHFuel','MainWHFuel_nulls', 'EnergyRatingCont']].head(3)"
   ]
  },
  {
   "cell_type": "code",
   "execution_count": 27,
   "metadata": {
    "collapsed": true
   },
   "outputs": [],
   "source": [
    "# Replace null values in MainSHFuel with corresponding valuse in MainSHFuel_nulls\n",
    "df['MainWHFuel'].fillna(df['MainWHFuel_nulls'], inplace=True)\n",
    "del df['MainWHFuel_nulls']"
   ]
  },
  {
   "cell_type": "code",
   "execution_count": 28,
   "metadata": {},
   "outputs": [
    {
     "data": {
      "text/plain": [
       "0"
      ]
     },
     "execution_count": 28,
     "metadata": {},
     "output_type": "execute_result"
    }
   ],
   "source": [
    "# Lets check again for null values\n",
    "df['MainWHFuel'].isnull().sum()"
   ]
  },
  {
   "cell_type": "code",
   "execution_count": 29,
   "metadata": {
    "collapsed": true
   },
   "outputs": [],
   "source": [
    "# There is a lot of black spaces around the variable names. Lets strip this off the values.\n",
    "df['MainWHFuel'] = df['MainWHFuel'].apply(lambda x: x.strip())"
   ]
  },
  {
   "cell_type": "code",
   "execution_count": 30,
   "metadata": {},
   "outputs": [
    {
     "data": {
      "text/plain": [
       "Mains Gas                         1959\n",
       "Heating Oil                       1889\n",
       "Electricity                        732\n",
       "Solid Multi-Fuel                   194\n",
       "Bulk LPG (propane or butane)        89\n",
       "Wood Pellets (bulk supply for       43\n",
       "House Coal                          27\n",
       "Manufactured Smokeless Fuel         26\n",
       "Wood Logs                           10\n",
       "Bottled LPG                          9\n",
       "Sod Peat                             9\n",
       "Wood Pellets (in bags for seco       6\n",
       "Peat Briquettes                      5\n",
       "Anthracite                           1\n",
       "Name: MainWHFuel, dtype: int64"
      ]
     },
     "execution_count": 30,
     "metadata": {},
     "output_type": "execute_result"
    }
   ],
   "source": [
    "# Quick count of the unique values\n",
    "df['MainWHFuel'].value_counts()"
   ]
  },
  {
   "cell_type": "code",
   "execution_count": 31,
   "metadata": {
    "collapsed": true
   },
   "outputs": [],
   "source": [
    "# Lets combine the 'Wood Pellets' categories again\n",
    "replace_list = ['Wood Pellets (in bags for seco', 'Wood Pellets (bulk supply for']   \n",
    "df['MainWHFuel'].replace(replace_list, 'Wood Pellets', inplace=True)"
   ]
  },
  {
   "cell_type": "code",
   "execution_count": 32,
   "metadata": {},
   "outputs": [
    {
     "data": {
      "image/png": "[encoded data removed]",
      "text/plain": [
       "<matplotlib.figure.Figure at 0x174af7df630>"
      ]
     },
     "metadata": {},
     "output_type": "display_data"
    }
   ],
   "source": [
    "# Ok lets plot the values \n",
    "new_MainWHFuel_sort = df.groupby(['MainWHFuel']).mean().to_dict()['EnergyRatingCont']\n",
    "new_MainWHFuel_sort = sorted(new_MainWHFuel_sort, key=new_MainWHFuel_sort.get)\n",
    "\n",
    "var = 'MainWHFuel'\n",
    "f, ax = plt.subplots(figsize=(12, 6))\n",
    "fig = sns.boxplot(x=var, y=\"EnergyRatingCont\", data=df, order=new_MainWHFuel_sort)\n",
    "fig.set_xticklabels(ax.get_xticklabels(),rotation=90)\n",
    "fig.axis(ymin=0, ymax=1000);"
   ]
  },
  {
   "cell_type": "code",
   "execution_count": 33,
   "metadata": {
    "collapsed": true
   },
   "outputs": [],
   "source": [
    "df['MainWHFuel_cat'] = df['MainWHFuel'].astype('category').cat.codes"
   ]
  },
  {
   "cell_type": "code",
   "execution_count": 34,
   "metadata": {},
   "outputs": [
    {
     "data": {
      "text/html": [
       "<div>\n",
       "<style>\n",
       "    .dataframe thead tr:only-child th {\n",
       "        text-align: right;\n",
       "    }\n",
       "\n",
       "    .dataframe thead th {\n",
       "        text-align: left;\n",
       "    }\n",
       "\n",
       "    .dataframe tbody tr th {\n",
       "        vertical-align: top;\n",
       "    }\n",
       "</style>\n",
       "<table border=\"1\" class=\"dataframe\">\n",
       "  <thead>\n",
       "    <tr style=\"text-align: right;\">\n",
       "      <th></th>\n",
       "      <th>MainWHFuel</th>\n",
       "      <th>MainWHFuel_cat</th>\n",
       "    </tr>\n",
       "    <tr>\n",
       "      <th>BuildingID</th>\n",
       "      <th></th>\n",
       "      <th></th>\n",
       "    </tr>\n",
       "  </thead>\n",
       "  <tbody>\n",
       "    <tr>\n",
       "      <th>190835</th>\n",
       "      <td>Heating Oil</td>\n",
       "      <td>4</td>\n",
       "    </tr>\n",
       "    <tr>\n",
       "      <th>523113</th>\n",
       "      <td>Heating Oil</td>\n",
       "      <td>4</td>\n",
       "    </tr>\n",
       "    <tr>\n",
       "      <th>271393</th>\n",
       "      <td>Heating Oil</td>\n",
       "      <td>4</td>\n",
       "    </tr>\n",
       "    <tr>\n",
       "      <th>585961</th>\n",
       "      <td>Mains Gas</td>\n",
       "      <td>6</td>\n",
       "    </tr>\n",
       "    <tr>\n",
       "      <th>624083</th>\n",
       "      <td>Mains Gas</td>\n",
       "      <td>6</td>\n",
       "    </tr>\n",
       "  </tbody>\n",
       "</table>\n",
       "</div>"
      ],
      "text/plain": [
       "             MainWHFuel  MainWHFuel_cat\n",
       "BuildingID                             \n",
       "190835      Heating Oil               4\n",
       "523113      Heating Oil               4\n",
       "271393      Heating Oil               4\n",
       "585961        Mains Gas               6\n",
       "624083        Mains Gas               6"
      ]
     },
     "execution_count": 34,
     "metadata": {},
     "output_type": "execute_result"
    }
   ],
   "source": [
    "df.loc[:,['MainWHFuel', 'MainWHFuel_cat']].head()"
   ]
  },
  {
   "cell_type": "markdown",
   "metadata": {},
   "source": [
    "### Final Look at Categorical Features"
   ]
  },
  {
   "cell_type": "code",
   "execution_count": 35,
   "metadata": {},
   "outputs": [
    {
     "data": {
      "text/plain": [
       "Index(['EnergyRatingCat', 'MainSHFuel', 'MainWHFuel'], dtype='object')"
      ]
     },
     "execution_count": 35,
     "metadata": {},
     "output_type": "execute_result"
    }
   ],
   "source": [
    "g = df.columns.to_series().groupby(df.dtypes).groups\n",
    "dtype_dict = {k.name: v for k, v in g.items()}\n",
    "dtype_dict['object']"
   ]
  },
  {
   "cell_type": "markdown",
   "metadata": {},
   "source": [
    "## Processing Numerical Features"
   ]
  },
  {
   "cell_type": "code",
   "execution_count": 36,
   "metadata": {},
   "outputs": [
    {
     "data": {
      "text/plain": [
       "Index(['EnergyRatingCont', 'GroundFloorArea', 'AvgWallU', 'AvgRoofU',\n",
       "       'AvgFloorU', 'AvgWindowU', 'AvgDoorU', 'ExposedWallArea',\n",
       "       'ExposedRoofArea', 'TotFloorArea', 'TotWindowArea', 'TotDoorArea',\n",
       "       'NStoreys', 'MainSHEfficiency', 'BuildingReg', 'MainSHAdj', 'SecSHFrac',\n",
       "       'SecSHEfficiency', 'MainWHEfficiency', 'MainWHAdj', 'SecSHFuel',\n",
       "       'SecWHFuel', 'NChimneys', 'NOpenFlues', 'NFansVents',\n",
       "       'PercDraughtStripped', 'NShelteredSides', 'PermTestResult', 'TempAdj',\n",
       "       'ControlCat', 'ResponseCat', 'NCHPumps', 'NGasFans', 'DistLoss',\n",
       "       'VolWaterStorage', 'TempFac', 'TempFacMult', 'HWInsulationThickness',\n",
       "       'LightingEnergy', 'PumpsAndFansEnergy', 'MainWaterEnergy',\n",
       "       'PrimaryLightingEnergy', 'PrimaryPumpsFansEnergy',\n",
       "       'PrimaryMainWaterEnergy', 'PrimaryMainSpaceEnergy', 'LightingCO2',\n",
       "       'PumpsAndFansCO2', 'MainWaterCO2', 'MainSpaceCO2', 'AreaGroundFloor',\n",
       "       'HeightGroundFloor', 'AreaFirstFloor', 'HeightFirstFloor',\n",
       "       'AreaSecondFloor', 'BridgingFac', 'LargestRoofTypeArea',\n",
       "       'PercLowEnergy', 'TotEnergy', 'SecSpaceEnergy', 'SecWaterEnergy',\n",
       "       'SecSpaceCO2', 'SecWaterCO2', 'SecSpacePrimaryEnergy',\n",
       "       'SecWaterPrimaryEnergy', 'UpgradeHES', 'RoofAreaRoom', 'FirstEnerType',\n",
       "       'ProdFirstEnerDelivered', 'ProdFirstEnerConvFac',\n",
       "       'ProdSecondEnerDelivered', 'ProdSecondEnerConvFac',\n",
       "       'ProdThirdEnerDelivered', 'ProdThirdEnerConvFac',\n",
       "       'PrimaryEnergySecondarySpace', 'EnergyMainWater'],\n",
       "      dtype='object')"
      ]
     },
     "execution_count": 36,
     "metadata": {},
     "output_type": "execute_result"
    }
   ],
   "source": [
    "g = df.columns.to_series().groupby(df.dtypes).groups\n",
    "dtype_dict = {k.name: v for k, v in g.items()}\n",
    "dtype_dict['float64']"
   ]
  },
  {
   "cell_type": "markdown",
   "metadata": {},
   "source": [
    "### Dealing with Null values\n",
    "Ok first off, lets count the null values in each column."
   ]
  },
  {
   "cell_type": "code",
   "execution_count": 38,
   "metadata": {},
   "outputs": [
    {
     "data": {
      "text/html": [
       "<div>\n",
       "<style>\n",
       "    .dataframe thead tr:only-child th {\n",
       "        text-align: right;\n",
       "    }\n",
       "\n",
       "    .dataframe thead th {\n",
       "        text-align: left;\n",
       "    }\n",
       "\n",
       "    .dataframe tbody tr th {\n",
       "        vertical-align: top;\n",
       "    }\n",
       "</style>\n",
       "<table border=\"1\" class=\"dataframe\">\n",
       "  <thead>\n",
       "    <tr style=\"text-align: right;\">\n",
       "      <th></th>\n",
       "      <th>count</th>\n",
       "      <th>percentage</th>\n",
       "    </tr>\n",
       "    <tr>\n",
       "      <th>index</th>\n",
       "      <th></th>\n",
       "      <th></th>\n",
       "    </tr>\n",
       "  </thead>\n",
       "  <tbody>\n",
       "    <tr>\n",
       "      <th>MainSHEfficiency</th>\n",
       "      <td>608</td>\n",
       "      <td>12.162432</td>\n",
       "    </tr>\n",
       "    <tr>\n",
       "      <th>PrimaryMainSpaceEnergy</th>\n",
       "      <td>543</td>\n",
       "      <td>10.862172</td>\n",
       "    </tr>\n",
       "    <tr>\n",
       "      <th>PrimaryEnergySecondarySpace</th>\n",
       "      <td>517</td>\n",
       "      <td>10.342068</td>\n",
       "    </tr>\n",
       "    <tr>\n",
       "      <th>LargestRoofTypeArea</th>\n",
       "      <td>517</td>\n",
       "      <td>10.342068</td>\n",
       "    </tr>\n",
       "    <tr>\n",
       "      <th>SecSpacePrimaryEnergy</th>\n",
       "      <td>517</td>\n",
       "      <td>10.342068</td>\n",
       "    </tr>\n",
       "    <tr>\n",
       "      <th>GroundFloorArea</th>\n",
       "      <td>502</td>\n",
       "      <td>10.042008</td>\n",
       "    </tr>\n",
       "    <tr>\n",
       "      <th>AvgWallU</th>\n",
       "      <td>486</td>\n",
       "      <td>9.721944</td>\n",
       "    </tr>\n",
       "    <tr>\n",
       "      <th>HWInsulationThickness</th>\n",
       "      <td>465</td>\n",
       "      <td>9.301860</td>\n",
       "    </tr>\n",
       "    <tr>\n",
       "      <th>TempFac</th>\n",
       "      <td>465</td>\n",
       "      <td>9.301860</td>\n",
       "    </tr>\n",
       "    <tr>\n",
       "      <th>VolWaterStorage</th>\n",
       "      <td>465</td>\n",
       "      <td>9.301860</td>\n",
       "    </tr>\n",
       "  </tbody>\n",
       "</table>\n",
       "</div>"
      ],
      "text/plain": [
       "                             count  percentage\n",
       "index                                         \n",
       "MainSHEfficiency               608   12.162432\n",
       "PrimaryMainSpaceEnergy         543   10.862172\n",
       "PrimaryEnergySecondarySpace    517   10.342068\n",
       "LargestRoofTypeArea            517   10.342068\n",
       "SecSpacePrimaryEnergy          517   10.342068\n",
       "GroundFloorArea                502   10.042008\n",
       "AvgWallU                       486    9.721944\n",
       "HWInsulationThickness          465    9.301860\n",
       "TempFac                        465    9.301860\n",
       "VolWaterStorage                465    9.301860"
      ]
     },
     "execution_count": 38,
     "metadata": {},
     "output_type": "execute_result"
    }
   ],
   "source": [
    "null_df = df.isnull().sum().reset_index()\n",
    "null_df.columns = ['index', 'count']\n",
    "null_df['percentage'] = null_df['count'].apply(lambda x: (x/4999)*100)\n",
    "null_df.set_index('index', inplace=True)\n",
    "null_df.sort_values(by=['percentage'], ascending=False).head(10)"
   ]
  },
  {
   "cell_type": "markdown",
   "metadata": {},
   "source": [
    "Luckily, of the 81 columns, no column has more than 12% of missing data. This is pretty ok to start with. We have a lot of correct data in nearly every column, so in the interest of time, lets replace null values with that variable mean. I'll revisit this further when attempting to improve the machine learning model in future notebooks."
   ]
  },
  {
   "cell_type": "code",
   "execution_count": 39,
   "metadata": {},
   "outputs": [
    {
     "data": {
      "text/html": [
       "<div>\n",
       "<style>\n",
       "    .dataframe thead tr:only-child th {\n",
       "        text-align: right;\n",
       "    }\n",
       "\n",
       "    .dataframe thead th {\n",
       "        text-align: left;\n",
       "    }\n",
       "\n",
       "    .dataframe tbody tr th {\n",
       "        vertical-align: top;\n",
       "    }\n",
       "</style>\n",
       "<table border=\"1\" class=\"dataframe\">\n",
       "  <thead>\n",
       "    <tr style=\"text-align: right;\">\n",
       "      <th></th>\n",
       "      <th>Year</th>\n",
       "      <th>EnergyRatingCat</th>\n",
       "      <th>EnergyRatingCont</th>\n",
       "      <th>GroundFloorArea</th>\n",
       "      <th>AvgWallU</th>\n",
       "      <th>AvgRoofU</th>\n",
       "      <th>AvgFloorU</th>\n",
       "      <th>AvgWindowU</th>\n",
       "      <th>AvgDoorU</th>\n",
       "      <th>ExposedWallArea</th>\n",
       "      <th>...</th>\n",
       "      <th>ProdFirstEnerDelivered</th>\n",
       "      <th>ProdFirstEnerConvFac</th>\n",
       "      <th>ProdSecondEnerDelivered</th>\n",
       "      <th>ProdSecondEnerConvFac</th>\n",
       "      <th>ProdThirdEnerDelivered</th>\n",
       "      <th>ProdThirdEnerConvFac</th>\n",
       "      <th>PrimaryEnergySecondarySpace</th>\n",
       "      <th>EnergyMainWater</th>\n",
       "      <th>MainSHFuel_cat</th>\n",
       "      <th>MainWHFuel_cat</th>\n",
       "    </tr>\n",
       "    <tr>\n",
       "      <th>BuildingID</th>\n",
       "      <th></th>\n",
       "      <th></th>\n",
       "      <th></th>\n",
       "      <th></th>\n",
       "      <th></th>\n",
       "      <th></th>\n",
       "      <th></th>\n",
       "      <th></th>\n",
       "      <th></th>\n",
       "      <th></th>\n",
       "      <th></th>\n",
       "      <th></th>\n",
       "      <th></th>\n",
       "      <th></th>\n",
       "      <th></th>\n",
       "      <th></th>\n",
       "      <th></th>\n",
       "      <th></th>\n",
       "      <th></th>\n",
       "      <th></th>\n",
       "      <th></th>\n",
       "    </tr>\n",
       "  </thead>\n",
       "  <tbody>\n",
       "    <tr>\n",
       "      <th>190835</th>\n",
       "      <td>1890</td>\n",
       "      <td>F</td>\n",
       "      <td>418.42</td>\n",
       "      <td>52.04</td>\n",
       "      <td>2.10</td>\n",
       "      <td>2.30</td>\n",
       "      <td>0.61</td>\n",
       "      <td>2.71</td>\n",
       "      <td>3.00</td>\n",
       "      <td>32.78</td>\n",
       "      <td>...</td>\n",
       "      <td>0.0</td>\n",
       "      <td>0.0</td>\n",
       "      <td>0.0</td>\n",
       "      <td>0.0</td>\n",
       "      <td>0.0</td>\n",
       "      <td>0.0</td>\n",
       "      <td>0.000</td>\n",
       "      <td>2335.6809</td>\n",
       "      <td>3</td>\n",
       "      <td>4</td>\n",
       "    </tr>\n",
       "    <tr>\n",
       "      <th>523113</th>\n",
       "      <td>1901</td>\n",
       "      <td>G</td>\n",
       "      <td>520.35</td>\n",
       "      <td>147.44</td>\n",
       "      <td>2.01</td>\n",
       "      <td>0.75</td>\n",
       "      <td>0.94</td>\n",
       "      <td>2.63</td>\n",
       "      <td>3.96</td>\n",
       "      <td>211.22</td>\n",
       "      <td>...</td>\n",
       "      <td>0.0</td>\n",
       "      <td>0.0</td>\n",
       "      <td>0.0</td>\n",
       "      <td>0.0</td>\n",
       "      <td>0.0</td>\n",
       "      <td>0.0</td>\n",
       "      <td>7144.838</td>\n",
       "      <td>4470.0759</td>\n",
       "      <td>3</td>\n",
       "      <td>4</td>\n",
       "    </tr>\n",
       "    <tr>\n",
       "      <th>271393</th>\n",
       "      <td>1968</td>\n",
       "      <td>D2</td>\n",
       "      <td>281.33</td>\n",
       "      <td>104.84</td>\n",
       "      <td>0.38</td>\n",
       "      <td>0.13</td>\n",
       "      <td>0.68</td>\n",
       "      <td>2.81</td>\n",
       "      <td>0.00</td>\n",
       "      <td>94.41</td>\n",
       "      <td>...</td>\n",
       "      <td>0.0</td>\n",
       "      <td>0.0</td>\n",
       "      <td>0.0</td>\n",
       "      <td>0.0</td>\n",
       "      <td>0.0</td>\n",
       "      <td>0.0</td>\n",
       "      <td>2127.347</td>\n",
       "      <td>5837.4729</td>\n",
       "      <td>3</td>\n",
       "      <td>4</td>\n",
       "    </tr>\n",
       "    <tr>\n",
       "      <th>585961</th>\n",
       "      <td>2002</td>\n",
       "      <td>C2</td>\n",
       "      <td>188.17</td>\n",
       "      <td>95.31</td>\n",
       "      <td>0.55</td>\n",
       "      <td>0.26</td>\n",
       "      <td>0.34</td>\n",
       "      <td>2.80</td>\n",
       "      <td>3.03</td>\n",
       "      <td>89.50</td>\n",
       "      <td>...</td>\n",
       "      <td>0.0</td>\n",
       "      <td>0.0</td>\n",
       "      <td>0.0</td>\n",
       "      <td>0.0</td>\n",
       "      <td>0.0</td>\n",
       "      <td>0.0</td>\n",
       "      <td>2771.886</td>\n",
       "      <td>3769.6248</td>\n",
       "      <td>5</td>\n",
       "      <td>6</td>\n",
       "    </tr>\n",
       "    <tr>\n",
       "      <th>624083</th>\n",
       "      <td>2002</td>\n",
       "      <td>B3</td>\n",
       "      <td>134.95</td>\n",
       "      <td>283.87</td>\n",
       "      <td>0.55</td>\n",
       "      <td>0.26</td>\n",
       "      <td>0.41</td>\n",
       "      <td>3.10</td>\n",
       "      <td>3.01</td>\n",
       "      <td>254.15</td>\n",
       "      <td>...</td>\n",
       "      <td>0.0</td>\n",
       "      <td>0.0</td>\n",
       "      <td>0.0</td>\n",
       "      <td>0.0</td>\n",
       "      <td>0.0</td>\n",
       "      <td>0.0</td>\n",
       "      <td>0.000</td>\n",
       "      <td>5296.5828</td>\n",
       "      <td>5</td>\n",
       "      <td>6</td>\n",
       "    </tr>\n",
       "  </tbody>\n",
       "</table>\n",
       "<p>5 rows × 81 columns</p>\n",
       "</div>"
      ],
      "text/plain": [
       "            Year EnergyRatingCat  EnergyRatingCont  GroundFloorArea  AvgWallU  \\\n",
       "BuildingID                                                                      \n",
       "190835      1890              F             418.42            52.04      2.10   \n",
       "523113      1901              G             520.35           147.44      2.01   \n",
       "271393      1968              D2            281.33           104.84      0.38   \n",
       "585961      2002              C2            188.17            95.31      0.55   \n",
       "624083      2002              B3            134.95           283.87      0.55   \n",
       "\n",
       "            AvgRoofU  AvgFloorU  AvgWindowU  AvgDoorU  ExposedWallArea  \\\n",
       "BuildingID                                                               \n",
       "190835          2.30       0.61        2.71      3.00            32.78   \n",
       "523113          0.75       0.94        2.63      3.96           211.22   \n",
       "271393          0.13       0.68        2.81      0.00            94.41   \n",
       "585961          0.26       0.34        2.80      3.03            89.50   \n",
       "624083          0.26       0.41        3.10      3.01           254.15   \n",
       "\n",
       "                 ...        ProdFirstEnerDelivered  ProdFirstEnerConvFac  \\\n",
       "BuildingID       ...                                                       \n",
       "190835           ...                           0.0                   0.0   \n",
       "523113           ...                           0.0                   0.0   \n",
       "271393           ...                           0.0                   0.0   \n",
       "585961           ...                           0.0                   0.0   \n",
       "624083           ...                           0.0                   0.0   \n",
       "\n",
       "            ProdSecondEnerDelivered  ProdSecondEnerConvFac  \\\n",
       "BuildingID                                                   \n",
       "190835                          0.0                    0.0   \n",
       "523113                          0.0                    0.0   \n",
       "271393                          0.0                    0.0   \n",
       "585961                          0.0                    0.0   \n",
       "624083                          0.0                    0.0   \n",
       "\n",
       "            ProdThirdEnerDelivered ProdThirdEnerConvFac  \\\n",
       "BuildingID                                                \n",
       "190835                         0.0                  0.0   \n",
       "523113                         0.0                  0.0   \n",
       "271393                         0.0                  0.0   \n",
       "585961                         0.0                  0.0   \n",
       "624083                         0.0                  0.0   \n",
       "\n",
       "           PrimaryEnergySecondarySpace  EnergyMainWater  MainSHFuel_cat  \\\n",
       "BuildingID                                                                \n",
       "190835                           0.000        2335.6809               3   \n",
       "523113                        7144.838        4470.0759               3   \n",
       "271393                        2127.347        5837.4729               3   \n",
       "585961                        2771.886        3769.6248               5   \n",
       "624083                           0.000        5296.5828               5   \n",
       "\n",
       "            MainWHFuel_cat  \n",
       "BuildingID                  \n",
       "190835                   4  \n",
       "523113                   4  \n",
       "271393                   4  \n",
       "585961                   6  \n",
       "624083                   6  \n",
       "\n",
       "[5 rows x 81 columns]"
      ]
     },
     "execution_count": 39,
     "metadata": {},
     "output_type": "execute_result"
    }
   ],
   "source": [
    "# replace null values with column mean\n",
    "df.fillna(df.mean(), inplace=True).head()"
   ]
  },
  {
   "cell_type": "code",
   "execution_count": 40,
   "metadata": {},
   "outputs": [
    {
     "data": {
      "text/plain": [
       "0"
      ]
     },
     "execution_count": 40,
     "metadata": {},
     "output_type": "execute_result"
    }
   ],
   "source": [
    "# Final null check\n",
    "df.isnull().sum().sum()"
   ]
  },
  {
   "cell_type": "markdown",
   "metadata": {},
   "source": [
    "### Dealing with zero values\n",
    "\n",
    "Another thing found during the initial exploration of the data is that some numerical variables had a high portion of zero values in thier column. But logic tells you that 'GroundFloorArea' or 'AvgWallU' can never have values of zero. This makes me believe that these values are errors and that they should be replaced. \n",
    "\n",
    "The variables I'm talking about here are area related variables, so lets isolate these first."
   ]
  },
  {
   "cell_type": "code",
   "execution_count": 41,
   "metadata": {},
   "outputs": [
    {
     "data": {
      "text/plain": [
       "Index(['Year', 'EnergyRatingCat', 'EnergyRatingCont', 'GroundFloorArea',\n",
       "       'AvgWallU', 'AvgRoofU', 'AvgFloorU', 'AvgWindowU', 'AvgDoorU',\n",
       "       'ExposedWallArea', 'ExposedRoofArea', 'TotFloorArea', 'TotWindowArea',\n",
       "       'TotDoorArea', 'NStoreys', 'MainSHFuel', 'MainWHFuel',\n",
       "       'MainSHEfficiency', 'BuildingReg', 'MainSHAdj', 'SecSHFrac',\n",
       "       'SecSHEfficiency', 'MainWHEfficiency', 'MainWHAdj', 'SecSHFuel',\n",
       "       'SecWHFuel', 'NChimneys', 'NOpenFlues', 'NFansVents',\n",
       "       'PercDraughtStripped', 'NShelteredSides', 'PermTestResult', 'TempAdj',\n",
       "       'ControlCat', 'ResponseCat', 'NCHPumps', 'NGasFans', 'DistLoss',\n",
       "       'VolWaterStorage', 'TempFac', 'TempFacMult', 'HWInsulationThickness',\n",
       "       'LightingEnergy', 'PumpsAndFansEnergy', 'MainWaterEnergy',\n",
       "       'PrimaryLightingEnergy', 'PrimaryPumpsFansEnergy',\n",
       "       'PrimaryMainWaterEnergy', 'PrimaryMainSpaceEnergy', 'LightingCO2',\n",
       "       'PumpsAndFansCO2', 'MainWaterCO2', 'MainSpaceCO2', 'AreaGroundFloor',\n",
       "       'HeightGroundFloor', 'AreaFirstFloor', 'HeightFirstFloor',\n",
       "       'AreaSecondFloor', 'BridgingFac', 'LargestRoofTypeArea',\n",
       "       'PercLowEnergy', 'TotEnergy', 'SecSpaceEnergy', 'SecWaterEnergy',\n",
       "       'SecSpaceCO2', 'SecWaterCO2', 'SecSpacePrimaryEnergy',\n",
       "       'SecWaterPrimaryEnergy', 'UpgradeHES', 'RoofAreaRoom', 'FirstEnerType',\n",
       "       'ProdFirstEnerDelivered', 'ProdFirstEnerConvFac',\n",
       "       'ProdSecondEnerDelivered', 'ProdSecondEnerConvFac',\n",
       "       'ProdThirdEnerDelivered', 'ProdThirdEnerConvFac',\n",
       "       'PrimaryEnergySecondarySpace', 'EnergyMainWater', 'MainSHFuel_cat',\n",
       "       'MainWHFuel_cat'],\n",
       "      dtype='object')"
      ]
     },
     "execution_count": 41,
     "metadata": {},
     "output_type": "execute_result"
    }
   ],
   "source": [
    "df.columns"
   ]
  },
  {
   "cell_type": "code",
   "execution_count": 42,
   "metadata": {},
   "outputs": [
    {
     "name": "stdout",
     "output_type": "stream",
     "text": [
      "GroundFloorArea\n",
      "AvgWallU\n",
      "AvgRoofU\n",
      "AvgFloorU\n",
      "AvgWindowU\n",
      "AvgDoorU\n",
      "ExposedWallArea\n",
      "ExposedRoofArea\n",
      "TotFloorArea\n",
      "TotWindowArea\n",
      "TotDoorArea\n",
      "VolWaterStorage\n",
      "HWInsulationThickness\n",
      "AreaGroundFloor\n",
      "HeightGroundFloor\n",
      "AreaFirstFloor\n",
      "HeightFirstFloor\n",
      "AreaSecondFloor\n",
      "LargestRoofTypeArea\n",
      "RoofAreaRoom\n"
     ]
    }
   ],
   "source": [
    "area_vars = ['GroundFloorArea','AvgWallU', 'AvgRoofU', 'AvgFloorU', 'AvgWindowU', 'AvgDoorU',\n",
    "       'ExposedWallArea', 'ExposedRoofArea', 'TotFloorArea', 'TotWindowArea',\n",
    "       'TotDoorArea','VolWaterStorage', 'HWInsulationThickness','AreaGroundFloor',\n",
    "       'HeightGroundFloor', 'AreaFirstFloor', 'HeightFirstFloor',\n",
    "       'AreaSecondFloor', 'LargestRoofTypeArea', 'RoofAreaRoom']\n",
    "\n",
    "for var in area_vars:\n",
    "    print(var)\n",
    "    df[var].replace(0, df[var].mean(), inplace=True)"
   ]
  },
  {
   "cell_type": "markdown",
   "metadata": {},
   "source": [
    "#### Lets plot a few of these variables to see the updated graph"
   ]
  },
  {
   "cell_type": "code",
   "execution_count": 43,
   "metadata": {},
   "outputs": [
    {
     "data": {
      "image/png": "[encoded data removed]",
      "text/plain": [
       "<matplotlib.figure.Figure at 0x174b0d1e5f8>"
      ]
     },
     "metadata": {},
     "output_type": "display_data"
    }
   ],
   "source": [
    "var = 'GroundFloorArea'\n",
    "df.plot.scatter(x=var, y='EnergyRatingCont', ylim=(0,2500));"
   ]
  },
  {
   "cell_type": "code",
   "execution_count": 44,
   "metadata": {},
   "outputs": [
    {
     "data": {
      "image/png": "[encoded data removed]",
      "text/plain": [
       "<matplotlib.figure.Figure at 0x174afbf4588>"
      ]
     },
     "metadata": {},
     "output_type": "display_data"
    }
   ],
   "source": [
    "var = 'AvgWallU'\n",
    "df.plot.scatter(x=var, y='EnergyRatingCont', ylim=(0,2500));"
   ]
  },
  {
   "cell_type": "code",
   "execution_count": 45,
   "metadata": {},
   "outputs": [
    {
     "data": {
      "image/png": "[encoded data removed]",
      "text/plain": [
       "<matplotlib.figure.Figure at 0x174b0cd9588>"
      ]
     },
     "metadata": {},
     "output_type": "display_data"
    }
   ],
   "source": [
    "var = 'TotDoorArea'\n",
    "df.plot.scatter(x=var, y='EnergyRatingCont', ylim=(0,2500));"
   ]
  },
  {
   "cell_type": "markdown",
   "metadata": {},
   "source": [
    "## Outliers\n",
    "### Dependant Variable"
   ]
  },
  {
   "cell_type": "code",
   "execution_count": 48,
   "metadata": {},
   "outputs": [
    {
     "data": {
      "text/plain": [
       "BuildingID\n",
       "190835    418.42\n",
       "523113    520.35\n",
       "271393    281.33\n",
       "585961    188.17\n",
       "624083    134.95\n",
       "Name: EnergyRatingCont, dtype: float64"
      ]
     },
     "execution_count": 48,
     "metadata": {},
     "output_type": "execute_result"
    }
   ],
   "source": [
    "df['EnergyRatingCont'].head()"
   ]
  },
  {
   "cell_type": "code",
   "execution_count": 49,
   "metadata": {},
   "outputs": [
    {
     "name": "stdout",
     "output_type": "stream",
     "text": [
      "outer range (low) of the distribution:\n",
      "[[-1.5852234 ]\n",
      " [-1.404719  ]\n",
      " [-1.4041224 ]\n",
      " [-1.4035258 ]\n",
      " [-1.40332693]\n",
      " [-1.3993496 ]\n",
      " [-1.39504083]\n",
      " [-1.39490825]\n",
      " [-1.39298588]\n",
      " [-1.38960515]]\n",
      "\n",
      "outer range (high) of the distribution:\n",
      "[[  7.50959978]\n",
      " [  7.94180274]\n",
      " [  7.96586558]\n",
      " [  8.20583103]\n",
      " [  8.23221397]\n",
      " [  8.28783027]\n",
      " [  8.40390196]\n",
      " [  8.90391837]\n",
      " [  9.80929078]\n",
      " [ 11.65775393]]\n"
     ]
    }
   ],
   "source": [
    "#standardizing data\n",
    "saleprice_scaled = StandardScaler().fit_transform(df['EnergyRatingCont'][:,np.newaxis]);\n",
    "low_range = saleprice_scaled[saleprice_scaled[:,0].argsort()][:10]\n",
    "high_range= saleprice_scaled[saleprice_scaled[:,0].argsort()][-10:]\n",
    "print('outer range (low) of the distribution:')\n",
    "print(low_range)\n",
    "print('\\nouter range (high) of the distribution:')\n",
    "print(high_range)"
   ]
  },
  {
   "cell_type": "markdown",
   "metadata": {},
   "source": [
    "Data standardization means converting data values to have mean of 0 and a standard deviation of 1, which is what we have done here. Some comments:\n",
    "\n",
    "* The low values look ok and are close to zero\n",
    "* There are some very high values, the 11.66 an obvious stand out\n",
    "\n",
    "For now I'm not going to remove any of these but this is an interesting observation and one I may revisit later."
   ]
  },
  {
   "cell_type": "markdown",
   "metadata": {},
   "source": [
    "### Independant Variables\n",
    "\n",
    "We have a lot of independant variables in this data set so I'm going to look for outliers in the 4 most correlated features (plus GroundFloorArea) with 'EnergyRatingCont'. These are:\n",
    "\n",
    "* AvgWallU \n",
    "* AvgRoofU \n",
    "* AvgWindowU \n",
    "* AvgFloorU\n",
    "* GroundFloorArea\n",
    "\n",
    "#### AvgWallU"
   ]
  },
  {
   "cell_type": "code",
   "execution_count": 52,
   "metadata": {},
   "outputs": [
    {
     "data": {
      "image/png": "[encoded data removed]",
      "text/plain": [
       "<matplotlib.figure.Figure at 0x174b0d1ee48>"
      ]
     },
     "metadata": {},
     "output_type": "display_data"
    }
   ],
   "source": [
    "var = 'AvgWallU'\n",
    "data = pd.concat([df['EnergyRatingCont'], df[var]], axis=1)\n",
    "data.plot.scatter(x=var, y='EnergyRatingCont', ylim=(0,5000));"
   ]
  },
  {
   "cell_type": "markdown",
   "metadata": {},
   "source": [
    "**Obervations**\n",
    "\n",
    "There is an overall positive linear trend in the data here with a number of spikes along the x-axis. There is one specific outlier, where the AvgWallU value is over 2.5, but this follows the overall linear trend so I'll leave it in. With regards t othe spikes, I'm not 100% sure whats causing them so I'll leave them here for now.\n",
    "\n",
    "#### AvgRoofU"
   ]
  },
  {
   "cell_type": "code",
   "execution_count": 53,
   "metadata": {},
   "outputs": [
    {
     "data": {
      "image/png": "[encoded data removed]",
      "text/plain": [
       "<matplotlib.figure.Figure at 0x174b10d6160>"
      ]
     },
     "metadata": {},
     "output_type": "display_data"
    }
   ],
   "source": [
    "var = 'AvgRoofU'\n",
    "data = pd.concat([df['EnergyRatingCont'], df[var]], axis=1)\n",
    "data.plot.scatter(x=var, y='EnergyRatingCont', ylim=(0,5000));"
   ]
  },
  {
   "cell_type": "markdown",
   "metadata": {},
   "source": [
    "**Observations**\n",
    "\n",
    "Again there's clearly a positive linear relationship evident in the data with one large spike towards the end of the data.\n",
    "\n",
    "#### AvgWindowU"
   ]
  },
  {
   "cell_type": "code",
   "execution_count": 54,
   "metadata": {},
   "outputs": [
    {
     "data": {
      "image/png": "[encoded data removed]",
      "text/plain": [
       "<matplotlib.figure.Figure at 0x174ad895a20>"
      ]
     },
     "metadata": {},
     "output_type": "display_data"
    }
   ],
   "source": [
    "var = 'AvgWindowU'\n",
    "data = pd.concat([df['EnergyRatingCont'], df[var]], axis=1)\n",
    "data.plot.scatter(x=var, y='EnergyRatingCont', ylim=(0,5000));"
   ]
  },
  {
   "cell_type": "markdown",
   "metadata": {},
   "source": [
    "**Observations**\n",
    "\n",
    "Once again there's clearly a positive linear relationship evident in the data with a few small spikes. Theres no evident outliers so no changes needed.\n",
    "\n",
    "#### AvgFloorU"
   ]
  },
  {
   "cell_type": "code",
   "execution_count": 56,
   "metadata": {},
   "outputs": [
    {
     "data": {
      "image/png": "[encoded data removed]",
      "text/plain": [
       "<matplotlib.figure.Figure at 0x174b10b8208>"
      ]
     },
     "metadata": {},
     "output_type": "display_data"
    }
   ],
   "source": [
    "var = 'AvgFloorU'\n",
    "data = pd.concat([df['EnergyRatingCont'], df[var]], axis=1)\n",
    "data.plot.scatter(x=var, y='EnergyRatingCont', ylim=(0,5000));"
   ]
  },
  {
   "cell_type": "markdown",
   "metadata": {},
   "source": [
    "**Observations**\n",
    "\n",
    "Ctrl-C, Ctrl-V from above!\n",
    "\n",
    "#### GroundFloorArea"
   ]
  },
  {
   "cell_type": "code",
   "execution_count": 59,
   "metadata": {},
   "outputs": [
    {
     "data": {
      "image/png": "[encoded data removed]",
      "text/plain": [
       "<matplotlib.figure.Figure at 0x174b0dde2e8>"
      ]
     },
     "metadata": {},
     "output_type": "display_data"
    }
   ],
   "source": [
    "var = 'GroundFloorArea'\n",
    "data = pd.concat([df['EnergyRatingCont'], df[var]], axis=1)\n",
    "data.plot.scatter(x=var, y='EnergyRatingCont', ylim=(0,2500));"
   ]
  },
  {
   "cell_type": "markdown",
   "metadata": {},
   "source": [
    "**Observations**\n",
    "\n",
    "Theres clearly a trend evident here where in general the higher the GroundFloorArea, the lower the Energy Rating value its given. There's no evident outliers so I'll leave it as is."
   ]
  },
  {
   "cell_type": "markdown",
   "metadata": {},
   "source": [
    "## Conclusion\n",
    "\n",
    "In this notebook, our data set has been cleaned and is now ready to be used from a machine learning perspective. All null values in the data set were replaces, along with zero values in area type values (which make no sense if you think about it). We've also searched for some outliers, but fortunately (our unfortunately, I'm not sure yet) we found none in the end. The final step I'll do in this notebook is to save this data frame to a csv so that this processing won't need to be completed again in the next notebook."
   ]
  },
  {
   "cell_type": "code",
   "execution_count": null,
   "metadata": {
    "collapsed": true
   },
   "outputs": [],
   "source": [
    "df.to_csv('data/training_small_processed.csv')"
   ]
  }
 ],
 "metadata": {
  "kernelspec": {
   "display_name": "Python 3",
   "language": "python",
   "name": "python3"
  },
  "language_info": {
   "codemirror_mode": {
    "name": "ipython",
    "version": 3
   },
   "file_extension": ".py",
   "mimetype": "text/x-python",
   "name": "python",
   "nbconvert_exporter": "python",
   "pygments_lexer": "ipython3",
   "version": "3.6.3"
  }
 },
 "nbformat": 4,
 "nbformat_minor": 2
}
