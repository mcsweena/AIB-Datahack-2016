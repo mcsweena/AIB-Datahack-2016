{
 "cells": [
  {
   "cell_type": "markdown",
   "metadata": {},
   "source": [
    "# Predicting Irish house energy ratings using supervised machine learning methods \n",
    "\n",
    "## AIB Datahack 2016\n",
    "\n",
    "The exercise in part 1 of this series, where can be viewed [here](https://nbviewer.jupyter.org/github/mcsweena/AIB-Datahack-2016/blob/master/Part1-Initial-Data-Exploration.ipynb), was very useful. The analysis highlighted some very important insights into the variables I believed to be most important. \n",
    "\n",
    "But what about the variables I didn't feel were as important, what if secretly, they're the lynch pin to this whole thing. Lets use a few different techniques to see if we can uncover any of these hidden important variables.\n",
    "\n",
    "First, to bring as much data into focus as possible, lets do some light processing"
   ]
  },
  {
   "cell_type": "code",
   "execution_count": 1,
   "metadata": {
    "collapsed": true
   },
   "outputs": [],
   "source": [
    "# Import libraries\n",
    "import numpy as np\n",
    "import pandas as pd\n",
    "import matplotlib.pyplot as plt\n",
    "import seaborn as sns\n",
    "\n",
    "import warnings\n",
    "warnings.filterwarnings('ignore')\n",
    "\n",
    "%matplotlib inline"
   ]
  },
  {
   "cell_type": "code",
   "execution_count": 2,
   "metadata": {},
   "outputs": [
    {
     "data": {
      "text/html": [
       "<div>\n",
       "<style scoped>\n",
       "    .dataframe tbody tr th:only-of-type {\n",
       "        vertical-align: middle;\n",
       "    }\n",
       "\n",
       "    .dataframe tbody tr th {\n",
       "        vertical-align: top;\n",
       "    }\n",
       "\n",
       "    .dataframe thead th {\n",
       "        text-align: right;\n",
       "    }\n",
       "</style>\n",
       "<table border=\"1\" class=\"dataframe\">\n",
       "  <thead>\n",
       "    <tr style=\"text-align: right;\">\n",
       "      <th></th>\n",
       "      <th>County</th>\n",
       "      <th>Type</th>\n",
       "      <th>Year</th>\n",
       "      <th>RatingType</th>\n",
       "      <th>EnergyRatingCat</th>\n",
       "      <th>EnergyRatingCont</th>\n",
       "      <th>GroundFloorArea</th>\n",
       "      <th>AvgWallU</th>\n",
       "      <th>AvgRoofU</th>\n",
       "      <th>AvgFloorU</th>\n",
       "      <th>...</th>\n",
       "      <th>EffSecondHeatGenPlant</th>\n",
       "      <th>PercSecondHeat</th>\n",
       "      <th>FuelTypeThirdBoiler</th>\n",
       "      <th>EffThirdHeatGenPlant</th>\n",
       "      <th>PercThirdHeat</th>\n",
       "      <th>HeatingSystemSolarSpace</th>\n",
       "      <th>TotPrimaryEnergyFac</th>\n",
       "      <th>TotCO2Emissions</th>\n",
       "      <th>PrimaryEnergySecondarySpace</th>\n",
       "      <th>EnergyMainWater</th>\n",
       "    </tr>\n",
       "    <tr>\n",
       "      <th>BuildingID</th>\n",
       "      <th></th>\n",
       "      <th></th>\n",
       "      <th></th>\n",
       "      <th></th>\n",
       "      <th></th>\n",
       "      <th></th>\n",
       "      <th></th>\n",
       "      <th></th>\n",
       "      <th></th>\n",
       "      <th></th>\n",
       "      <th></th>\n",
       "      <th></th>\n",
       "      <th></th>\n",
       "      <th></th>\n",
       "      <th></th>\n",
       "      <th></th>\n",
       "      <th></th>\n",
       "      <th></th>\n",
       "      <th></th>\n",
       "      <th></th>\n",
       "      <th></th>\n",
       "    </tr>\n",
       "  </thead>\n",
       "  <tbody>\n",
       "    <tr>\n",
       "      <th>190835</th>\n",
       "      <td>Co. Wexford</td>\n",
       "      <td>Mid-terrace house</td>\n",
       "      <td>Y1890.0</td>\n",
       "      <td>Existing</td>\n",
       "      <td>F</td>\n",
       "      <td>418.42</td>\n",
       "      <td>52.04 sq. m</td>\n",
       "      <td>2.10</td>\n",
       "      <td>2.30</td>\n",
       "      <td>0.61</td>\n",
       "      <td>...</td>\n",
       "      <td>NaN</td>\n",
       "      <td>NaN</td>\n",
       "      <td>NaN</td>\n",
       "      <td>NaN</td>\n",
       "      <td>NaN</td>\n",
       "      <td>NaN</td>\n",
       "      <td>NaN</td>\n",
       "      <td>NaN</td>\n",
       "      <td>0.000</td>\n",
       "      <td>2335.6809</td>\n",
       "    </tr>\n",
       "    <tr>\n",
       "      <th>523113</th>\n",
       "      <td>Co. Clare</td>\n",
       "      <td>Detached house</td>\n",
       "      <td>Y1901.0</td>\n",
       "      <td>Existing</td>\n",
       "      <td>G</td>\n",
       "      <td>520.35</td>\n",
       "      <td>147.44 sq. m</td>\n",
       "      <td>2.01</td>\n",
       "      <td>0.75</td>\n",
       "      <td>0.94</td>\n",
       "      <td>...</td>\n",
       "      <td>NaN</td>\n",
       "      <td>NaN</td>\n",
       "      <td>NaN</td>\n",
       "      <td>NaN</td>\n",
       "      <td>NaN</td>\n",
       "      <td>NaN</td>\n",
       "      <td>NaN</td>\n",
       "      <td>NaN</td>\n",
       "      <td>7144.838</td>\n",
       "      <td>4470.0759</td>\n",
       "    </tr>\n",
       "    <tr>\n",
       "      <th>271393</th>\n",
       "      <td>Co. Kerry</td>\n",
       "      <td>Detached house</td>\n",
       "      <td>Y1968.0</td>\n",
       "      <td>Existing</td>\n",
       "      <td>D2</td>\n",
       "      <td>281.33</td>\n",
       "      <td>104.84 sq. m</td>\n",
       "      <td>0.38</td>\n",
       "      <td>0.13</td>\n",
       "      <td>0.68</td>\n",
       "      <td>...</td>\n",
       "      <td>NaN</td>\n",
       "      <td>NaN</td>\n",
       "      <td>NaN</td>\n",
       "      <td>NaN</td>\n",
       "      <td>NaN</td>\n",
       "      <td>NaN</td>\n",
       "      <td>NaN</td>\n",
       "      <td>NaN</td>\n",
       "      <td>2127.347</td>\n",
       "      <td>5837.4729</td>\n",
       "    </tr>\n",
       "  </tbody>\n",
       "</table>\n",
       "<p>3 rows × 140 columns</p>\n",
       "</div>"
      ],
      "text/plain": [
       "                 County               Type     Year       RatingType  \\\n",
       "BuildingID                                                             \n",
       "190835      Co. Wexford  Mid-terrace house  Y1890.0  Existing          \n",
       "523113        Co. Clare     Detached house  Y1901.0  Existing          \n",
       "271393        Co. Kerry     Detached house  Y1968.0  Existing          \n",
       "\n",
       "           EnergyRatingCat  EnergyRatingCont GroundFloorArea  AvgWallU  \\\n",
       "BuildingID                                                               \n",
       "190835                  F             418.42     52.04 sq. m      2.10   \n",
       "523113                  G             520.35    147.44 sq. m      2.01   \n",
       "271393                  D2            281.33    104.84 sq. m      0.38   \n",
       "\n",
       "            AvgRoofU  AvgFloorU       ...        EffSecondHeatGenPlant  \\\n",
       "BuildingID                            ...                                \n",
       "190835          2.30       0.61       ...                          NaN   \n",
       "523113          0.75       0.94       ...                          NaN   \n",
       "271393          0.13       0.68       ...                          NaN   \n",
       "\n",
       "            PercSecondHeat  FuelTypeThirdBoiler  EffThirdHeatGenPlant  \\\n",
       "BuildingID                                                              \n",
       "190835                 NaN                  NaN                   NaN   \n",
       "523113                 NaN                  NaN                   NaN   \n",
       "271393                 NaN                  NaN                   NaN   \n",
       "\n",
       "            PercThirdHeat  HeatingSystemSolarSpace  TotPrimaryEnergyFac  \\\n",
       "BuildingID                                                                \n",
       "190835                NaN                      NaN                  NaN   \n",
       "523113                NaN                      NaN                  NaN   \n",
       "271393                NaN                      NaN                  NaN   \n",
       "\n",
       "            TotCO2Emissions PrimaryEnergySecondarySpace EnergyMainWater  \n",
       "BuildingID                                                               \n",
       "190835                  NaN                       0.000       2335.6809  \n",
       "523113                  NaN                    7144.838       4470.0759  \n",
       "271393                  NaN                    2127.347       5837.4729  \n",
       "\n",
       "[3 rows x 140 columns]"
      ]
     },
     "execution_count": 2,
     "metadata": {},
     "output_type": "execute_result"
    }
   ],
   "source": [
    "# Data Import\n",
    "train = pd.read_csv(\"large_data/training.txt\", sep='\\t', encoding='ISO-8859-1', header=0, low_memory=False, index_col=0)\n",
    "test = pd.read_csv(\"large_data/testing.txt\", sep='\\t', encoding='ISO-8859-1', header=0, low_memory=False, index_col=0)\n",
    "\n",
    "train.head(3)"
   ]
  },
  {
   "cell_type": "code",
   "execution_count": 3,
   "metadata": {},
   "outputs": [
    {
     "name": "stdout",
     "output_type": "stream",
     "text": [
      "Train:  (464514, 140)\n"
     ]
    }
   ],
   "source": [
    "# Dataframe shapes\n",
    "print(\"Train: \", train.shape)\n",
    "print(\"Test: \", test.shape)"
   ]
  },
  {
   "cell_type": "code",
   "execution_count": 4,
   "metadata": {},
   "outputs": [
    {
     "data": {
      "text/plain": [
       "Index(['County', 'Type', 'Year', 'RatingType', 'EnergyRatingCat',\n",
       "       'EnergyRatingCont', 'GroundFloorArea', 'AvgWallU', 'AvgRoofU',\n",
       "       'AvgFloorU',\n",
       "       ...\n",
       "       'EffSecondHeatGenPlant', 'PercSecondHeat', 'FuelTypeThirdBoiler',\n",
       "       'EffThirdHeatGenPlant', 'PercThirdHeat', 'HeatingSystemSolarSpace',\n",
       "       'TotPrimaryEnergyFac', 'TotCO2Emissions', 'PrimaryEnergySecondarySpace',\n",
       "       'EnergyMainWater'],\n",
       "      dtype='object', length=140)"
      ]
     },
     "execution_count": 4,
     "metadata": {},
     "output_type": "execute_result"
    }
   ],
   "source": [
    "# Lets check the columns\n",
    "train.columns"
   ]
  },
  {
   "cell_type": "markdown",
   "metadata": {},
   "source": [
    "Ok, first off, lets look at the variables with null values in them"
   ]
  },
  {
   "cell_type": "code",
   "execution_count": 5,
   "metadata": {},
   "outputs": [
    {
     "data": {
      "text/plain": [
       "137"
      ]
     },
     "execution_count": 5,
     "metadata": {},
     "output_type": "execute_result"
    }
   ],
   "source": [
    "null_df = df.isnull().sum()\n",
    "null_df[null_df > 0].count()"
   ]
  },
  {
   "cell_type": "markdown",
   "metadata": {},
   "source": [
    "137 of the 140 variables in the whole dataframe have null values. This is useful information. But is missing one or two values really that detrimental to our overall analysis? Probably not. Lets look at the overall percentage of missing values in each column and remove any columns missing over 15% of there total values."
   ]
  },
  {
   "cell_type": "code",
   "execution_count": 6,
   "metadata": {},
   "outputs": [
    {
     "data": {
      "text/plain": [
       "464514"
      ]
     },
     "execution_count": 6,
     "metadata": {},
     "output_type": "execute_result"
    }
   ],
   "source": [
    "len(df)"
   ]
  },
  {
   "cell_type": "code",
   "execution_count": 7,
   "metadata": {
    "collapsed": true
   },
   "outputs": [],
   "source": [
    "null_df = null_df.reset_index()\n",
    "null_df.columns = ['index', 'count']\n",
    "null_df['percentage'] = null_df['count'].apply(lambda x: (x/len(df))*100)\n",
    "null_df.set_index('index', inplace=True)\n",
    "null_df_15 = null_df[null_df['percentage'] > 15]"
   ]
  },
  {
   "cell_type": "code",
   "execution_count": 8,
   "metadata": {},
   "outputs": [
    {
     "data": {
      "text/plain": [
       "27"
      ]
     },
     "execution_count": 8,
     "metadata": {},
     "output_type": "execute_result"
    }
   ],
   "source": [
    "len(null_df_15)"
   ]
  },
  {
   "cell_type": "code",
   "execution_count": 9,
   "metadata": {},
   "outputs": [
    {
     "data": {
      "text/plain": [
       "Index(['AreaAperture', 'ZeroLossCollEff', 'CollHeatLoss', 'SolarRadiation',\n",
       "       'Overshading', 'DedicatedSolarVol', 'SolarPumpElect', 'SolarHeatFrac',\n",
       "       'LargestRoofType', 'ProdFirstEnerComment', 'ConsFirstEnerComment',\n",
       "       'ProdSecondEnerComment', 'ConsSecondEnerComment',\n",
       "       'ProdThirdEnerComment', 'ConsThirdEnerComment', 'FuelTypeFirstBoiler',\n",
       "       'EffFirstHeatGenPlant', 'PercFirstHeat', 'FuelTypeSecondBoiler',\n",
       "       'EffSecondHeatGenPlant', 'PercSecondHeat', 'FuelTypeThirdBoiler',\n",
       "       'EffThirdHeatGenPlant', 'PercThirdHeat', 'HeatingSystemSolarSpace',\n",
       "       'TotPrimaryEnergyFac', 'TotCO2Emissions'],\n",
       "      dtype='object', name='index')"
      ]
     },
     "execution_count": 9,
     "metadata": {},
     "output_type": "execute_result"
    }
   ],
   "source": [
    "null_df_15.index"
   ]
  },
  {
   "cell_type": "markdown",
   "metadata": {
    "collapsed": true
   },
   "source": [
    "So 27 of the 140 variables have over 15% of their values missing, and most of these were missing above 90%. Taking a quick look at the column names, none look considerably important, so lets drop them."
   ]
  },
  {
   "cell_type": "code",
   "execution_count": 10,
   "metadata": {},
   "outputs": [
    {
     "data": {
      "text/plain": [
       "(464514, 113)"
      ]
     },
     "execution_count": 10,
     "metadata": {},
     "output_type": "execute_result"
    }
   ],
   "source": [
    "df = df.drop(null_df_15.index, axis='columns')\n",
    "df.shape"
   ]
  },
  {
   "cell_type": "markdown",
   "metadata": {},
   "source": [
    "With these removed, lets look at whats left."
   ]
  },
  {
   "cell_type": "code",
   "execution_count": 11,
   "metadata": {},
   "outputs": [
    {
     "data": {
      "text/plain": [
       "{dtype('float64'): Index(['EnergyRatingCont', 'AvgWallU', 'AvgRoofU', 'AvgFloorU', 'AvgWindowU',\n",
       "        'AvgDoorU', 'ExposedWallArea', 'ExposedRoofArea', 'TotFloorArea',\n",
       "        'TotWindowArea', 'TotDoorArea', 'NStoreys', 'MainSHEfficiency',\n",
       "        'BuildingReg', 'MainSHAdj', 'SecSHFrac', 'SecSHEfficiency',\n",
       "        'MainWHEfficiency', 'MainWHAdj', 'SecSHFuel', 'SecWHFuel', 'NChimneys',\n",
       "        'NOpenFlues', 'NFansVents', 'PercDraughtStripped', 'NShelteredSides',\n",
       "        'PermTestResult', 'TempAdj', 'ControlCat', 'ResponseCat', 'NCHPumps',\n",
       "        'NGasFans', 'DistLoss', 'VolWaterStorage', 'TempFac', 'TempFacMult',\n",
       "        'HWInsulationThickness', 'LightingEnergy', 'PumpsAndFansEnergy',\n",
       "        'MainWaterEnergy', 'PrimaryLightingEnergy', 'PrimaryPumpsFansEnergy',\n",
       "        'PrimaryMainWaterEnergy', 'PrimaryMainSpaceEnergy', 'LightingCO2',\n",
       "        'PumpsAndFansCO2', 'MainWaterCO2', 'MainSpaceCO2', 'AreaGroundFloor',\n",
       "        'HeightGroundFloor', 'AreaFirstFloor', 'HeightFirstFloor',\n",
       "        'AreaSecondFloor', 'BridgingFac', 'LargestRoofTypeArea',\n",
       "        'SecWaterEnergy', 'SecSpaceCO2', 'SecWaterCO2', 'SecSpacePrimaryEnergy',\n",
       "        'SecWaterPrimaryEnergy', 'UpgradeHES', 'RoofAreaRoom',\n",
       "        'PrimaryEnergySecondarySpace', 'EnergyMainWater'],\n",
       "       dtype='object'),\n",
       " dtype('O'): Index(['County', 'Type', 'Year', 'RatingType', 'EnergyRatingCat',\n",
       "        'GroundFloorArea', 'MainSHFuel', 'MainWHFuel', 'SharedMPRN', 'DLobby',\n",
       "        'VentMethod', 'WallStructure', 'SuspWoodFloor', 'PermTest',\n",
       "        'BoilerStat1', 'BoilerStat2', 'OilPumpIn', 'WarmAir', 'Underfloor',\n",
       "        'StorageLoss', 'DeclaredLoss', 'SolarWaterHeating', 'SummerElectricImm',\n",
       "        'Combi', 'KeepHot', 'HWInsulationType', 'PrimaryLoss',\n",
       "        'CylinderThermostat', 'CombiCylinder', 'SolarPumpPower', 'Charging',\n",
       "        'MainSpaceEnergy', 'MassCat', 'PercLowEnergy', 'TotEnergy',\n",
       "        'SecSpaceEnergy', 'PercLivingArea', 'RatingPurpose', 'AssessmentDate',\n",
       "        'FirstEnerType', 'FirstEnerTypeDescr', 'ProdFirstEnerDelivered',\n",
       "        'ProdFirstEnerConvFac', 'SecondEnerTypeDescr',\n",
       "        'ProdSecondEnerDelivered', 'ProdSecondEnerConvFac',\n",
       "        'ThirdEnerTypeDescr', 'ProdThirdEnerDelivered', 'ProdThirdEnerConvFac'],\n",
       "       dtype='object')}"
      ]
     },
     "execution_count": 11,
     "metadata": {},
     "output_type": "execute_result"
    }
   ],
   "source": [
    "g = df.columns.to_series().groupby(df.dtypes).groups\n",
    "g"
   ]
  },
  {
   "cell_type": "code",
   "execution_count": 12,
   "metadata": {},
   "outputs": [
    {
     "data": {
      "text/plain": [
       "dict_keys(['float64', 'object'])"
      ]
     },
     "execution_count": 12,
     "metadata": {},
     "output_type": "execute_result"
    }
   ],
   "source": [
    "dtype_dict = {k.name: v for k, v in g.items()}\n",
    "dtype_dict.keys()"
   ]
  },
  {
   "cell_type": "code",
   "execution_count": 13,
   "metadata": {},
   "outputs": [
    {
     "name": "stdout",
     "output_type": "stream",
     "text": [
      "Number of numerical columns:  64\n",
      "Number of object columns:  49\n"
     ]
    }
   ],
   "source": [
    "print('Number of numerical columns: ', len(dtype_dict['float64']))\n",
    "print('Number of object columns: ', len(dtype_dict['object']))"
   ]
  },
  {
   "cell_type": "markdown",
   "metadata": {},
   "source": [
    "Great, 64 of the 113 columns are already numerical based. We can leave these alone for now. Lets dig into the object variables and see if a little processing can transform to the required numerical data"
   ]
  },
  {
   "cell_type": "code",
   "execution_count": 14,
   "metadata": {},
   "outputs": [
    {
     "data": {
      "text/html": [
       "<div>\n",
       "<style scoped>\n",
       "    .dataframe tbody tr th:only-of-type {\n",
       "        vertical-align: middle;\n",
       "    }\n",
       "\n",
       "    .dataframe tbody tr th {\n",
       "        vertical-align: top;\n",
       "    }\n",
       "\n",
       "    .dataframe thead th {\n",
       "        text-align: right;\n",
       "    }\n",
       "</style>\n",
       "<table border=\"1\" class=\"dataframe\">\n",
       "  <thead>\n",
       "    <tr style=\"text-align: right;\">\n",
       "      <th></th>\n",
       "      <th>County</th>\n",
       "      <th>Type</th>\n",
       "      <th>Year</th>\n",
       "      <th>RatingType</th>\n",
       "      <th>EnergyRatingCat</th>\n",
       "      <th>GroundFloorArea</th>\n",
       "      <th>MainSHFuel</th>\n",
       "      <th>MainWHFuel</th>\n",
       "      <th>SharedMPRN</th>\n",
       "      <th>DLobby</th>\n",
       "      <th>...</th>\n",
       "      <th>FirstEnerType</th>\n",
       "      <th>FirstEnerTypeDescr</th>\n",
       "      <th>ProdFirstEnerDelivered</th>\n",
       "      <th>ProdFirstEnerConvFac</th>\n",
       "      <th>SecondEnerTypeDescr</th>\n",
       "      <th>ProdSecondEnerDelivered</th>\n",
       "      <th>ProdSecondEnerConvFac</th>\n",
       "      <th>ThirdEnerTypeDescr</th>\n",
       "      <th>ProdThirdEnerDelivered</th>\n",
       "      <th>ProdThirdEnerConvFac</th>\n",
       "    </tr>\n",
       "    <tr>\n",
       "      <th>BuildingID</th>\n",
       "      <th></th>\n",
       "      <th></th>\n",
       "      <th></th>\n",
       "      <th></th>\n",
       "      <th></th>\n",
       "      <th></th>\n",
       "      <th></th>\n",
       "      <th></th>\n",
       "      <th></th>\n",
       "      <th></th>\n",
       "      <th></th>\n",
       "      <th></th>\n",
       "      <th></th>\n",
       "      <th></th>\n",
       "      <th></th>\n",
       "      <th></th>\n",
       "      <th></th>\n",
       "      <th></th>\n",
       "      <th></th>\n",
       "      <th></th>\n",
       "      <th></th>\n",
       "    </tr>\n",
       "  </thead>\n",
       "  <tbody>\n",
       "    <tr>\n",
       "      <th>190835</th>\n",
       "      <td>Co. Wexford</td>\n",
       "      <td>Mid-terrace house</td>\n",
       "      <td>Y1890.0</td>\n",
       "      <td>Existing</td>\n",
       "      <td>F</td>\n",
       "      <td>52.04 sq. m</td>\n",
       "      <td>Heating Oil</td>\n",
       "      <td>Heating Oil</td>\n",
       "      <td>NO</td>\n",
       "      <td>NO</td>\n",
       "      <td>...</td>\n",
       "      <td>1</td>\n",
       "      <td>Renewable Thermal</td>\n",
       "      <td>0</td>\n",
       "      <td>0</td>\n",
       "      <td>Renewable Thermal</td>\n",
       "      <td>0</td>\n",
       "      <td>0</td>\n",
       "      <td>Renewable Thermal</td>\n",
       "      <td>0</td>\n",
       "      <td>0</td>\n",
       "    </tr>\n",
       "    <tr>\n",
       "      <th>523113</th>\n",
       "      <td>Co. Clare</td>\n",
       "      <td>Detached house</td>\n",
       "      <td>Y1901.0</td>\n",
       "      <td>Existing</td>\n",
       "      <td>G</td>\n",
       "      <td>147.44 sq. m</td>\n",
       "      <td>Heating Oil</td>\n",
       "      <td>Heating Oil</td>\n",
       "      <td>NO</td>\n",
       "      <td>NO</td>\n",
       "      <td>...</td>\n",
       "      <td>1</td>\n",
       "      <td>Renewable Thermal</td>\n",
       "      <td>0</td>\n",
       "      <td>0</td>\n",
       "      <td>Renewable Thermal</td>\n",
       "      <td>0</td>\n",
       "      <td>0</td>\n",
       "      <td>Renewable Thermal</td>\n",
       "      <td>0</td>\n",
       "      <td>0</td>\n",
       "    </tr>\n",
       "    <tr>\n",
       "      <th>271393</th>\n",
       "      <td>Co. Kerry</td>\n",
       "      <td>Detached house</td>\n",
       "      <td>Y1968.0</td>\n",
       "      <td>Existing</td>\n",
       "      <td>D2</td>\n",
       "      <td>104.84 sq. m</td>\n",
       "      <td>Heating Oil</td>\n",
       "      <td>Heating Oil</td>\n",
       "      <td>NO</td>\n",
       "      <td>NO</td>\n",
       "      <td>...</td>\n",
       "      <td>1</td>\n",
       "      <td>Renewable Thermal</td>\n",
       "      <td>0</td>\n",
       "      <td>0</td>\n",
       "      <td>Renewable Thermal</td>\n",
       "      <td>0</td>\n",
       "      <td>0</td>\n",
       "      <td>Renewable Thermal</td>\n",
       "      <td>0</td>\n",
       "      <td>0</td>\n",
       "    </tr>\n",
       "    <tr>\n",
       "      <th>585961</th>\n",
       "      <td>Co. Cork</td>\n",
       "      <td>Semi-detached house</td>\n",
       "      <td>Y2002.0</td>\n",
       "      <td>Existing</td>\n",
       "      <td>C2</td>\n",
       "      <td>95.31 sq. m</td>\n",
       "      <td>Mains Gas</td>\n",
       "      <td>Mains Gas</td>\n",
       "      <td>NO</td>\n",
       "      <td>NO</td>\n",
       "      <td>...</td>\n",
       "      <td>1</td>\n",
       "      <td>Renewable Thermal</td>\n",
       "      <td>0</td>\n",
       "      <td>0</td>\n",
       "      <td>Renewable Thermal</td>\n",
       "      <td>0</td>\n",
       "      <td>0</td>\n",
       "      <td>Renewable Thermal</td>\n",
       "      <td>0</td>\n",
       "      <td>0</td>\n",
       "    </tr>\n",
       "    <tr>\n",
       "      <th>624083</th>\n",
       "      <td>Co. Laois</td>\n",
       "      <td>Detached house</td>\n",
       "      <td>Y2002.0</td>\n",
       "      <td>Existing</td>\n",
       "      <td>B3</td>\n",
       "      <td>283.87 sq. m</td>\n",
       "      <td>Mains Gas</td>\n",
       "      <td>Mains Gas</td>\n",
       "      <td>NO</td>\n",
       "      <td>NO</td>\n",
       "      <td>...</td>\n",
       "      <td>1</td>\n",
       "      <td>Renewable Thermal</td>\n",
       "      <td>0</td>\n",
       "      <td>0</td>\n",
       "      <td>Renewable Thermal</td>\n",
       "      <td>0</td>\n",
       "      <td>0</td>\n",
       "      <td>Renewable Thermal</td>\n",
       "      <td>0</td>\n",
       "      <td>0</td>\n",
       "    </tr>\n",
       "  </tbody>\n",
       "</table>\n",
       "<p>5 rows × 49 columns</p>\n",
       "</div>"
      ],
      "text/plain": [
       "                 County                 Type     Year       RatingType  \\\n",
       "BuildingID                                                               \n",
       "190835      Co. Wexford    Mid-terrace house  Y1890.0  Existing          \n",
       "523113        Co. Clare       Detached house  Y1901.0  Existing          \n",
       "271393        Co. Kerry       Detached house  Y1968.0  Existing          \n",
       "585961         Co. Cork  Semi-detached house  Y2002.0  Existing          \n",
       "624083        Co. Laois       Detached house  Y2002.0  Existing          \n",
       "\n",
       "           EnergyRatingCat GroundFloorArea                      MainSHFuel  \\\n",
       "BuildingID                                                                   \n",
       "190835                  F      52.04 sq. m  Heating Oil                      \n",
       "523113                  G     147.44 sq. m  Heating Oil                      \n",
       "271393                  D2    104.84 sq. m  Heating Oil                      \n",
       "585961                  C2     95.31 sq. m  Mains Gas                        \n",
       "624083                  B3    283.87 sq. m  Mains Gas                        \n",
       "\n",
       "                                MainWHFuel SharedMPRN DLobby  \\\n",
       "BuildingID                                                     \n",
       "190835      Heating Oil                            NO     NO   \n",
       "523113      Heating Oil                            NO     NO   \n",
       "271393      Heating Oil                            NO     NO   \n",
       "585961      Mains Gas                              NO     NO   \n",
       "624083      Mains Gas                              NO     NO   \n",
       "\n",
       "                   ...          FirstEnerType FirstEnerTypeDescr  \\\n",
       "BuildingID         ...                                             \n",
       "190835             ...                      1  Renewable Thermal   \n",
       "523113             ...                      1  Renewable Thermal   \n",
       "271393             ...                      1  Renewable Thermal   \n",
       "585961             ...                      1  Renewable Thermal   \n",
       "624083             ...                      1  Renewable Thermal   \n",
       "\n",
       "           ProdFirstEnerDelivered ProdFirstEnerConvFac SecondEnerTypeDescr  \\\n",
       "BuildingID                                                                   \n",
       "190835                          0                    0   Renewable Thermal   \n",
       "523113                          0                    0   Renewable Thermal   \n",
       "271393                          0                    0   Renewable Thermal   \n",
       "585961                          0                    0   Renewable Thermal   \n",
       "624083                          0                    0   Renewable Thermal   \n",
       "\n",
       "           ProdSecondEnerDelivered ProdSecondEnerConvFac ThirdEnerTypeDescr  \\\n",
       "BuildingID                                                                    \n",
       "190835                           0                     0  Renewable Thermal   \n",
       "523113                           0                     0  Renewable Thermal   \n",
       "271393                           0                     0  Renewable Thermal   \n",
       "585961                           0                     0  Renewable Thermal   \n",
       "624083                           0                     0  Renewable Thermal   \n",
       "\n",
       "           ProdThirdEnerDelivered ProdThirdEnerConvFac  \n",
       "BuildingID                                              \n",
       "190835                          0                    0  \n",
       "523113                          0                    0  \n",
       "271393                          0                    0  \n",
       "585961                          0                    0  \n",
       "624083                          0                    0  \n",
       "\n",
       "[5 rows x 49 columns]"
      ]
     },
     "execution_count": 14,
     "metadata": {},
     "output_type": "execute_result"
    }
   ],
   "source": [
    "df[dtype_dict['object']].head()"
   ]
  },
  {
   "cell_type": "markdown",
   "metadata": {},
   "source": [
    "Ok this processing might take some time, but it'll be worth it for our deeper analysis.\n",
    "\n",
    "### County"
   ]
  },
  {
   "cell_type": "code",
   "execution_count": 15,
   "metadata": {},
   "outputs": [
    {
     "data": {
      "image/png": "[encoded data removed]",
      "text/plain": [
       "<matplotlib.figure.Figure at 0x1051418d0>"
      ]
     },
     "metadata": {},
     "output_type": "display_data"
    }
   ],
   "source": [
    "correct_sort = df.groupby(['County']).mean().to_dict()['EnergyRatingCont']\n",
    "correct_sort = sorted(correct_sort, key=correct_sort.get)\n",
    "\n",
    "# County\n",
    "var = 'County'\n",
    "f, ax = plt.subplots(figsize=(12, 6))\n",
    "fig = sns.boxplot(x=var, y=\"EnergyRatingCont\", data=df, order=correct_sort)\n",
    "fig.set_xticklabels(ax.get_xticklabels(),rotation=90)\n",
    "fig.axis(ymin=0, ymax=1000);"
   ]
  },
  {
   "cell_type": "markdown",
   "metadata": {},
   "source": [
    "This graph shows very little evidence that county will have any significant bearing on predicting energy ratings, so lets drop it."
   ]
  },
  {
   "cell_type": "code",
   "execution_count": 16,
   "metadata": {
    "collapsed": true
   },
   "outputs": [],
   "source": [
    "df.drop('County', axis='columns', inplace=True)"
   ]
  },
  {
   "cell_type": "markdown",
   "metadata": {},
   "source": [
    "### Type"
   ]
  },
  {
   "cell_type": "code",
   "execution_count": 17,
   "metadata": {},
   "outputs": [
    {
     "data": {
      "image/png": "[encoded data removed]",
      "text/plain": [
       "<matplotlib.figure.Figure at 0x115815c88>"
      ]
     },
     "metadata": {},
     "output_type": "display_data"
    }
   ],
   "source": [
    "correct_sort = df.groupby(['Type']).mean().to_dict()['EnergyRatingCont']\n",
    "correct_sort = sorted(correct_sort, key=correct_sort.get)\n",
    "\n",
    "# Type\n",
    "var = 'Type'\n",
    "f, ax = plt.subplots(figsize=(12, 6))\n",
    "fig = sns.boxplot(x=var, y=\"EnergyRatingCont\", data=df)\n",
    "fig.set_xticklabels(ax.get_xticklabels(),rotation=90)\n",
    "fig.axis(ymin=0, ymax=1000);"
   ]
  },
  {
   "cell_type": "markdown",
   "metadata": {},
   "source": [
    "Again, this seems like it has very little predictive value, however I thought it would :/ As I dropped county, I feel I'm also obliged to drop type."
   ]
  },
  {
   "cell_type": "code",
   "execution_count": 18,
   "metadata": {
    "collapsed": true
   },
   "outputs": [],
   "source": [
    "df.drop('Type', axis='columns', inplace=True)"
   ]
  },
  {
   "cell_type": "markdown",
   "metadata": {},
   "source": [
    "### Year "
   ]
  },
  {
   "cell_type": "markdown",
   "metadata": {},
   "source": [
    "As we saw in our earlier analysis, Year does seem to have some predictive value, so lets remove the Y in front of each year and keep it in the dataframe."
   ]
  },
  {
   "cell_type": "code",
   "execution_count": 19,
   "metadata": {
    "collapsed": true
   },
   "outputs": [],
   "source": [
    "df['Year'] = df['Year'].map(lambda x: x[1:])"
   ]
  },
  {
   "cell_type": "markdown",
   "metadata": {},
   "source": [
    "### RatingType"
   ]
  },
  {
   "cell_type": "code",
   "execution_count": 20,
   "metadata": {},
   "outputs": [
    {
     "data": {
      "text/plain": [
       "array(['Existing       ', 'Final          ', 'Provisional    ', nan], dtype=object)"
      ]
     },
     "execution_count": 20,
     "metadata": {},
     "output_type": "execute_result"
    }
   ],
   "source": [
    "df['RatingType'].unique()"
   ]
  },
  {
   "cell_type": "code",
   "execution_count": 21,
   "metadata": {},
   "outputs": [
    {
     "data": {
      "text/plain": [
       "Existing           428955\n",
       "Final               28939\n",
       "Provisional          6608\n",
       "Name: RatingType, dtype: int64"
      ]
     },
     "execution_count": 21,
     "metadata": {},
     "output_type": "execute_result"
    }
   ],
   "source": [
    "df['RatingType'].value_counts()"
   ]
  },
  {
   "cell_type": "markdown",
   "metadata": {},
   "source": [
    "Straight away looking at these numbers this doesn't look like it'll have any predive power. Lets graph it just to be sure."
   ]
  },
  {
   "cell_type": "code",
   "execution_count": 22,
   "metadata": {},
   "outputs": [
    {
     "data": {
      "image/png": "[encoded data removed]",
      "text/plain": [
       "<matplotlib.figure.Figure at 0x1182bc9b0>"
      ]
     },
     "metadata": {},
     "output_type": "display_data"
    }
   ],
   "source": [
    "var = 'RatingType'\n",
    "f, ax = plt.subplots(figsize=(12, 6))\n",
    "fig = sns.boxplot(x=var, y=\"EnergyRatingCont\", data=df)\n",
    "fig.set_xticklabels(ax.get_xticklabels(),rotation=90)\n",
    "fig.axis(ymin=0, ymax=1000);"
   ]
  },
  {
   "cell_type": "markdown",
   "metadata": {},
   "source": [
    "The low amount of values in Final and Provisional makes me believe these numbers could be easily skewed. I think dropping these makes sense."
   ]
  },
  {
   "cell_type": "code",
   "execution_count": 23,
   "metadata": {
    "collapsed": true
   },
   "outputs": [],
   "source": [
    "df.drop('RatingType', axis='columns', inplace=True)"
   ]
  },
  {
   "cell_type": "markdown",
   "metadata": {},
   "source": [
    "### GroundFloorArea\n",
    "Similar to Year, our analysis earlier shows that this has some useful predictive value. Lets process it and keep it."
   ]
  },
  {
   "cell_type": "code",
   "execution_count": 24,
   "metadata": {
    "collapsed": true
   },
   "outputs": [],
   "source": [
    "df['GroundFloorArea'] = df['GroundFloorArea'].apply(lambda x: float(x[:-5]))"
   ]
  },
  {
   "cell_type": "markdown",
   "metadata": {},
   "source": [
    "### MainSHFuel"
   ]
  },
  {
   "cell_type": "code",
   "execution_count": 25,
   "metadata": {},
   "outputs": [
    {
     "data": {
      "text/plain": [
       "array(['Heating Oil', 'Mains Gas', 'Solid Multi-Fuel', 'Electricity',\n",
       "       'Bulk LPG (propane or butane)', 'Bottled LPG', 'Sod Peat',\n",
       "       'Wood Pellets (bulk supply for', 'Manufactured Smokeless Fuel',\n",
       "       'Other', 'House Coal', 'Wood Logs',\n",
       "       'Wood Pellets (in bags for seco', 'Peat Briquettes',\n",
       "       'Electricity - Standard Domesti', 'Anthracite',\n",
       "       'Electricity - Off-peak Night-R', 'Wood Chips',\n",
       "       'Electricity - On-peak Night-Ra', 'Biodiesel from renewable sourc'], dtype=object)"
      ]
     },
     "execution_count": 25,
     "metadata": {},
     "output_type": "execute_result"
    }
   ],
   "source": [
    "df['MainSHFuel'].fillna('Other', inplace=True)\n",
    "df['MainSHFuel'] = df['MainSHFuel'].apply(lambda x: x.strip())\n",
    "df['MainSHFuel'].unique()"
   ]
  },
  {
   "cell_type": "code",
   "execution_count": 26,
   "metadata": {},
   "outputs": [
    {
     "data": {
      "text/plain": [
       "Heating Oil                       179258\n",
       "Mains Gas                         178597\n",
       "Electricity                        67796\n",
       "Solid Multi-Fuel                   17937\n",
       "Bulk LPG (propane or butane)        6701\n",
       "Other                               5658\n",
       "Manufactured Smokeless Fuel         3075\n",
       "House Coal                          2437\n",
       "Wood Pellets (bulk supply for        824\n",
       "Sod Peat                             792\n",
       "Bottled LPG                          602\n",
       "Wood Logs                            427\n",
       "Peat Briquettes                      188\n",
       "Wood Pellets (in bags for seco        74\n",
       "Anthracite                            43\n",
       "Electricity - Off-peak Night-R        39\n",
       "Electricity - Standard Domesti        34\n",
       "Wood Chips                            29\n",
       "Electricity - On-peak Night-Ra         2\n",
       "Biodiesel from renewable sourc         1\n",
       "Name: MainSHFuel, dtype: int64"
      ]
     },
     "execution_count": 26,
     "metadata": {},
     "output_type": "execute_result"
    }
   ],
   "source": [
    "df['MainSHFuel'].value_counts()"
   ]
  },
  {
   "cell_type": "code",
   "execution_count": 27,
   "metadata": {},
   "outputs": [
    {
     "data": {
      "image/png": "[encoded data removed]",
      "text/plain": [
       "<matplotlib.figure.Figure at 0x116418320>"
      ]
     },
     "metadata": {},
     "output_type": "display_data"
    }
   ],
   "source": [
    "MainSHFuel_sort = df.groupby(['MainSHFuel']).mean().to_dict()['EnergyRatingCont']\n",
    "MainSHFuel_sort = sorted(MainSHFuel_sort, key=MainSHFuel_sort.get)\n",
    "\n",
    "var = 'MainSHFuel'\n",
    "f, ax = plt.subplots(figsize=(12, 6))\n",
    "fig = sns.boxplot(x=var, y=\"EnergyRatingCont\", data=df, order=MainSHFuel_sort)\n",
    "fig.set_xticklabels(ax.get_xticklabels(),rotation=90)\n",
    "fig.axis(ymin=0, ymax=1000);"
   ]
  },
  {
   "cell_type": "markdown",
   "metadata": {},
   "source": [
    "This looks useful. Some fuel sources definitely seem to have a negative impact on the overall rating. A number of the option however appear pretty irregulary. To reduce the size of the list, I'm going to group the lower represented into their most relevant categories."
   ]
  },
  {
   "cell_type": "code",
   "execution_count": 28,
   "metadata": {
    "collapsed": true
   },
   "outputs": [],
   "source": [
    "elec = ['Electricity - On-peak Night-Ra', 'Electricity - Standard Domesti', \n",
    "       'Electricity - Off-peak Night-R']\n",
    "df['MainSHFuel'].replace(elec, 'Electricity', inplace=True)\n",
    "\n",
    "wood = ['Wood Pellets (bulk supply for', 'Wood Pellets (in bags for seco', 'Wood Chips']\n",
    "df['MainSHFuel'].replace(wood, 'Wood Pellets', inplace=True)"
   ]
  },
  {
   "cell_type": "code",
   "execution_count": 29,
   "metadata": {
    "collapsed": true
   },
   "outputs": [],
   "source": [
    "lpg = ['Bulk LPG (propane or butane)', 'Bottled LPG']\n",
    "df['MainSHFuel'].replace(lpg, 'LPG', inplace=True)\n",
    "\n",
    "other = ['Biodiesel from renewable sourc', 'Anthracite']\n",
    "df['MainSHFuel'].replace(other, 'Other', inplace=True)"
   ]
  },
  {
   "cell_type": "code",
   "execution_count": 30,
   "metadata": {},
   "outputs": [
    {
     "data": {
      "text/plain": [
       "Heating Oil                    179258\n",
       "Mains Gas                      178597\n",
       "Electricity                     67871\n",
       "Solid Multi-Fuel                17937\n",
       "LPG                              7303\n",
       "Other                            5702\n",
       "Manufactured Smokeless Fuel      3075\n",
       "House Coal                       2437\n",
       "Wood Pellets                      927\n",
       "Sod Peat                          792\n",
       "Wood Logs                         427\n",
       "Peat Briquettes                   188\n",
       "Name: MainSHFuel, dtype: int64"
      ]
     },
     "execution_count": 30,
     "metadata": {},
     "output_type": "execute_result"
    }
   ],
   "source": [
    "df['MainSHFuel'].value_counts()"
   ]
  },
  {
   "cell_type": "code",
   "execution_count": 31,
   "metadata": {},
   "outputs": [
    {
     "data": {
      "image/png": "[encoded data removed]",
      "text/plain": [
       "<matplotlib.figure.Figure at 0x116616128>"
      ]
     },
     "metadata": {},
     "output_type": "display_data"
    }
   ],
   "source": [
    "new_MainSHFuel_sort = df.groupby(['MainSHFuel']).mean().to_dict()['EnergyRatingCont']\n",
    "new_MainSHFuel_sort = sorted(new_MainSHFuel_sort, key=new_MainSHFuel_sort.get)\n",
    "\n",
    "var = 'MainSHFuel'\n",
    "f, ax = plt.subplots(figsize=(12, 6))\n",
    "fig = sns.boxplot(x=var, y=\"EnergyRatingCont\", data=df, order=new_MainSHFuel_sort)\n",
    "fig.set_xticklabels(ax.get_xticklabels(),rotation=30)\n",
    "fig.axis(ymin=0, ymax=1000);"
   ]
  },
  {
   "cell_type": "markdown",
   "metadata": {},
   "source": [
    "Ok this looks, and feels, a lot better. And finally, lets change this from categorical to numerical."
   ]
  },
  {
   "cell_type": "code",
   "execution_count": 32,
   "metadata": {
    "collapsed": true
   },
   "outputs": [],
   "source": [
    "df['MainSHFuel'] = df['MainSHFuel'].astype('category').cat.codes"
   ]
  },
  {
   "cell_type": "code",
   "execution_count": 33,
   "metadata": {},
   "outputs": [
    {
     "data": {
      "text/plain": [
       "BuildingID\n",
       "190835    1\n",
       "523113    1\n",
       "271393    1\n",
       "585961    4\n",
       "624083    4\n",
       "Name: MainSHFuel, dtype: int8"
      ]
     },
     "execution_count": 33,
     "metadata": {},
     "output_type": "execute_result"
    }
   ],
   "source": [
    "df['MainSHFuel'].head()"
   ]
  },
  {
   "cell_type": "markdown",
   "metadata": {},
   "source": [
    "### MainWHFuel"
   ]
  },
  {
   "cell_type": "code",
   "execution_count": 34,
   "metadata": {},
   "outputs": [
    {
     "data": {
      "text/plain": [
       "array(['Heating Oil', 'Mains Gas', 'Solid Multi-Fuel', 'Electricity',\n",
       "       'Bulk LPG (propane or butane)', 'Bottled LPG',\n",
       "       'Wood Pellets (bulk supply for', 'Wood Logs',\n",
       "       'Manufactured Smokeless Fuel', 'Other', 'House Coal', 'Sod Peat',\n",
       "       'Wood Pellets (in bags for seco', 'Anthracite', 'Peat Briquettes',\n",
       "       'Electricity - Standard Domesti', 'Electricity - Off-peak Night-R',\n",
       "       'Wood Chips', 'Electricity - On-peak Night-Ra',\n",
       "       'Biodiesel from renewable sourc', 'Bioethanol from renewable sour'], dtype=object)"
      ]
     },
     "execution_count": 34,
     "metadata": {},
     "output_type": "execute_result"
    }
   ],
   "source": [
    "df['MainWHFuel'].fillna('Other', inplace=True)\n",
    "df['MainWHFuel'] = df['MainWHFuel'].apply(lambda x: x.strip())\n",
    "df['MainWHFuel'].unique()"
   ]
  },
  {
   "cell_type": "code",
   "execution_count": 35,
   "metadata": {},
   "outputs": [
    {
     "data": {
      "text/plain": [
       "Heating Oil                       177903\n",
       "Mains Gas                         177485\n",
       "Electricity                        71337\n",
       "Solid Multi-Fuel                   17231\n",
       "Bulk LPG (propane or butane)        6673\n",
       "Other                               5658\n",
       "Manufactured Smokeless Fuel         2805\n",
       "House Coal                          2310\n",
       "Sod Peat                             820\n",
       "Wood Pellets (bulk supply for        772\n",
       "Bottled LPG                          653\n",
       "Wood Logs                            380\n",
       "Peat Briquettes                      193\n",
       "Wood Pellets (in bags for seco       118\n",
       "Anthracite                            53\n",
       "Electricity - Standard Domesti        45\n",
       "Wood Chips                            42\n",
       "Electricity - Off-peak Night-R        30\n",
       "Biodiesel from renewable sourc         3\n",
       "Bioethanol from renewable sour         2\n",
       "Electricity - On-peak Night-Ra         1\n",
       "Name: MainWHFuel, dtype: int64"
      ]
     },
     "execution_count": 35,
     "metadata": {},
     "output_type": "execute_result"
    }
   ],
   "source": [
    "df['MainWHFuel'].value_counts()"
   ]
  },
  {
   "cell_type": "code",
   "execution_count": 36,
   "metadata": {
    "collapsed": true
   },
   "outputs": [],
   "source": [
    "elec = ['Electricity - On-peak Night-Ra', 'Electricity - Standard Domesti', \n",
    "       'Electricity - Off-peak Night-R']\n",
    "df['MainWHFuel'].replace(elec, 'Electricity', inplace=True)\n",
    "\n",
    "wood = ['Wood Pellets (bulk supply for', 'Wood Pellets (in bags for seco', 'Wood Chips']\n",
    "df['MainWHFuel'].replace(wood, 'Wood Pellets', inplace=True)\n",
    "\n",
    "lpg = ['Bulk LPG (propane or butane)', 'Bottled LPG']\n",
    "df['MainWHFuel'].replace(lpg, 'LPG', inplace=True)\n",
    "\n",
    "other = ['Biodiesel from renewable sourc', 'Anthracite', 'Bioethanol from renewable sour']\n",
    "df['MainWHFuel'].replace(other, 'Other', inplace=True)"
   ]
  },
  {
   "cell_type": "code",
   "execution_count": 37,
   "metadata": {},
   "outputs": [
    {
     "data": {
      "text/plain": [
       "Heating Oil                    177903\n",
       "Mains Gas                      177485\n",
       "Electricity                     71413\n",
       "Solid Multi-Fuel                17231\n",
       "LPG                              7326\n",
       "Other                            5716\n",
       "Manufactured Smokeless Fuel      2805\n",
       "House Coal                       2310\n",
       "Wood Pellets                      932\n",
       "Sod Peat                          820\n",
       "Wood Logs                         380\n",
       "Peat Briquettes                   193\n",
       "Name: MainWHFuel, dtype: int64"
      ]
     },
     "execution_count": 37,
     "metadata": {},
     "output_type": "execute_result"
    }
   ],
   "source": [
    "df['MainWHFuel'].value_counts()"
   ]
  },
  {
   "cell_type": "code",
   "execution_count": 38,
   "metadata": {},
   "outputs": [
    {
     "data": {
      "image/png": "[encoded data removed]",
      "text/plain": [
       "<matplotlib.figure.Figure at 0x116630cf8>"
      ]
     },
     "metadata": {},
     "output_type": "display_data"
    }
   ],
   "source": [
    "new_MainWHFuel_sort = df.groupby(['MainWHFuel']).mean().to_dict()['EnergyRatingCont']\n",
    "new_MainWHFuel_sort = sorted(new_MainWHFuel_sort, key=new_MainWHFuel_sort.get)\n",
    "\n",
    "var = 'MainWHFuel'\n",
    "f, ax = plt.subplots(figsize=(12, 6))\n",
    "fig = sns.boxplot(x=var, y=\"EnergyRatingCont\", data=df, order=new_MainWHFuel_sort)\n",
    "fig.set_xticklabels(ax.get_xticklabels(),rotation=90)\n",
    "fig.axis(ymin=0, ymax=1000);"
   ]
  },
  {
   "cell_type": "markdown",
   "metadata": {},
   "source": [
    "Ok all this looks good. Again, lets transform the categories to numerical values."
   ]
  },
  {
   "cell_type": "code",
   "execution_count": 39,
   "metadata": {
    "collapsed": true
   },
   "outputs": [],
   "source": [
    "df['MainWHFuel'] = df['MainWHFuel'].astype('category').cat.codes"
   ]
  },
  {
   "cell_type": "markdown",
   "metadata": {},
   "source": [
    "### SharedMPRN"
   ]
  },
  {
   "cell_type": "code",
   "execution_count": 40,
   "metadata": {},
   "outputs": [
    {
     "data": {
      "text/plain": [
       "array(['NO', 'YES', nan], dtype=object)"
      ]
     },
     "execution_count": 40,
     "metadata": {},
     "output_type": "execute_result"
    }
   ],
   "source": [
    "df['SharedMPRN'].unique()\n",
    "# binary variable"
   ]
  },
  {
   "cell_type": "code",
   "execution_count": 41,
   "metadata": {},
   "outputs": [
    {
     "data": {
      "text/plain": [
       "12"
      ]
     },
     "execution_count": 41,
     "metadata": {},
     "output_type": "execute_result"
    }
   ],
   "source": [
    "df['SharedMPRN'].isnull().sum()\n",
    "# no null values"
   ]
  },
  {
   "cell_type": "code",
   "execution_count": 42,
   "metadata": {},
   "outputs": [
    {
     "data": {
      "text/plain": [
       "NO     461398\n",
       "YES      3104\n",
       "Name: SharedMPRN, dtype: int64"
      ]
     },
     "execution_count": 42,
     "metadata": {},
     "output_type": "execute_result"
    }
   ],
   "source": [
    "df['SharedMPRN'].value_counts()"
   ]
  },
  {
   "cell_type": "markdown",
   "metadata": {},
   "source": [
    "The value counts shows how very lopsided this variable is. I don't feel this will have much, if any predictive power so I'm going to drop it."
   ]
  },
  {
   "cell_type": "code",
   "execution_count": 43,
   "metadata": {
    "collapsed": true
   },
   "outputs": [],
   "source": [
    "df.drop('SharedMPRN', axis='columns', inplace=True)"
   ]
  },
  {
   "cell_type": "markdown",
   "metadata": {},
   "source": [
    "### DLobby"
   ]
  },
  {
   "cell_type": "code",
   "execution_count": 44,
   "metadata": {},
   "outputs": [
    {
     "data": {
      "text/plain": [
       "array(['NO', 'YES', nan], dtype=object)"
      ]
     },
     "execution_count": 44,
     "metadata": {},
     "output_type": "execute_result"
    }
   ],
   "source": [
    "df['DLobby'].unique()\n",
    "# binary variable"
   ]
  },
  {
   "cell_type": "code",
   "execution_count": 45,
   "metadata": {},
   "outputs": [
    {
     "data": {
      "text/plain": [
       "12"
      ]
     },
     "execution_count": 45,
     "metadata": {},
     "output_type": "execute_result"
    }
   ],
   "source": [
    "df['DLobby'].isnull().sum()"
   ]
  },
  {
   "cell_type": "code",
   "execution_count": 46,
   "metadata": {},
   "outputs": [
    {
     "data": {
      "text/plain": [
       "NO     370781\n",
       "YES     93721\n",
       "Name: DLobby, dtype: int64"
      ]
     },
     "execution_count": 46,
     "metadata": {},
     "output_type": "execute_result"
    }
   ],
   "source": [
    "df['DLobby'].value_counts()"
   ]
  },
  {
   "cell_type": "markdown",
   "metadata": {},
   "source": [
    "Again, this is pretty lobsided, so we'll drop it."
   ]
  },
  {
   "cell_type": "code",
   "execution_count": 47,
   "metadata": {
    "collapsed": true
   },
   "outputs": [],
   "source": [
    "df.drop('DLobby', axis='columns', inplace=True)"
   ]
  },
  {
   "cell_type": "markdown",
   "metadata": {},
   "source": [
    "The remaining categorical variables, listed below, require further analysis but as they all don't stand as as particularly valuable, I'll leave this task for now and focus on what we already have available to us."
   ]
  },
  {
   "cell_type": "code",
   "execution_count": 48,
   "metadata": {
    "collapsed": true
   },
   "outputs": [],
   "source": [
    "# TODO: \n",
    "other_cat_variables = ['VentMethod', 'WallStructure', 'SuspWoodFloor', 'PermTest',\n",
    "'BoilerStat1', 'BoilerStat2', 'OilPumpIn', 'WarmAir', 'Underfloor',\n",
    "'StorageLoss', 'DeclaredLoss', 'SolarWaterHeating', 'SummerElectricImm',\n",
    "'Combi', 'KeepHot', 'HWInsulationType', 'PrimaryLoss',\n",
    "'CylinderThermostat', 'CombiCylinder', 'SolarPumpPower', 'Charging',\n",
    "'MainSpaceEnergy', 'MassCat', 'PercLivingArea', 'RatingPurpose',\n",
    "'AssessmentDate', 'FirstEnerTypeDescr', 'SecondEnerTypeDescr',\n",
    "'ThirdEnerTypeDescr']"
   ]
  },
  {
   "cell_type": "markdown",
   "metadata": {},
   "source": [
    "To finish up, lets drop the above variables from the data frame."
   ]
  },
  {
   "cell_type": "code",
   "execution_count": 49,
   "metadata": {
    "collapsed": true
   },
   "outputs": [],
   "source": [
    "df.drop(other_cat_variables, axis='columns', inplace=True)"
   ]
  },
  {
   "cell_type": "code",
   "execution_count": 50,
   "metadata": {},
   "outputs": [
    {
     "data": {
      "text/plain": [
       "(464514, 79)"
      ]
     },
     "execution_count": 50,
     "metadata": {},
     "output_type": "execute_result"
    }
   ],
   "source": [
    "df.shape"
   ]
  },
  {
   "cell_type": "code",
   "execution_count": 51,
   "metadata": {},
   "outputs": [
    {
     "data": {
      "text/html": [
       "<div>\n",
       "<style scoped>\n",
       "    .dataframe tbody tr th:only-of-type {\n",
       "        vertical-align: middle;\n",
       "    }\n",
       "\n",
       "    .dataframe tbody tr th {\n",
       "        vertical-align: top;\n",
       "    }\n",
       "\n",
       "    .dataframe thead th {\n",
       "        text-align: right;\n",
       "    }\n",
       "</style>\n",
       "<table border=\"1\" class=\"dataframe\">\n",
       "  <thead>\n",
       "    <tr style=\"text-align: right;\">\n",
       "      <th></th>\n",
       "      <th>Year</th>\n",
       "      <th>EnergyRatingCat</th>\n",
       "      <th>EnergyRatingCont</th>\n",
       "      <th>GroundFloorArea</th>\n",
       "      <th>AvgWallU</th>\n",
       "      <th>AvgRoofU</th>\n",
       "      <th>AvgFloorU</th>\n",
       "      <th>AvgWindowU</th>\n",
       "      <th>AvgDoorU</th>\n",
       "      <th>ExposedWallArea</th>\n",
       "      <th>...</th>\n",
       "      <th>RoofAreaRoom</th>\n",
       "      <th>FirstEnerType</th>\n",
       "      <th>ProdFirstEnerDelivered</th>\n",
       "      <th>ProdFirstEnerConvFac</th>\n",
       "      <th>ProdSecondEnerDelivered</th>\n",
       "      <th>ProdSecondEnerConvFac</th>\n",
       "      <th>ProdThirdEnerDelivered</th>\n",
       "      <th>ProdThirdEnerConvFac</th>\n",
       "      <th>PrimaryEnergySecondarySpace</th>\n",
       "      <th>EnergyMainWater</th>\n",
       "    </tr>\n",
       "    <tr>\n",
       "      <th>BuildingID</th>\n",
       "      <th></th>\n",
       "      <th></th>\n",
       "      <th></th>\n",
       "      <th></th>\n",
       "      <th></th>\n",
       "      <th></th>\n",
       "      <th></th>\n",
       "      <th></th>\n",
       "      <th></th>\n",
       "      <th></th>\n",
       "      <th></th>\n",
       "      <th></th>\n",
       "      <th></th>\n",
       "      <th></th>\n",
       "      <th></th>\n",
       "      <th></th>\n",
       "      <th></th>\n",
       "      <th></th>\n",
       "      <th></th>\n",
       "      <th></th>\n",
       "      <th></th>\n",
       "    </tr>\n",
       "  </thead>\n",
       "  <tbody>\n",
       "    <tr>\n",
       "      <th>190835</th>\n",
       "      <td>1890.0</td>\n",
       "      <td>F</td>\n",
       "      <td>418.42</td>\n",
       "      <td>52.04</td>\n",
       "      <td>2.10</td>\n",
       "      <td>2.30</td>\n",
       "      <td>0.61</td>\n",
       "      <td>2.71</td>\n",
       "      <td>3.00</td>\n",
       "      <td>32.78</td>\n",
       "      <td>...</td>\n",
       "      <td>18.35</td>\n",
       "      <td>1</td>\n",
       "      <td>0</td>\n",
       "      <td>0</td>\n",
       "      <td>0</td>\n",
       "      <td>0</td>\n",
       "      <td>0</td>\n",
       "      <td>0</td>\n",
       "      <td>0.000</td>\n",
       "      <td>2335.6809</td>\n",
       "    </tr>\n",
       "    <tr>\n",
       "      <th>523113</th>\n",
       "      <td>1901.0</td>\n",
       "      <td>G</td>\n",
       "      <td>520.35</td>\n",
       "      <td>147.44</td>\n",
       "      <td>2.01</td>\n",
       "      <td>0.75</td>\n",
       "      <td>0.94</td>\n",
       "      <td>2.63</td>\n",
       "      <td>3.96</td>\n",
       "      <td>211.22</td>\n",
       "      <td>...</td>\n",
       "      <td>0.00</td>\n",
       "      <td>1</td>\n",
       "      <td>0</td>\n",
       "      <td>0</td>\n",
       "      <td>0</td>\n",
       "      <td>0</td>\n",
       "      <td>0</td>\n",
       "      <td>0</td>\n",
       "      <td>7144.838</td>\n",
       "      <td>4470.0759</td>\n",
       "    </tr>\n",
       "    <tr>\n",
       "      <th>271393</th>\n",
       "      <td>1968.0</td>\n",
       "      <td>D2</td>\n",
       "      <td>281.33</td>\n",
       "      <td>104.84</td>\n",
       "      <td>0.38</td>\n",
       "      <td>0.13</td>\n",
       "      <td>0.68</td>\n",
       "      <td>2.81</td>\n",
       "      <td>0.00</td>\n",
       "      <td>94.41</td>\n",
       "      <td>...</td>\n",
       "      <td>0.00</td>\n",
       "      <td>1</td>\n",
       "      <td>0</td>\n",
       "      <td>0</td>\n",
       "      <td>0</td>\n",
       "      <td>0</td>\n",
       "      <td>0</td>\n",
       "      <td>0</td>\n",
       "      <td>2127.347</td>\n",
       "      <td>5837.4729</td>\n",
       "    </tr>\n",
       "    <tr>\n",
       "      <th>585961</th>\n",
       "      <td>2002.0</td>\n",
       "      <td>C2</td>\n",
       "      <td>188.17</td>\n",
       "      <td>95.31</td>\n",
       "      <td>0.55</td>\n",
       "      <td>0.26</td>\n",
       "      <td>0.34</td>\n",
       "      <td>2.80</td>\n",
       "      <td>3.03</td>\n",
       "      <td>89.50</td>\n",
       "      <td>...</td>\n",
       "      <td>0.00</td>\n",
       "      <td>1</td>\n",
       "      <td>0</td>\n",
       "      <td>0</td>\n",
       "      <td>0</td>\n",
       "      <td>0</td>\n",
       "      <td>0</td>\n",
       "      <td>0</td>\n",
       "      <td>2771.886</td>\n",
       "      <td>3769.6248</td>\n",
       "    </tr>\n",
       "    <tr>\n",
       "      <th>624083</th>\n",
       "      <td>2002.0</td>\n",
       "      <td>B3</td>\n",
       "      <td>134.95</td>\n",
       "      <td>283.87</td>\n",
       "      <td>0.55</td>\n",
       "      <td>0.26</td>\n",
       "      <td>0.41</td>\n",
       "      <td>3.10</td>\n",
       "      <td>3.01</td>\n",
       "      <td>254.15</td>\n",
       "      <td>...</td>\n",
       "      <td>0.00</td>\n",
       "      <td>1</td>\n",
       "      <td>0</td>\n",
       "      <td>0</td>\n",
       "      <td>0</td>\n",
       "      <td>0</td>\n",
       "      <td>0</td>\n",
       "      <td>0</td>\n",
       "      <td>0.000</td>\n",
       "      <td>5296.5828</td>\n",
       "    </tr>\n",
       "  </tbody>\n",
       "</table>\n",
       "<p>5 rows × 79 columns</p>\n",
       "</div>"
      ],
      "text/plain": [
       "              Year EnergyRatingCat  EnergyRatingCont  GroundFloorArea  \\\n",
       "BuildingID                                                              \n",
       "190835      1890.0              F             418.42            52.04   \n",
       "523113      1901.0              G             520.35           147.44   \n",
       "271393      1968.0              D2            281.33           104.84   \n",
       "585961      2002.0              C2            188.17            95.31   \n",
       "624083      2002.0              B3            134.95           283.87   \n",
       "\n",
       "            AvgWallU  AvgRoofU  AvgFloorU  AvgWindowU  AvgDoorU  \\\n",
       "BuildingID                                                        \n",
       "190835          2.10      2.30       0.61        2.71      3.00   \n",
       "523113          2.01      0.75       0.94        2.63      3.96   \n",
       "271393          0.38      0.13       0.68        2.81      0.00   \n",
       "585961          0.55      0.26       0.34        2.80      3.03   \n",
       "624083          0.55      0.26       0.41        3.10      3.01   \n",
       "\n",
       "            ExposedWallArea       ...         RoofAreaRoom  FirstEnerType  \\\n",
       "BuildingID                        ...                                       \n",
       "190835                32.78       ...                18.35              1   \n",
       "523113               211.22       ...                 0.00              1   \n",
       "271393                94.41       ...                 0.00              1   \n",
       "585961                89.50       ...                 0.00              1   \n",
       "624083               254.15       ...                 0.00              1   \n",
       "\n",
       "            ProdFirstEnerDelivered  ProdFirstEnerConvFac  \\\n",
       "BuildingID                                                 \n",
       "190835                           0                     0   \n",
       "523113                           0                     0   \n",
       "271393                           0                     0   \n",
       "585961                           0                     0   \n",
       "624083                           0                     0   \n",
       "\n",
       "            ProdSecondEnerDelivered  ProdSecondEnerConvFac  \\\n",
       "BuildingID                                                   \n",
       "190835                            0                      0   \n",
       "523113                            0                      0   \n",
       "271393                            0                      0   \n",
       "585961                            0                      0   \n",
       "624083                            0                      0   \n",
       "\n",
       "            ProdThirdEnerDelivered  ProdThirdEnerConvFac  \\\n",
       "BuildingID                                                 \n",
       "190835                           0                     0   \n",
       "523113                           0                     0   \n",
       "271393                           0                     0   \n",
       "585961                           0                     0   \n",
       "624083                           0                     0   \n",
       "\n",
       "            PrimaryEnergySecondarySpace  EnergyMainWater  \n",
       "BuildingID                                                \n",
       "190835                            0.000        2335.6809  \n",
       "523113                         7144.838        4470.0759  \n",
       "271393                         2127.347        5837.4729  \n",
       "585961                         2771.886        3769.6248  \n",
       "624083                            0.000        5296.5828  \n",
       "\n",
       "[5 rows x 79 columns]"
      ]
     },
     "execution_count": 51,
     "metadata": {},
     "output_type": "execute_result"
    }
   ],
   "source": [
    "df.head()"
   ]
  },
  {
   "cell_type": "markdown",
   "metadata": {},
   "source": [
    "## Correlation Matrix"
   ]
  },
  {
   "cell_type": "markdown",
   "metadata": {},
   "source": [
    "**Why are correlation matrices useful you ask?**\n",
    "\n",
    "The correlation is a number between -1 and +1 that measures how close the relationship between two variables is to being linear (i.e., forming a straight line if the two were graphed against each other). Correlation = +1 means variables are perfectly positively correlated (they go up and down in perfect synchronization; e.g., dollars of sales and sales tax); -1 means perfect negative correlation (one goes up and the other goes down; e.g., items sold and inventory); values close to 0 mean either no relation or the relation isn't linear (e.g., annual rainfall and average shoe size). Correlation is independent of scale; measuring one variable in millions and the other in millionths won't affect it."
   ]
  },
  {
   "cell_type": "code",
   "execution_count": 52,
   "metadata": {},
   "outputs": [
    {
     "data": {
      "text/plain": [
       "Year                    0\n",
       "EnergyRatingCat        12\n",
       "EnergyRatingCont       12\n",
       "GroundFloorArea     46172\n",
       "AvgWallU            46457\n",
       "dtype: int64"
      ]
     },
     "execution_count": 52,
     "metadata": {},
     "output_type": "execute_result"
    }
   ],
   "source": [
    "null_df = df.isnull().sum()\n",
    "null_df.head()"
   ]
  },
  {
   "cell_type": "code",
   "execution_count": 53,
   "metadata": {},
   "outputs": [
    {
     "data": {
      "image/png": "[encoded data removed]",
      "text/plain": [
       "<matplotlib.figure.Figure at 0x115830898>"
      ]
     },
     "metadata": {},
     "output_type": "display_data"
    }
   ],
   "source": [
    "#correlation matrix\n",
    "corrmat = df.corr()\n",
    "f, ax = plt.subplots(figsize=(12, 9))\n",
    "sns.heatmap(corrmat, vmax=.8, square=True);"
   ]
  },
  {
   "cell_type": "code",
   "execution_count": 54,
   "metadata": {
    "collapsed": true
   },
   "outputs": [],
   "source": [
    "#df.fillna(df.mean(), inplace=True).head()"
   ]
  },
  {
   "cell_type": "code",
   "execution_count": 57,
   "metadata": {
    "collapsed": true
   },
   "outputs": [],
   "source": [
    "# test\n",
    "test_df = df.dropna(axis=0, how='any')"
   ]
  },
  {
   "cell_type": "code",
   "execution_count": 58,
   "metadata": {
    "collapsed": true
   },
   "outputs": [],
   "source": [
    "test_corrmat = test_df.corr()"
   ]
  },
  {
   "cell_type": "code",
   "execution_count": 59,
   "metadata": {},
   "outputs": [
    {
     "ename": "ValueError",
     "evalue": "zero-size array to reduction operation minimum which has no identity",
     "output_type": "error",
     "traceback": [
      "\u001b[0;31m---------------------------------------------------------------------------\u001b[0m",
      "\u001b[0;31mValueError\u001b[0m                                Traceback (most recent call last)",
      "\u001b[0;32m<ipython-input-59-02a2bade2eed>\u001b[0m in \u001b[0;36m<module>\u001b[0;34m()\u001b[0m\n\u001b[1;32m      5\u001b[0m \u001b[0mf\u001b[0m\u001b[0;34m,\u001b[0m \u001b[0max\u001b[0m \u001b[0;34m=\u001b[0m \u001b[0mplt\u001b[0m\u001b[0;34m.\u001b[0m\u001b[0msubplots\u001b[0m\u001b[0;34m(\u001b[0m\u001b[0mfigsize\u001b[0m\u001b[0;34m=\u001b[0m\u001b[0;34m(\u001b[0m\u001b[0;36m12\u001b[0m\u001b[0;34m,\u001b[0m \u001b[0;36m9\u001b[0m\u001b[0;34m)\u001b[0m\u001b[0;34m)\u001b[0m\u001b[0;34m\u001b[0m\u001b[0m\n\u001b[1;32m      6\u001b[0m \u001b[0msns\u001b[0m\u001b[0;34m.\u001b[0m\u001b[0mset\u001b[0m\u001b[0;34m(\u001b[0m\u001b[0mfont_scale\u001b[0m\u001b[0;34m=\u001b[0m\u001b[0;36m1.25\u001b[0m\u001b[0;34m)\u001b[0m\u001b[0;34m\u001b[0m\u001b[0m\n\u001b[0;32m----> 7\u001b[0;31m \u001b[0mhm\u001b[0m \u001b[0;34m=\u001b[0m \u001b[0msns\u001b[0m\u001b[0;34m.\u001b[0m\u001b[0mheatmap\u001b[0m\u001b[0;34m(\u001b[0m\u001b[0mcm\u001b[0m\u001b[0;34m,\u001b[0m \u001b[0mcbar\u001b[0m\u001b[0;34m=\u001b[0m\u001b[0;32mTrue\u001b[0m\u001b[0;34m,\u001b[0m \u001b[0mannot\u001b[0m\u001b[0;34m=\u001b[0m\u001b[0;32mTrue\u001b[0m\u001b[0;34m,\u001b[0m \u001b[0msquare\u001b[0m\u001b[0;34m=\u001b[0m\u001b[0;32mTrue\u001b[0m\u001b[0;34m,\u001b[0m \u001b[0mfmt\u001b[0m\u001b[0;34m=\u001b[0m\u001b[0;34m'.2f'\u001b[0m\u001b[0;34m,\u001b[0m \u001b[0mannot_kws\u001b[0m\u001b[0;34m=\u001b[0m\u001b[0;34m{\u001b[0m\u001b[0;34m'size'\u001b[0m\u001b[0;34m:\u001b[0m \u001b[0;36m10\u001b[0m\u001b[0;34m}\u001b[0m\u001b[0;34m,\u001b[0m \u001b[0myticklabels\u001b[0m\u001b[0;34m=\u001b[0m\u001b[0mcols\u001b[0m\u001b[0;34m.\u001b[0m\u001b[0mvalues\u001b[0m\u001b[0;34m,\u001b[0m \u001b[0mxticklabels\u001b[0m\u001b[0;34m=\u001b[0m\u001b[0mcols\u001b[0m\u001b[0;34m.\u001b[0m\u001b[0mvalues\u001b[0m\u001b[0;34m)\u001b[0m\u001b[0;34m\u001b[0m\u001b[0m\n\u001b[0m\u001b[1;32m      8\u001b[0m \u001b[0mplt\u001b[0m\u001b[0;34m.\u001b[0m\u001b[0mshow\u001b[0m\u001b[0;34m(\u001b[0m\u001b[0;34m)\u001b[0m\u001b[0;34m\u001b[0m\u001b[0m\n",
      "\u001b[0;32m/Library/Frameworks/Python.framework/Versions/3.6/lib/python3.6/site-packages/seaborn/matrix.py\u001b[0m in \u001b[0;36mheatmap\u001b[0;34m(data, vmin, vmax, cmap, center, robust, annot, fmt, annot_kws, linewidths, linecolor, cbar, cbar_kws, cbar_ax, square, xticklabels, yticklabels, mask, ax, **kwargs)\u001b[0m\n\u001b[1;32m    515\u001b[0m     plotter = _HeatMapper(data, vmin, vmax, cmap, center, robust, annot, fmt,\n\u001b[1;32m    516\u001b[0m                           \u001b[0mannot_kws\u001b[0m\u001b[0;34m,\u001b[0m \u001b[0mcbar\u001b[0m\u001b[0;34m,\u001b[0m \u001b[0mcbar_kws\u001b[0m\u001b[0;34m,\u001b[0m \u001b[0mxticklabels\u001b[0m\u001b[0;34m,\u001b[0m\u001b[0;34m\u001b[0m\u001b[0m\n\u001b[0;32m--> 517\u001b[0;31m                           yticklabels, mask)\n\u001b[0m\u001b[1;32m    518\u001b[0m \u001b[0;34m\u001b[0m\u001b[0m\n\u001b[1;32m    519\u001b[0m     \u001b[0;31m# Add the pcolormesh kwargs here\u001b[0m\u001b[0;34m\u001b[0m\u001b[0;34m\u001b[0m\u001b[0m\n",
      "\u001b[0;32m/Library/Frameworks/Python.framework/Versions/3.6/lib/python3.6/site-packages/seaborn/matrix.py\u001b[0m in \u001b[0;36m__init__\u001b[0;34m(self, data, vmin, vmax, cmap, center, robust, annot, fmt, annot_kws, cbar, cbar_kws, xticklabels, yticklabels, mask)\u001b[0m\n\u001b[1;32m    166\u001b[0m         \u001b[0;31m# Determine good default values for the colormapping\u001b[0m\u001b[0;34m\u001b[0m\u001b[0;34m\u001b[0m\u001b[0m\n\u001b[1;32m    167\u001b[0m         self._determine_cmap_params(plot_data, vmin, vmax,\n\u001b[0;32m--> 168\u001b[0;31m                                     cmap, center, robust)\n\u001b[0m\u001b[1;32m    169\u001b[0m \u001b[0;34m\u001b[0m\u001b[0m\n\u001b[1;32m    170\u001b[0m         \u001b[0;31m# Sort out the annotations\u001b[0m\u001b[0;34m\u001b[0m\u001b[0;34m\u001b[0m\u001b[0m\n",
      "\u001b[0;32m/Library/Frameworks/Python.framework/Versions/3.6/lib/python3.6/site-packages/seaborn/matrix.py\u001b[0m in \u001b[0;36m_determine_cmap_params\u001b[0;34m(self, plot_data, vmin, vmax, cmap, center, robust)\u001b[0m\n\u001b[1;32m    205\u001b[0m         \u001b[0mcalc_data\u001b[0m \u001b[0;34m=\u001b[0m \u001b[0mplot_data\u001b[0m\u001b[0;34m.\u001b[0m\u001b[0mdata\u001b[0m\u001b[0;34m[\u001b[0m\u001b[0;34m~\u001b[0m\u001b[0mnp\u001b[0m\u001b[0;34m.\u001b[0m\u001b[0misnan\u001b[0m\u001b[0;34m(\u001b[0m\u001b[0mplot_data\u001b[0m\u001b[0;34m.\u001b[0m\u001b[0mdata\u001b[0m\u001b[0;34m)\u001b[0m\u001b[0;34m]\u001b[0m\u001b[0;34m\u001b[0m\u001b[0m\n\u001b[1;32m    206\u001b[0m         \u001b[0;32mif\u001b[0m \u001b[0mvmin\u001b[0m \u001b[0;32mis\u001b[0m \u001b[0;32mNone\u001b[0m\u001b[0;34m:\u001b[0m\u001b[0;34m\u001b[0m\u001b[0m\n\u001b[0;32m--> 207\u001b[0;31m             \u001b[0mvmin\u001b[0m \u001b[0;34m=\u001b[0m \u001b[0mnp\u001b[0m\u001b[0;34m.\u001b[0m\u001b[0mpercentile\u001b[0m\u001b[0;34m(\u001b[0m\u001b[0mcalc_data\u001b[0m\u001b[0;34m,\u001b[0m \u001b[0;36m2\u001b[0m\u001b[0;34m)\u001b[0m \u001b[0;32mif\u001b[0m \u001b[0mrobust\u001b[0m \u001b[0;32melse\u001b[0m \u001b[0mcalc_data\u001b[0m\u001b[0;34m.\u001b[0m\u001b[0mmin\u001b[0m\u001b[0;34m(\u001b[0m\u001b[0;34m)\u001b[0m\u001b[0;34m\u001b[0m\u001b[0m\n\u001b[0m\u001b[1;32m    208\u001b[0m         \u001b[0;32mif\u001b[0m \u001b[0mvmax\u001b[0m \u001b[0;32mis\u001b[0m \u001b[0;32mNone\u001b[0m\u001b[0;34m:\u001b[0m\u001b[0;34m\u001b[0m\u001b[0m\n\u001b[1;32m    209\u001b[0m             \u001b[0mvmax\u001b[0m \u001b[0;34m=\u001b[0m \u001b[0mnp\u001b[0m\u001b[0;34m.\u001b[0m\u001b[0mpercentile\u001b[0m\u001b[0;34m(\u001b[0m\u001b[0mcalc_data\u001b[0m\u001b[0;34m,\u001b[0m \u001b[0;36m98\u001b[0m\u001b[0;34m)\u001b[0m \u001b[0;32mif\u001b[0m \u001b[0mrobust\u001b[0m \u001b[0;32melse\u001b[0m \u001b[0mcalc_data\u001b[0m\u001b[0;34m.\u001b[0m\u001b[0mmax\u001b[0m\u001b[0;34m(\u001b[0m\u001b[0;34m)\u001b[0m\u001b[0;34m\u001b[0m\u001b[0m\n",
      "\u001b[0;32m/Library/Frameworks/Python.framework/Versions/3.6/lib/python3.6/site-packages/numpy/core/_methods.py\u001b[0m in \u001b[0;36m_amin\u001b[0;34m(a, axis, out, keepdims)\u001b[0m\n\u001b[1;32m     27\u001b[0m \u001b[0;34m\u001b[0m\u001b[0m\n\u001b[1;32m     28\u001b[0m \u001b[0;32mdef\u001b[0m \u001b[0m_amin\u001b[0m\u001b[0;34m(\u001b[0m\u001b[0ma\u001b[0m\u001b[0;34m,\u001b[0m \u001b[0maxis\u001b[0m\u001b[0;34m=\u001b[0m\u001b[0;32mNone\u001b[0m\u001b[0;34m,\u001b[0m \u001b[0mout\u001b[0m\u001b[0;34m=\u001b[0m\u001b[0;32mNone\u001b[0m\u001b[0;34m,\u001b[0m \u001b[0mkeepdims\u001b[0m\u001b[0;34m=\u001b[0m\u001b[0;32mFalse\u001b[0m\u001b[0;34m)\u001b[0m\u001b[0;34m:\u001b[0m\u001b[0;34m\u001b[0m\u001b[0m\n\u001b[0;32m---> 29\u001b[0;31m     \u001b[0;32mreturn\u001b[0m \u001b[0mumr_minimum\u001b[0m\u001b[0;34m(\u001b[0m\u001b[0ma\u001b[0m\u001b[0;34m,\u001b[0m \u001b[0maxis\u001b[0m\u001b[0;34m,\u001b[0m \u001b[0;32mNone\u001b[0m\u001b[0;34m,\u001b[0m \u001b[0mout\u001b[0m\u001b[0;34m,\u001b[0m \u001b[0mkeepdims\u001b[0m\u001b[0;34m)\u001b[0m\u001b[0;34m\u001b[0m\u001b[0m\n\u001b[0m\u001b[1;32m     30\u001b[0m \u001b[0;34m\u001b[0m\u001b[0m\n\u001b[1;32m     31\u001b[0m \u001b[0;32mdef\u001b[0m \u001b[0m_sum\u001b[0m\u001b[0;34m(\u001b[0m\u001b[0ma\u001b[0m\u001b[0;34m,\u001b[0m \u001b[0maxis\u001b[0m\u001b[0;34m=\u001b[0m\u001b[0;32mNone\u001b[0m\u001b[0;34m,\u001b[0m \u001b[0mdtype\u001b[0m\u001b[0;34m=\u001b[0m\u001b[0;32mNone\u001b[0m\u001b[0;34m,\u001b[0m \u001b[0mout\u001b[0m\u001b[0;34m=\u001b[0m\u001b[0;32mNone\u001b[0m\u001b[0;34m,\u001b[0m \u001b[0mkeepdims\u001b[0m\u001b[0;34m=\u001b[0m\u001b[0;32mFalse\u001b[0m\u001b[0;34m)\u001b[0m\u001b[0;34m:\u001b[0m\u001b[0;34m\u001b[0m\u001b[0m\n",
      "\u001b[0;31mValueError\u001b[0m: zero-size array to reduction operation minimum which has no identity"
     ]
    },
    {
     "data": {
      "image/png": "[encoded data removed]",
      "text/plain": [
       "<matplotlib.figure.Figure at 0x115830a58>"
      ]
     },
     "metadata": {},
     "output_type": "display_data"
    }
   ],
   "source": [
    "#correlation matrix\n",
    "k = 15 #number of variables for heatmap\n",
    "cols = test_corrmat.nlargest(k, 'EnergyRatingCont')['EnergyRatingCont'].index\n",
    "cm = np.corrcoef(df[cols].values.T)\n",
    "f, ax = plt.subplots(figsize=(12, 9))\n",
    "sns.set(font_scale=1.25)\n",
    "hm = sns.heatmap(cm, cbar=True, annot=True, square=True, fmt='.2f', annot_kws={'size': 10}, yticklabels=cols.values, xticklabels=cols.values)\n",
    "plt.show()"
   ]
  },
  {
   "cell_type": "code",
   "execution_count": 60,
   "metadata": {},
   "outputs": [
    {
     "data": {
      "text/plain": [
       "array([[ nan,  nan,  nan,  nan,  nan,  nan,  nan,  nan,  nan,  nan,  nan,\n",
       "         nan,  nan,  nan,  nan],\n",
       "       [ nan,  nan,  nan,  nan,  nan,  nan,  nan,  nan,  nan,  nan,  nan,\n",
       "         nan,  nan,  nan,  nan],\n",
       "       [ nan,  nan,  nan,  nan,  nan,  nan,  nan,  nan,  nan,  nan,  nan,\n",
       "         nan,  nan,  nan,  nan],\n",
       "       [ nan,  nan,  nan,  nan,  nan,  nan,  nan,  nan,  nan,  nan,  nan,\n",
       "         nan,  nan,  nan,  nan],\n",
       "       [ nan,  nan,  nan,  nan,  nan,  nan,  nan,  nan,  nan,  nan,  nan,\n",
       "         nan,  nan,  nan,  nan],\n",
       "       [ nan,  nan,  nan,  nan,  nan,  nan,  nan,  nan,  nan,  nan,  nan,\n",
       "         nan,  nan,  nan,  nan],\n",
       "       [ nan,  nan,  nan,  nan,  nan,  nan,  nan,  nan,  nan,  nan,  nan,\n",
       "         nan,  nan,  nan,  nan],\n",
       "       [ nan,  nan,  nan,  nan,  nan,  nan,  nan,  nan,  nan,  nan,  nan,\n",
       "         nan,  nan,  nan,  nan],\n",
       "       [ nan,  nan,  nan,  nan,  nan,  nan,  nan,  nan,  nan,  nan,  nan,\n",
       "         nan,  nan,  nan,  nan],\n",
       "       [ nan,  nan,  nan,  nan,  nan,  nan,  nan,  nan,  nan,  nan,  nan,\n",
       "         nan,  nan,  nan,  nan],\n",
       "       [ nan,  nan,  nan,  nan,  nan,  nan,  nan,  nan,  nan,  nan,  nan,\n",
       "         nan,  nan,  nan,  nan],\n",
       "       [ nan,  nan,  nan,  nan,  nan,  nan,  nan,  nan,  nan,  nan,  nan,\n",
       "         nan,  nan,  nan,  nan],\n",
       "       [ nan,  nan,  nan,  nan,  nan,  nan,  nan,  nan,  nan,  nan,  nan,\n",
       "         nan,  nan,  nan,  nan],\n",
       "       [ nan,  nan,  nan,  nan,  nan,  nan,  nan,  nan,  nan,  nan,  nan,\n",
       "         nan,  nan,  nan,  nan],\n",
       "       [ nan,  nan,  nan,  nan,  nan,  nan,  nan,  nan,  nan,  nan,  nan,\n",
       "         nan,  nan,  nan,  nan]])"
      ]
     },
     "execution_count": 60,
     "metadata": {},
     "output_type": "execute_result"
    }
   ],
   "source": [
    "cm"
   ]
  },
  {
   "cell_type": "code",
   "execution_count": null,
   "metadata": {
    "collapsed": true
   },
   "outputs": [],
   "source": []
  },
  {
   "cell_type": "code",
   "execution_count": null,
   "metadata": {
    "collapsed": true
   },
   "outputs": [],
   "source": []
  },
  {
   "cell_type": "code",
   "execution_count": null,
   "metadata": {
    "collapsed": true
   },
   "outputs": [],
   "source": []
  },
  {
   "cell_type": "code",
   "execution_count": null,
   "metadata": {
    "collapsed": true
   },
   "outputs": [],
   "source": []
  },
  {
   "cell_type": "code",
   "execution_count": null,
   "metadata": {
    "collapsed": true
   },
   "outputs": [],
   "source": []
  }
 ],
 "metadata": {
  "kernelspec": {
   "display_name": "Python 3",
   "language": "python",
   "name": "python3"
  },
  "language_info": {
   "codemirror_mode": {
    "name": "ipython",
    "version": 3
   },
   "file_extension": ".py",
   "mimetype": "text/x-python",
   "name": "python",
   "nbconvert_exporter": "python",
   "pygments_lexer": "ipython3",
   "version": "3.6.3"
  }
 },
 "nbformat": 4,
 "nbformat_minor": 2
}
